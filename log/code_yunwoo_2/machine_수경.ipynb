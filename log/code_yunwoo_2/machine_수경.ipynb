{
 "cells": [
  {
   "cell_type": "code",
   "execution_count": 4,
   "id": "0df83970",
   "metadata": {},
   "outputs": [],
   "source": [
    "import os\n",
    "import pandas as pd\n"
   ]
  },
  {
   "cell_type": "code",
   "execution_count": 5,
   "id": "2df08b72",
   "metadata": {},
   "outputs": [],
   "source": [
    "# 모든 컬럼이 표시되도록 max_columns 의 수를 지정합니다.\n",
    "pd.options.display.max_columns = 94"
   ]
  },
  {
   "cell_type": "code",
   "execution_count": 6,
   "id": "634b8afe",
   "metadata": {},
   "outputs": [],
   "source": [
    "path = f'dataset/수경/'\n",
    "file_list = os.listdir(path)\n",
    "file_list_py = [file for file in file_list if file.endswith('.xlsx')]\n",
    "file_list_py += [file for file in file_list if file.endswith('.xls')]\n",
    "# data = pd.DataFrame()\n",
    "# data1 = pd.DataFrame()\n",
    "\n",
    "# for j in file_list_py:\n",
    "#     if str(j)[-7:-5] == \"딸기\":\n",
    "#         df = pd.read_excel(path + j)\n",
    "#         data1 = pd.concat([data1, df])\n",
    "    \n",
    "#     else:\n",
    "#         df = pd.read_excel(path + j)\n",
    "#         data = pd.concat([data, df])\n",
    "\n",
    "cnt = 0\n",
    "for i in file_list_py:\n",
    "    globals()['df_{}'.format(cnt)] = pd.read_excel(path + i)\n",
    "    cnt += 1"
   ]
  },
  {
   "cell_type": "code",
   "execution_count": 7,
   "id": "f9e10385",
   "metadata": {},
   "outputs": [
    {
     "data": {
      "text/plain": [
       "(6545, 86)"
      ]
     },
     "execution_count": 7,
     "metadata": {},
     "output_type": "execute_result"
    }
   ],
   "source": [
    "df_0.shape"
   ]
  },
  {
   "cell_type": "code",
   "execution_count": 12,
   "id": "a228ccee",
   "metadata": {},
   "outputs": [
    {
     "data": {
      "text/plain": [
       "Index(['시설ID', '농가명', '시도', '시군구', '품목명', '품종', '재배면적', '시설유형', '재배형태',\n",
       "       '단동/연동 구분', '수집일', '외부온도', '외부습도', '외부 일사량', '외부풍향', '외부풍속', '외부강우',\n",
       "       '강우감지', '내부온도', '내부습도', '내부CO2', '내부 일사량', '토양EC', '토양PH', '지온', '지습',\n",
       "       '(양액)총배액', '(양액)총급액', '(양액)배액PH', '(양액)공급PH', '(양액)배액EC', '(양액)공급EC',\n",
       "       '(양액)지온', '(양액)지습', '배기팬작동여부', 'CO2발생장치작동여부', '보광등작동여부', '난방기작동상태',\n",
       "       '난방기작동여부', '유동팬작동상태', '유동팬작동여부', '보온커튼작동상태', '보온커튼작동여부', '차광커튼작동상태',\n",
       "       '차광커튼작동여부', '우측삼중측창 작동여부', '좌측삼중측창 작동여부', '우측이중측창 작동여부', '좌측이중측창 작동여부',\n",
       "       '우측일중측창 개도', '우측일중측창 온도폭', '우측일중측창 설정온도', '우측일중측창 작동여부', '우측일중측창 작동상태',\n",
       "       '좌측일중측창 개도', '좌측일중측창 온도폭', '좌측일중측창 설정온도', '좌측일중측창 작동여부', '좌측일중측창 작동상태',\n",
       "       '측창', '우측이중천창 작동여부', '좌측이중천창 작동여부', '우측일중천창 개도', '우측일중천창 온도폭',\n",
       "       '우측일중천창 설정온도', '우측일중천창 작동여부', '우측일중천창 작동상태', '좌측일중천창 개도', '좌측일중천창 온도폭',\n",
       "       '좌측일중천창 설정온도', '좌측일중천창 작동여부', '좌측일중천창 작동상태', '천창', '조사일', '주차', '생장길이',\n",
       "       '엽수', '엽장', '엽폭', '줄기직경', '화방높이', '개화마디(화방)', '착과마디(화방)', '착과수', '열매수',\n",
       "       '최종화방차수'],\n",
       "      dtype='object')"
      ]
     },
     "execution_count": 12,
     "metadata": {},
     "output_type": "execute_result"
    }
   ],
   "source": [
    "df_0.columns"
   ]
  },
  {
   "cell_type": "code",
   "execution_count": 13,
   "id": "0f4edaa2",
   "metadata": {},
   "outputs": [
    {
     "data": {
      "text/plain": [
       "(2779, 85)"
      ]
     },
     "execution_count": 13,
     "metadata": {},
     "output_type": "execute_result"
    }
   ],
   "source": [
    "df_1.shape"
   ]
  },
  {
   "cell_type": "code",
   "execution_count": 14,
   "id": "a4f28543",
   "metadata": {},
   "outputs": [
    {
     "data": {
      "text/plain": [
       "(5255, 84)"
      ]
     },
     "execution_count": 14,
     "metadata": {},
     "output_type": "execute_result"
    }
   ],
   "source": [
    "df_2.shape"
   ]
  },
  {
   "cell_type": "code",
   "execution_count": 15,
   "id": "d6a6b786",
   "metadata": {},
   "outputs": [
    {
     "data": {
      "text/plain": [
       "(3310, 84)"
      ]
     },
     "execution_count": 15,
     "metadata": {},
     "output_type": "execute_result"
    }
   ],
   "source": [
    "df_3.shape"
   ]
  },
  {
   "cell_type": "code",
   "execution_count": 16,
   "id": "3b238eb5",
   "metadata": {},
   "outputs": [
    {
     "data": {
      "text/plain": [
       "(3778, 85)"
      ]
     },
     "execution_count": 16,
     "metadata": {},
     "output_type": "execute_result"
    }
   ],
   "source": [
    "df_4.shape"
   ]
  },
  {
   "cell_type": "code",
   "execution_count": 17,
   "id": "c5b3858a",
   "metadata": {},
   "outputs": [],
   "source": [
    "def drop_df(df):\n",
    "    df = df.drop(['시설ID', '농가명', '시도', '시군구', '품종', '재배면적', '토양EC', '토양PH', '지온', '지습',\n",
    "       '(양액)총배액', '(양액)총급액', '(양액)배액PH', '(양액)공급PH', '(양액)배액EC', '(양액)공급EC',\n",
    "       '(양액)지온', '(양액)지습', '배기팬작동여부', 'CO2발생장치작동여부', '보광등작동여부', '난방기작동상태',\n",
    "       '난방기작동여부', '유동팬작동상태', '유동팬작동여부', '보온커튼작동상태', '보온커튼작동여부', '차광커튼작동상태',\n",
    "       '차광커튼작동여부', '우측삼중측창 작동여부', '좌측삼중측창 작동여부', '우측이중측창 작동여부', '좌측이중측창 작동여부',\n",
    "       '우측일중측창 개도', '우측일중측창 온도폭', '우측일중측창 설정온도', '우측일중측창 작동여부', '우측일중측창 작동상태',\n",
    "       '좌측일중측창 개도', '좌측일중측창 온도폭', '좌측일중측창 설정온도', '좌측일중측창 작동여부', '좌측일중측창 작동상태',\n",
    "       '측창', '우측이중천창 작동여부', '좌측이중천창 작동여부', '우측일중천창 개도', '우측일중천창 온도폭',\n",
    "       '우측일중천창 설정온도', '우측일중천창 작동여부', '우측일중천창 작동상태', '좌측일중천창 개도', '좌측일중천창 온도폭',\n",
    "       '좌측일중천창 설정온도', '좌측일중천창 작동여부', '좌측일중천창 작동상태', '천창'], axis = 1)\n",
    "    return df"
   ]
  },
  {
   "cell_type": "code",
   "execution_count": 18,
   "id": "f490627f",
   "metadata": {},
   "outputs": [],
   "source": [
    "df_0 = drop_df(df_0)"
   ]
  },
  {
   "cell_type": "code",
   "execution_count": 19,
   "id": "4cbe65d9",
   "metadata": {},
   "outputs": [],
   "source": [
    "df_1 = drop_df(df_1)"
   ]
  },
  {
   "cell_type": "code",
   "execution_count": 20,
   "id": "b89ac15c",
   "metadata": {},
   "outputs": [],
   "source": [
    "df_2 = drop_df(df_2)"
   ]
  },
  {
   "cell_type": "code",
   "execution_count": 21,
   "id": "f907d10e",
   "metadata": {},
   "outputs": [],
   "source": [
    "df_3 = drop_df(df_3)"
   ]
  },
  {
   "cell_type": "code",
   "execution_count": 22,
   "id": "d56644bf",
   "metadata": {},
   "outputs": [],
   "source": [
    "df_4 = drop_df(df_4)"
   ]
  },
  {
   "cell_type": "code",
   "execution_count": 23,
   "id": "05ba09b3",
   "metadata": {},
   "outputs": [
    {
     "data": {
      "text/plain": [
       "Index(['품목명', '시설유형', '재배형태', '단동/연동 구분', '수집일', '외부온도', '외부습도', '외부 일사량',\n",
       "       '외부풍향', '외부풍속', '외부강우', '강우감지', '내부온도', '내부습도', '내부CO2', '내부 일사량',\n",
       "       '조사일', '주차', '생장길이', '엽수', '엽장', '엽폭', '줄기직경', '화방높이', '개화마디(화방)',\n",
       "       '착과마디(화방)', '착과수', '열매수', '최종화방차수'],\n",
       "      dtype='object')"
      ]
     },
     "execution_count": 23,
     "metadata": {},
     "output_type": "execute_result"
    }
   ],
   "source": [
    "df_0.columns"
   ]
  },
  {
   "cell_type": "code",
   "execution_count": 24,
   "id": "4aef84f5",
   "metadata": {},
   "outputs": [
    {
     "data": {
      "text/plain": [
       "Index(['품목명', '시설유형', '재배형태', '단동/연동 구분', '수집일', '외부온도', '외부습도', '외부 일사량',\n",
       "       '외부풍향', '외부풍속', '외부강우', '강우감지', '내부온도', '내부습도', '내부CO2', '내부 일사량',\n",
       "       '조사일', '주차', '생장길이', '화방높이', '줄기직경', '엽장', '엽폭', '엽수', '개화군', '착과군',\n",
       "       '열매수', '최종화방차수'],\n",
       "      dtype='object')"
      ]
     },
     "execution_count": 24,
     "metadata": {},
     "output_type": "execute_result"
    }
   ],
   "source": [
    "df_1.columns"
   ]
  },
  {
   "cell_type": "code",
   "execution_count": 25,
   "id": "44dec2a0",
   "metadata": {},
   "outputs": [
    {
     "data": {
      "text/plain": [
       "Index(['품목명', '시설유형', '재배형태', '단동/연동 구분', '수집일', '외부온도', '외부습도', '외부 일사량',\n",
       "       '외부풍향', '외부풍속', '외부강우', '강우감지', '내부온도', '내부습도', '내부CO2', '내부 일사량',\n",
       "       '조사일', '주차', '초장', '마디수', '엽장', '엽폭', '엽수', '줄기직경', '암꽃수', '열매수',\n",
       "       '최종화방차수'],\n",
       "      dtype='object')"
      ]
     },
     "execution_count": 25,
     "metadata": {},
     "output_type": "execute_result"
    }
   ],
   "source": [
    "df_2.columns"
   ]
  },
  {
   "cell_type": "code",
   "execution_count": 26,
   "id": "f825c667",
   "metadata": {},
   "outputs": [
    {
     "data": {
      "text/plain": [
       "Index(['품목명', '시설유형', '재배형태', '단동/연동 구분', '수집일', '외부온도', '외부습도', '외부 일사량',\n",
       "       '외부풍향', '외부풍속', '외부강우', '강우감지', '내부온도', '내부습도', '내부CO2', '내부 일사량',\n",
       "       '조사일', '주차', '초장', '엽장', '엽폭', '엽병장', '엽수', '관부직경', '화방 꽃수(소화수)', '착과수',\n",
       "       '최종화방차수'],\n",
       "      dtype='object')"
      ]
     },
     "execution_count": 26,
     "metadata": {},
     "output_type": "execute_result"
    }
   ],
   "source": [
    "df_3.columns"
   ]
  },
  {
   "cell_type": "code",
   "execution_count": 27,
   "id": "fd76c7ac",
   "metadata": {},
   "outputs": [
    {
     "data": {
      "text/plain": [
       "Index(['품목명', '시설유형', '재배형태', '단동/연동 구분', '수집일', '외부온도', '외부습도', '외부 일사량',\n",
       "       '외부풍향', '외부풍속', '외부강우', '강우감지', '내부온도', '내부습도', '내부CO2', '내부 일사량',\n",
       "       '조사일', '주차', '생장길이', '화방높이', '줄기직경', '엽장', '엽폭', '엽수', '개화군', '착과군',\n",
       "       '열매수', '최종화방차수'],\n",
       "      dtype='object')"
      ]
     },
     "execution_count": 27,
     "metadata": {},
     "output_type": "execute_result"
    }
   ],
   "source": [
    "df_4.columns"
   ]
  },
  {
   "cell_type": "code",
   "execution_count": 32,
   "id": "31c02bd4",
   "metadata": {},
   "outputs": [
    {
     "data": {
      "text/plain": [
       "True"
      ]
     },
     "execution_count": 32,
     "metadata": {},
     "output_type": "execute_result"
    }
   ],
   "source": [
    "'열매수' in df_0.columns"
   ]
  },
  {
   "cell_type": "code",
   "execution_count": null,
   "id": "17e33b90",
   "metadata": {},
   "outputs": [],
   "source": []
  }
 ],
 "metadata": {
  "kernelspec": {
   "display_name": "Python 3 (ipykernel)",
   "language": "python",
   "name": "python3"
  },
  "language_info": {
   "codemirror_mode": {
    "name": "ipython",
    "version": 3
   },
   "file_extension": ".py",
   "mimetype": "text/x-python",
   "name": "python",
   "nbconvert_exporter": "python",
   "pygments_lexer": "ipython3",
   "version": "3.8.10"
  }
 },
 "nbformat": 4,
 "nbformat_minor": 5
}
