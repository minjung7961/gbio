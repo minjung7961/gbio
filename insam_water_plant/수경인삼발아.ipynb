{
 "cells": [
  {
   "cell_type": "markdown",
   "metadata": {
    "id": "Ygbvc_b1H-DG"
   },
   "source": [
    "# 수경인삼 발아"
   ]
  },
  {
   "cell_type": "raw",
   "metadata": {
    "colab": {
     "base_uri": "https://localhost:8080/"
    },
    "executionInfo": {
     "elapsed": 283,
     "status": "ok",
     "timestamp": 1627260738798,
     "user": {
      "displayName": "정연우",
      "photoUrl": "",
      "userId": "10457408909297065633"
     },
     "user_tz": -540
    },
    "id": "bD7NhgIgIMwX",
    "outputId": "e824b735-dcdf-4789-86a8-c922b121c3a4"
   },
   "source": [
    "import os\n",
    "os.chdir(\"/content/drive/MyDrive/Colab Notebooks/지바이오프로젝트\")\n",
    "!ls"
   ]
  },
  {
   "cell_type": "code",
   "execution_count": 1,
   "metadata": {
    "colab": {
     "base_uri": "https://localhost:8080/",
     "height": 623
    },
    "executionInfo": {
     "elapsed": 52,
     "status": "ok",
     "timestamp": 1627260739371,
     "user": {
      "displayName": "정연우",
      "photoUrl": "",
      "userId": "10457408909297065633"
     },
     "user_tz": -540
    },
    "id": "7JsHUOjiHvBW",
    "outputId": "07860a5b-e7b9-4287-cfcc-c01fd6924cda"
   },
   "outputs": [
    {
     "data": {
      "text/html": [
       "<div>\n",
       "<style scoped>\n",
       "    .dataframe tbody tr th:only-of-type {\n",
       "        vertical-align: middle;\n",
       "    }\n",
       "\n",
       "    .dataframe tbody tr th {\n",
       "        vertical-align: top;\n",
       "    }\n",
       "\n",
       "    .dataframe thead th {\n",
       "        text-align: right;\n",
       "    }\n",
       "</style>\n",
       "<table border=\"1\" class=\"dataframe\">\n",
       "  <thead>\n",
       "    <tr style=\"text-align: right;\">\n",
       "      <th></th>\n",
       "      <th>2020년</th>\n",
       "      <th>업무</th>\n",
       "      <th>실내습도(%)</th>\n",
       "      <th>실내온도(℃)</th>\n",
       "      <th>pH</th>\n",
       "      <th>EC</th>\n",
       "      <th>수온(℃)</th>\n",
       "      <th>광시간(명/암)</th>\n",
       "      <th>수온(℃)보정</th>\n",
       "      <th>pH보정</th>\n",
       "      <th>EC보정</th>\n",
       "      <th>기타</th>\n",
       "      <th>Unnamed: 12</th>\n",
       "    </tr>\n",
       "  </thead>\n",
       "  <tbody>\n",
       "    <tr>\n",
       "      <th>0</th>\n",
       "      <td>01월 01일</td>\n",
       "      <td>NaN</td>\n",
       "      <td>NaN</td>\n",
       "      <td>NaN</td>\n",
       "      <td>NaN</td>\n",
       "      <td>NaN</td>\n",
       "      <td>NaN</td>\n",
       "      <td>NaN</td>\n",
       "      <td>NaN</td>\n",
       "      <td>NaN</td>\n",
       "      <td>NaN</td>\n",
       "      <td>NaN</td>\n",
       "      <td>NaN</td>\n",
       "    </tr>\n",
       "    <tr>\n",
       "      <th>1</th>\n",
       "      <td>01월 02일</td>\n",
       "      <td>NaN</td>\n",
       "      <td>NaN</td>\n",
       "      <td>NaN</td>\n",
       "      <td>NaN</td>\n",
       "      <td>NaN</td>\n",
       "      <td>NaN</td>\n",
       "      <td>NaN</td>\n",
       "      <td>NaN</td>\n",
       "      <td>NaN</td>\n",
       "      <td>NaN</td>\n",
       "      <td>NaN</td>\n",
       "      <td>NaN</td>\n",
       "    </tr>\n",
       "    <tr>\n",
       "      <th>2</th>\n",
       "      <td>01월 03일</td>\n",
       "      <td>NaN</td>\n",
       "      <td>NaN</td>\n",
       "      <td>NaN</td>\n",
       "      <td>NaN</td>\n",
       "      <td>NaN</td>\n",
       "      <td>NaN</td>\n",
       "      <td>NaN</td>\n",
       "      <td>NaN</td>\n",
       "      <td>NaN</td>\n",
       "      <td>NaN</td>\n",
       "      <td>NaN</td>\n",
       "      <td>NaN</td>\n",
       "    </tr>\n",
       "    <tr>\n",
       "      <th>3</th>\n",
       "      <td>01월 04일</td>\n",
       "      <td>NaN</td>\n",
       "      <td>NaN</td>\n",
       "      <td>NaN</td>\n",
       "      <td>NaN</td>\n",
       "      <td>NaN</td>\n",
       "      <td>NaN</td>\n",
       "      <td>NaN</td>\n",
       "      <td>NaN</td>\n",
       "      <td>NaN</td>\n",
       "      <td>NaN</td>\n",
       "      <td>NaN</td>\n",
       "      <td>NaN</td>\n",
       "    </tr>\n",
       "    <tr>\n",
       "      <th>4</th>\n",
       "      <td>01월 05일</td>\n",
       "      <td>NaN</td>\n",
       "      <td>NaN</td>\n",
       "      <td>NaN</td>\n",
       "      <td>NaN</td>\n",
       "      <td>NaN</td>\n",
       "      <td>NaN</td>\n",
       "      <td>NaN</td>\n",
       "      <td>NaN</td>\n",
       "      <td>NaN</td>\n",
       "      <td>NaN</td>\n",
       "      <td>NaN</td>\n",
       "      <td>NaN</td>\n",
       "    </tr>\n",
       "    <tr>\n",
       "      <th>...</th>\n",
       "      <td>...</td>\n",
       "      <td>...</td>\n",
       "      <td>...</td>\n",
       "      <td>...</td>\n",
       "      <td>...</td>\n",
       "      <td>...</td>\n",
       "      <td>...</td>\n",
       "      <td>...</td>\n",
       "      <td>...</td>\n",
       "      <td>...</td>\n",
       "      <td>...</td>\n",
       "      <td>...</td>\n",
       "      <td>...</td>\n",
       "    </tr>\n",
       "    <tr>\n",
       "      <th>393</th>\n",
       "      <td>01월 27일</td>\n",
       "      <td>NaN</td>\n",
       "      <td>NaN</td>\n",
       "      <td>NaN</td>\n",
       "      <td>NaN</td>\n",
       "      <td>NaN</td>\n",
       "      <td>NaN</td>\n",
       "      <td>NaN</td>\n",
       "      <td>NaN</td>\n",
       "      <td>NaN</td>\n",
       "      <td>NaN</td>\n",
       "      <td>NaN</td>\n",
       "      <td>NaN</td>\n",
       "    </tr>\n",
       "    <tr>\n",
       "      <th>394</th>\n",
       "      <td>01월 28일</td>\n",
       "      <td>NaN</td>\n",
       "      <td>NaN</td>\n",
       "      <td>NaN</td>\n",
       "      <td>NaN</td>\n",
       "      <td>NaN</td>\n",
       "      <td>NaN</td>\n",
       "      <td>NaN</td>\n",
       "      <td>NaN</td>\n",
       "      <td>NaN</td>\n",
       "      <td>NaN</td>\n",
       "      <td>NaN</td>\n",
       "      <td>NaN</td>\n",
       "    </tr>\n",
       "    <tr>\n",
       "      <th>395</th>\n",
       "      <td>01월 29일</td>\n",
       "      <td>NaN</td>\n",
       "      <td>NaN</td>\n",
       "      <td>NaN</td>\n",
       "      <td>NaN</td>\n",
       "      <td>NaN</td>\n",
       "      <td>NaN</td>\n",
       "      <td>NaN</td>\n",
       "      <td>NaN</td>\n",
       "      <td>NaN</td>\n",
       "      <td>NaN</td>\n",
       "      <td>NaN</td>\n",
       "      <td>NaN</td>\n",
       "    </tr>\n",
       "    <tr>\n",
       "      <th>396</th>\n",
       "      <td>01월 30일</td>\n",
       "      <td>NaN</td>\n",
       "      <td>NaN</td>\n",
       "      <td>NaN</td>\n",
       "      <td>NaN</td>\n",
       "      <td>NaN</td>\n",
       "      <td>NaN</td>\n",
       "      <td>NaN</td>\n",
       "      <td>NaN</td>\n",
       "      <td>NaN</td>\n",
       "      <td>NaN</td>\n",
       "      <td>NaN</td>\n",
       "      <td>NaN</td>\n",
       "    </tr>\n",
       "    <tr>\n",
       "      <th>397</th>\n",
       "      <td>01월 31일</td>\n",
       "      <td>NaN</td>\n",
       "      <td>NaN</td>\n",
       "      <td>NaN</td>\n",
       "      <td>NaN</td>\n",
       "      <td>NaN</td>\n",
       "      <td>NaN</td>\n",
       "      <td>NaN</td>\n",
       "      <td>NaN</td>\n",
       "      <td>NaN</td>\n",
       "      <td>NaN</td>\n",
       "      <td>NaN</td>\n",
       "      <td>NaN</td>\n",
       "    </tr>\n",
       "  </tbody>\n",
       "</table>\n",
       "<p>398 rows × 13 columns</p>\n",
       "</div>"
      ],
      "text/plain": [
       "       2020년   업무 실내습도(%) 실내온도(℃)   pH   EC 수온(℃) 광시간(명/암) 수온(℃)보정 pH보정 EC보정  \\\n",
       "0    01월 01일  NaN     NaN     NaN  NaN  NaN   NaN      NaN     NaN  NaN  NaN   \n",
       "1    01월 02일  NaN     NaN     NaN  NaN  NaN   NaN      NaN     NaN  NaN  NaN   \n",
       "2    01월 03일  NaN     NaN     NaN  NaN  NaN   NaN      NaN     NaN  NaN  NaN   \n",
       "3    01월 04일  NaN     NaN     NaN  NaN  NaN   NaN      NaN     NaN  NaN  NaN   \n",
       "4    01월 05일  NaN     NaN     NaN  NaN  NaN   NaN      NaN     NaN  NaN  NaN   \n",
       "..       ...  ...     ...     ...  ...  ...   ...      ...     ...  ...  ...   \n",
       "393  01월 27일  NaN     NaN     NaN  NaN  NaN   NaN      NaN     NaN  NaN  NaN   \n",
       "394  01월 28일  NaN     NaN     NaN  NaN  NaN   NaN      NaN     NaN  NaN  NaN   \n",
       "395  01월 29일  NaN     NaN     NaN  NaN  NaN   NaN      NaN     NaN  NaN  NaN   \n",
       "396  01월 30일  NaN     NaN     NaN  NaN  NaN   NaN      NaN     NaN  NaN  NaN   \n",
       "397  01월 31일  NaN     NaN     NaN  NaN  NaN   NaN      NaN     NaN  NaN  NaN   \n",
       "\n",
       "      기타 Unnamed: 12  \n",
       "0    NaN         NaN  \n",
       "1    NaN         NaN  \n",
       "2    NaN         NaN  \n",
       "3    NaN         NaN  \n",
       "4    NaN         NaN  \n",
       "..   ...         ...  \n",
       "393  NaN         NaN  \n",
       "394  NaN         NaN  \n",
       "395  NaN         NaN  \n",
       "396  NaN         NaN  \n",
       "397  NaN         NaN  \n",
       "\n",
       "[398 rows x 13 columns]"
      ]
     },
     "execution_count": 1,
     "metadata": {},
     "output_type": "execute_result"
    }
   ],
   "source": [
    "import pandas as pd\n",
    "\n",
    "df = pd.read_csv(\"dataset/20210716_재배관리일지.csv\", encoding = \"cp949\")\n",
    "df"
   ]
  },
  {
   "cell_type": "code",
   "execution_count": 2,
   "metadata": {
    "colab": {
     "base_uri": "https://localhost:8080/",
     "height": 306
    },
    "executionInfo": {
     "elapsed": 50,
     "status": "ok",
     "timestamp": 1627260739373,
     "user": {
      "displayName": "정연우",
      "photoUrl": "",
      "userId": "10457408909297065633"
     },
     "user_tz": -540
    },
    "id": "jCtuR2GMKW9R",
    "outputId": "0d41381f-44e5-4689-8982-e64608ea7e98"
   },
   "outputs": [
    {
     "data": {
      "text/html": [
       "<div>\n",
       "<style scoped>\n",
       "    .dataframe tbody tr th:only-of-type {\n",
       "        vertical-align: middle;\n",
       "    }\n",
       "\n",
       "    .dataframe tbody tr th {\n",
       "        vertical-align: top;\n",
       "    }\n",
       "\n",
       "    .dataframe thead th {\n",
       "        text-align: right;\n",
       "    }\n",
       "</style>\n",
       "<table border=\"1\" class=\"dataframe\">\n",
       "  <thead>\n",
       "    <tr style=\"text-align: right;\">\n",
       "      <th></th>\n",
       "      <th>2020년</th>\n",
       "      <th>업무</th>\n",
       "      <th>실내습도(%)</th>\n",
       "      <th>실내온도(℃)</th>\n",
       "      <th>pH</th>\n",
       "      <th>EC</th>\n",
       "      <th>수온(℃)</th>\n",
       "      <th>광시간(명/암)</th>\n",
       "      <th>수온(℃)보정</th>\n",
       "      <th>pH보정</th>\n",
       "      <th>EC보정</th>\n",
       "      <th>기타</th>\n",
       "    </tr>\n",
       "  </thead>\n",
       "  <tbody>\n",
       "    <tr>\n",
       "      <th>0</th>\n",
       "      <td>01월 01일</td>\n",
       "      <td>NaN</td>\n",
       "      <td>NaN</td>\n",
       "      <td>NaN</td>\n",
       "      <td>NaN</td>\n",
       "      <td>NaN</td>\n",
       "      <td>NaN</td>\n",
       "      <td>NaN</td>\n",
       "      <td>NaN</td>\n",
       "      <td>NaN</td>\n",
       "      <td>NaN</td>\n",
       "      <td>NaN</td>\n",
       "    </tr>\n",
       "    <tr>\n",
       "      <th>1</th>\n",
       "      <td>01월 02일</td>\n",
       "      <td>NaN</td>\n",
       "      <td>NaN</td>\n",
       "      <td>NaN</td>\n",
       "      <td>NaN</td>\n",
       "      <td>NaN</td>\n",
       "      <td>NaN</td>\n",
       "      <td>NaN</td>\n",
       "      <td>NaN</td>\n",
       "      <td>NaN</td>\n",
       "      <td>NaN</td>\n",
       "      <td>NaN</td>\n",
       "    </tr>\n",
       "    <tr>\n",
       "      <th>2</th>\n",
       "      <td>01월 03일</td>\n",
       "      <td>NaN</td>\n",
       "      <td>NaN</td>\n",
       "      <td>NaN</td>\n",
       "      <td>NaN</td>\n",
       "      <td>NaN</td>\n",
       "      <td>NaN</td>\n",
       "      <td>NaN</td>\n",
       "      <td>NaN</td>\n",
       "      <td>NaN</td>\n",
       "      <td>NaN</td>\n",
       "      <td>NaN</td>\n",
       "    </tr>\n",
       "    <tr>\n",
       "      <th>3</th>\n",
       "      <td>01월 04일</td>\n",
       "      <td>NaN</td>\n",
       "      <td>NaN</td>\n",
       "      <td>NaN</td>\n",
       "      <td>NaN</td>\n",
       "      <td>NaN</td>\n",
       "      <td>NaN</td>\n",
       "      <td>NaN</td>\n",
       "      <td>NaN</td>\n",
       "      <td>NaN</td>\n",
       "      <td>NaN</td>\n",
       "      <td>NaN</td>\n",
       "    </tr>\n",
       "    <tr>\n",
       "      <th>4</th>\n",
       "      <td>01월 05일</td>\n",
       "      <td>NaN</td>\n",
       "      <td>NaN</td>\n",
       "      <td>NaN</td>\n",
       "      <td>NaN</td>\n",
       "      <td>NaN</td>\n",
       "      <td>NaN</td>\n",
       "      <td>NaN</td>\n",
       "      <td>NaN</td>\n",
       "      <td>NaN</td>\n",
       "      <td>NaN</td>\n",
       "      <td>NaN</td>\n",
       "    </tr>\n",
       "  </tbody>\n",
       "</table>\n",
       "</div>"
      ],
      "text/plain": [
       "     2020년   업무 실내습도(%) 실내온도(℃)   pH   EC 수온(℃) 광시간(명/암) 수온(℃)보정 pH보정 EC보정  \\\n",
       "0  01월 01일  NaN     NaN     NaN  NaN  NaN   NaN      NaN     NaN  NaN  NaN   \n",
       "1  01월 02일  NaN     NaN     NaN  NaN  NaN   NaN      NaN     NaN  NaN  NaN   \n",
       "2  01월 03일  NaN     NaN     NaN  NaN  NaN   NaN      NaN     NaN  NaN  NaN   \n",
       "3  01월 04일  NaN     NaN     NaN  NaN  NaN   NaN      NaN     NaN  NaN  NaN   \n",
       "4  01월 05일  NaN     NaN     NaN  NaN  NaN   NaN      NaN     NaN  NaN  NaN   \n",
       "\n",
       "    기타  \n",
       "0  NaN  \n",
       "1  NaN  \n",
       "2  NaN  \n",
       "3  NaN  \n",
       "4  NaN  "
      ]
     },
     "execution_count": 2,
     "metadata": {},
     "output_type": "execute_result"
    }
   ],
   "source": [
    "df = df.drop(\"Unnamed: 12\", axis = 1)# 필요없는값이라 삭제\n",
    "df.head()"
   ]
  },
  {
   "cell_type": "code",
   "execution_count": 3,
   "metadata": {
    "colab": {
     "base_uri": "https://localhost:8080/",
     "height": 306
    },
    "executionInfo": {
     "elapsed": 50,
     "status": "ok",
     "timestamp": 1627260739374,
     "user": {
      "displayName": "정연우",
      "photoUrl": "",
      "userId": "10457408909297065633"
     },
     "user_tz": -540
    },
    "id": "KVnFxR5VRGBy",
    "outputId": "291e2e17-6606-4184-abe8-220e32000020",
    "scrolled": false
   },
   "outputs": [
    {
     "data": {
      "text/html": [
       "<div>\n",
       "<style scoped>\n",
       "    .dataframe tbody tr th:only-of-type {\n",
       "        vertical-align: middle;\n",
       "    }\n",
       "\n",
       "    .dataframe tbody tr th {\n",
       "        vertical-align: top;\n",
       "    }\n",
       "\n",
       "    .dataframe thead th {\n",
       "        text-align: right;\n",
       "    }\n",
       "</style>\n",
       "<table border=\"1\" class=\"dataframe\">\n",
       "  <thead>\n",
       "    <tr style=\"text-align: right;\">\n",
       "      <th></th>\n",
       "      <th>일자</th>\n",
       "      <th>업무</th>\n",
       "      <th>실내습도(%)</th>\n",
       "      <th>실내온도(℃)</th>\n",
       "      <th>pH</th>\n",
       "      <th>EC</th>\n",
       "      <th>수온(℃)</th>\n",
       "      <th>광시간(명/암)</th>\n",
       "      <th>수온(℃)보정</th>\n",
       "      <th>pH보정</th>\n",
       "      <th>EC보정</th>\n",
       "      <th>기타</th>\n",
       "    </tr>\n",
       "  </thead>\n",
       "  <tbody>\n",
       "    <tr>\n",
       "      <th>0</th>\n",
       "      <td>01월 01일</td>\n",
       "      <td>NaN</td>\n",
       "      <td>NaN</td>\n",
       "      <td>NaN</td>\n",
       "      <td>NaN</td>\n",
       "      <td>NaN</td>\n",
       "      <td>NaN</td>\n",
       "      <td>NaN</td>\n",
       "      <td>NaN</td>\n",
       "      <td>NaN</td>\n",
       "      <td>NaN</td>\n",
       "      <td>NaN</td>\n",
       "    </tr>\n",
       "    <tr>\n",
       "      <th>1</th>\n",
       "      <td>01월 02일</td>\n",
       "      <td>NaN</td>\n",
       "      <td>NaN</td>\n",
       "      <td>NaN</td>\n",
       "      <td>NaN</td>\n",
       "      <td>NaN</td>\n",
       "      <td>NaN</td>\n",
       "      <td>NaN</td>\n",
       "      <td>NaN</td>\n",
       "      <td>NaN</td>\n",
       "      <td>NaN</td>\n",
       "      <td>NaN</td>\n",
       "    </tr>\n",
       "    <tr>\n",
       "      <th>2</th>\n",
       "      <td>01월 03일</td>\n",
       "      <td>NaN</td>\n",
       "      <td>NaN</td>\n",
       "      <td>NaN</td>\n",
       "      <td>NaN</td>\n",
       "      <td>NaN</td>\n",
       "      <td>NaN</td>\n",
       "      <td>NaN</td>\n",
       "      <td>NaN</td>\n",
       "      <td>NaN</td>\n",
       "      <td>NaN</td>\n",
       "      <td>NaN</td>\n",
       "    </tr>\n",
       "    <tr>\n",
       "      <th>3</th>\n",
       "      <td>01월 04일</td>\n",
       "      <td>NaN</td>\n",
       "      <td>NaN</td>\n",
       "      <td>NaN</td>\n",
       "      <td>NaN</td>\n",
       "      <td>NaN</td>\n",
       "      <td>NaN</td>\n",
       "      <td>NaN</td>\n",
       "      <td>NaN</td>\n",
       "      <td>NaN</td>\n",
       "      <td>NaN</td>\n",
       "      <td>NaN</td>\n",
       "    </tr>\n",
       "    <tr>\n",
       "      <th>4</th>\n",
       "      <td>01월 05일</td>\n",
       "      <td>NaN</td>\n",
       "      <td>NaN</td>\n",
       "      <td>NaN</td>\n",
       "      <td>NaN</td>\n",
       "      <td>NaN</td>\n",
       "      <td>NaN</td>\n",
       "      <td>NaN</td>\n",
       "      <td>NaN</td>\n",
       "      <td>NaN</td>\n",
       "      <td>NaN</td>\n",
       "      <td>NaN</td>\n",
       "    </tr>\n",
       "  </tbody>\n",
       "</table>\n",
       "</div>"
      ],
      "text/plain": [
       "        일자   업무 실내습도(%) 실내온도(℃)   pH   EC 수온(℃) 광시간(명/암) 수온(℃)보정 pH보정 EC보정  \\\n",
       "0  01월 01일  NaN     NaN     NaN  NaN  NaN   NaN      NaN     NaN  NaN  NaN   \n",
       "1  01월 02일  NaN     NaN     NaN  NaN  NaN   NaN      NaN     NaN  NaN  NaN   \n",
       "2  01월 03일  NaN     NaN     NaN  NaN  NaN   NaN      NaN     NaN  NaN  NaN   \n",
       "3  01월 04일  NaN     NaN     NaN  NaN  NaN   NaN      NaN     NaN  NaN  NaN   \n",
       "4  01월 05일  NaN     NaN     NaN  NaN  NaN   NaN      NaN     NaN  NaN  NaN   \n",
       "\n",
       "    기타  \n",
       "0  NaN  \n",
       "1  NaN  \n",
       "2  NaN  \n",
       "3  NaN  \n",
       "4  NaN  "
      ]
     },
     "execution_count": 3,
     "metadata": {},
     "output_type": "execute_result"
    }
   ],
   "source": [
    "df = df.rename(columns={\"2020년\":\"일자\"}) # 2020년 컬럼을 일자로 변경\n",
    "df.head()"
   ]
  },
  {
   "cell_type": "code",
   "execution_count": 4,
   "metadata": {
    "scrolled": false
   },
   "outputs": [
    {
     "data": {
      "text/plain": [
       "array(['01월 01일', '01월 02일', '01월 03일', '01월 04일', '01월 05일', '01월 06일',\n",
       "       '01월 07일', '01월 08일', '01월 09일', '01월 10일', '01월 11일', '01월 12일',\n",
       "       '01월 13일', '01월 14일', '01월 15일', '01월 16일', '01월 17일', '01월 18일',\n",
       "       '01월 19일', '01월 20일', '01월 21일', '01월 22일', '01월 23일', '01월 24일',\n",
       "       '01월 25일', '01월 26일', '01월 27일', '01월 28일', '01월 29일', '01월 30일',\n",
       "       '01월 31일', '02월 01일', '02월 02일', '02월 03일', '02월 04일', '02월 05일',\n",
       "       '02월 06일', '02월 07일', '02월 08일', '02월 09일', '02월 10일', '02월 11일',\n",
       "       '02월 12일', '02월 13일', '02월 14일', '02월 15일', '02월 16일', '02월 17일',\n",
       "       '02월 18일', '02월 19일', '02월 20일', '02월 21일', '02월 22일', '02월 23일',\n",
       "       '02월 24일', '02월 25일', '02월 26일', '02월 27일', '02월 28일', '02월 29일',\n",
       "       '03월 01일', '03월 02일', '03월 03일', '03월 04일', '03월 05일', '03월 06일',\n",
       "       '03월 07일', '03월 08일', '03월 09일', '03월 10일', '03월 11일', '03월 12일',\n",
       "       '03월 13일', '03월 14일', '03월 15일', '03월 16일', '03월 17일', '03월 18일',\n",
       "       '03월 19일', '03월 20일', '03월 21일', '03월 22일', '03월 23일', '03월 24일',\n",
       "       '03월 25일', '03월 26일', '03월 27일', '03월 28일', '03월 29일', '03월 30일',\n",
       "       '03월 31일', '04월 01일', '04월 02일', '04월 03일', '04월 04일', '04월 05일',\n",
       "       '04월 06일', '04월 07일', '04월 08일', '04월 09일', '04월 10일', '04월 11일',\n",
       "       '04월 12일', '04월 13일', '04월 14일', '04월 15일', '04월 16일', '04월 17일',\n",
       "       '04월 18일', '04월 19일', '04월 20일', '04월 21일', '04월 22일', '04월 23일',\n",
       "       '04월 24일', '04월 25일', '04월 26일', '04월 27일', '04월 28일', '04월 29일',\n",
       "       '04월 30일', '05월 01일', '05월 02일', '05월 03일', '05월 04일', '05월 05일',\n",
       "       '05월 06일', '05월 07일', '05월 08일', '05월 09일', '05월 10일', '05월 11일',\n",
       "       '05월 12일', '05월 13일', '05월 14일', '05월 15일', '05월 16일', '05월 17일',\n",
       "       '05월 18일', '05월 19일', '05월 20일', '05월 21일', '05월 22일', '05월 23일',\n",
       "       '05월 24일', '05월 25일', '05월 26일', '05월 27일', '05월 28일', '05월 29일',\n",
       "       '05월 30일', '05월 31일', '06월 01일', '06월 02일', '06월 03일', '06월 04일',\n",
       "       '06월 05일', '06월 06일', '06월 07일', '06월 08일', '06월 09일', '06월 10일',\n",
       "       '06월 11일', '06월 12일', '06월 13일', '06월 14일', '06월 15일', '06월 16일',\n",
       "       '06월 17일', '06월 18일', '06월 19일', '06월 20일', '06월 21일', '06월 22일',\n",
       "       '06월 23일', '06월 24일', '06월 25일', '06월 26일', '06월 27일', '06월 28일',\n",
       "       '06월 29일', '06월 30일', '07월 01일', '07월 02일', '07월 03일', '07월 04일',\n",
       "       '07월 05일', '07월 06일', '07월 07일', '07월 08일', '07월 09일', '07월 10일',\n",
       "       '07월 11일', '07월 12일', '07월 13일', '07월 14일', '07월 15일', '07월 16일',\n",
       "       '07월 17일', '07월 18일', '07월 19일', '07월 20일', '07월 21일', '07월 22일',\n",
       "       '07월 23일', '07월 24일', '07월 25일', '07월 26일', '07월 27일', '07월 28일',\n",
       "       '07월 29일', '07월 30일', '07월 31일', '08월 01일', '08월 02일', '08월 03일',\n",
       "       '08월 04일', '08월 05일', '08월 06일', '08월 07일', '08월 08일', '08월 09일',\n",
       "       '08월 10일', '08월 11일', '08월 12일', '08월 13일', '08월 14일', '08월 15일',\n",
       "       '08월 16일', '08월 17일', '08월 18일', '08월 19일', '08월 20일', '08월 21일',\n",
       "       '08월 22일', '08월 23일', '08월 24일', '08월 25일', '08월 26일', '08월 27일',\n",
       "       '08월 28일', '08월 29일', '08월 30일', '08월 31일', '09월 01일', '09월 02일',\n",
       "       '09월 03일', '09월 04일', '09월 05일', '09월 06일', '09월 07일', '09월 08일',\n",
       "       '09월 09일', '09월 10일', '09월 11일', '09월 12일', '09월 13일', '09월 14일',\n",
       "       '09월 15일', '09월 16일', '09월 17일', '09월 18일', '09월 19일', '09월 20일',\n",
       "       '09월 21일', '09월 22일', '09월 23일', '09월 24일', '09월 25일', '09월 26일',\n",
       "       '09월 27일', '09월 28일', '09월 29일', '09월 30일', '10월 01일', '10월 02일',\n",
       "       '10월 03일', '10월 04일', '10월 05일', '10월 06일', '10월 07일', '10월 08일',\n",
       "       '10월 09일', '10월 10일', '10월 11일', '10월 12일', '10월 13일', '10월 14일',\n",
       "       '10월 15일', '10월 16일', '10월 17일', '10월 18일', '10월 19일', '10월 20일',\n",
       "       '10월 21일', '10월 22일', '10월 23일', '10월 24일', '10월 25일', '10월 26일',\n",
       "       '10월 27일', '10월 28일', '10월 29일', '10월 30일', '10월 31일', '11월 01일',\n",
       "       '11월 02일', '11월 03일', '11월 04일', '11월 05일', '11월 06일', '11월 07일',\n",
       "       '11월 08일', '11월 09일', '11월 10일', '11월 11일', '11월 12일', '11월 13일',\n",
       "       '11월 14일', '11월 15일', '11월 16일', '11월 17일', '11월 18일', '11월 19일',\n",
       "       '11월 20일', '11월 21일', '11월 22일', '11월 23일', '11월 24일', '11월 25일',\n",
       "       '11월 26일', '11월 27일', '11월 28일', '11월 29일', '11월 30일', '12월 01일',\n",
       "       '12월 02일', '12월 03일', '12월 04일', '12월 05일', '12월 06일', '12월 07일',\n",
       "       '12월 08일', '12월 09일', '12월 10일', '12월 11일', '12월 12일', '12월 13일',\n",
       "       '12월 14일', '12월 15일', '12월 16일', '12월 17일', '12월 18일', '12월 19일',\n",
       "       '12월 20일', '12월 21일', '12월 22일', '12월 23일', '12월 24일', '12월 25일',\n",
       "       '12월 26일', '12월 27일', '12월 28일', '12월 29일', '12월 30일', '12월 31일',\n",
       "       '2021년'], dtype=object)"
      ]
     },
     "execution_count": 4,
     "metadata": {},
     "output_type": "execute_result"
    }
   ],
   "source": [
    "df[\"일자\"].unique()"
   ]
  },
  {
   "cell_type": "markdown",
   "metadata": {},
   "source": [
    "* 마지막에 2021년 혼자 튀는 값이 있다 그래서 없애줄것이다"
   ]
  },
  {
   "cell_type": "code",
   "execution_count": 5,
   "metadata": {
    "scrolled": true
   },
   "outputs": [
    {
     "data": {
      "text/html": [
       "<div>\n",
       "<style scoped>\n",
       "    .dataframe tbody tr th:only-of-type {\n",
       "        vertical-align: middle;\n",
       "    }\n",
       "\n",
       "    .dataframe tbody tr th {\n",
       "        vertical-align: top;\n",
       "    }\n",
       "\n",
       "    .dataframe thead th {\n",
       "        text-align: right;\n",
       "    }\n",
       "</style>\n",
       "<table border=\"1\" class=\"dataframe\">\n",
       "  <thead>\n",
       "    <tr style=\"text-align: right;\">\n",
       "      <th></th>\n",
       "      <th>일자</th>\n",
       "      <th>업무</th>\n",
       "      <th>실내습도(%)</th>\n",
       "      <th>실내온도(℃)</th>\n",
       "      <th>pH</th>\n",
       "      <th>EC</th>\n",
       "      <th>수온(℃)</th>\n",
       "      <th>광시간(명/암)</th>\n",
       "      <th>수온(℃)보정</th>\n",
       "      <th>pH보정</th>\n",
       "      <th>EC보정</th>\n",
       "      <th>기타</th>\n",
       "    </tr>\n",
       "  </thead>\n",
       "  <tbody>\n",
       "    <tr>\n",
       "      <th>393</th>\n",
       "      <td>01월 27일</td>\n",
       "      <td>NaN</td>\n",
       "      <td>NaN</td>\n",
       "      <td>NaN</td>\n",
       "      <td>NaN</td>\n",
       "      <td>NaN</td>\n",
       "      <td>NaN</td>\n",
       "      <td>NaN</td>\n",
       "      <td>NaN</td>\n",
       "      <td>NaN</td>\n",
       "      <td>NaN</td>\n",
       "      <td>NaN</td>\n",
       "    </tr>\n",
       "    <tr>\n",
       "      <th>394</th>\n",
       "      <td>01월 28일</td>\n",
       "      <td>NaN</td>\n",
       "      <td>NaN</td>\n",
       "      <td>NaN</td>\n",
       "      <td>NaN</td>\n",
       "      <td>NaN</td>\n",
       "      <td>NaN</td>\n",
       "      <td>NaN</td>\n",
       "      <td>NaN</td>\n",
       "      <td>NaN</td>\n",
       "      <td>NaN</td>\n",
       "      <td>NaN</td>\n",
       "    </tr>\n",
       "    <tr>\n",
       "      <th>395</th>\n",
       "      <td>01월 29일</td>\n",
       "      <td>NaN</td>\n",
       "      <td>NaN</td>\n",
       "      <td>NaN</td>\n",
       "      <td>NaN</td>\n",
       "      <td>NaN</td>\n",
       "      <td>NaN</td>\n",
       "      <td>NaN</td>\n",
       "      <td>NaN</td>\n",
       "      <td>NaN</td>\n",
       "      <td>NaN</td>\n",
       "      <td>NaN</td>\n",
       "    </tr>\n",
       "    <tr>\n",
       "      <th>396</th>\n",
       "      <td>01월 30일</td>\n",
       "      <td>NaN</td>\n",
       "      <td>NaN</td>\n",
       "      <td>NaN</td>\n",
       "      <td>NaN</td>\n",
       "      <td>NaN</td>\n",
       "      <td>NaN</td>\n",
       "      <td>NaN</td>\n",
       "      <td>NaN</td>\n",
       "      <td>NaN</td>\n",
       "      <td>NaN</td>\n",
       "      <td>NaN</td>\n",
       "    </tr>\n",
       "    <tr>\n",
       "      <th>397</th>\n",
       "      <td>01월 31일</td>\n",
       "      <td>NaN</td>\n",
       "      <td>NaN</td>\n",
       "      <td>NaN</td>\n",
       "      <td>NaN</td>\n",
       "      <td>NaN</td>\n",
       "      <td>NaN</td>\n",
       "      <td>NaN</td>\n",
       "      <td>NaN</td>\n",
       "      <td>NaN</td>\n",
       "      <td>NaN</td>\n",
       "      <td>NaN</td>\n",
       "    </tr>\n",
       "  </tbody>\n",
       "</table>\n",
       "</div>"
      ],
      "text/plain": [
       "          일자   업무 실내습도(%) 실내온도(℃)   pH   EC 수온(℃) 광시간(명/암) 수온(℃)보정 pH보정 EC보정  \\\n",
       "393  01월 27일  NaN     NaN     NaN  NaN  NaN   NaN      NaN     NaN  NaN  NaN   \n",
       "394  01월 28일  NaN     NaN     NaN  NaN  NaN   NaN      NaN     NaN  NaN  NaN   \n",
       "395  01월 29일  NaN     NaN     NaN  NaN  NaN   NaN      NaN     NaN  NaN  NaN   \n",
       "396  01월 30일  NaN     NaN     NaN  NaN  NaN   NaN      NaN     NaN  NaN  NaN   \n",
       "397  01월 31일  NaN     NaN     NaN  NaN  NaN   NaN      NaN     NaN  NaN  NaN   \n",
       "\n",
       "      기타  \n",
       "393  NaN  \n",
       "394  NaN  \n",
       "395  NaN  \n",
       "396  NaN  \n",
       "397  NaN  "
      ]
     },
     "execution_count": 5,
     "metadata": {},
     "output_type": "execute_result"
    }
   ],
   "source": [
    "df = df[df[\"일자\"]!=\"2021년\"].copy()\n",
    "df.tail()"
   ]
  },
  {
   "cell_type": "code",
   "execution_count": 6,
   "metadata": {
    "scrolled": true
   },
   "outputs": [
    {
     "data": {
      "text/html": [
       "<div>\n",
       "<style scoped>\n",
       "    .dataframe tbody tr th:only-of-type {\n",
       "        vertical-align: middle;\n",
       "    }\n",
       "\n",
       "    .dataframe tbody tr th {\n",
       "        vertical-align: top;\n",
       "    }\n",
       "\n",
       "    .dataframe thead th {\n",
       "        text-align: right;\n",
       "    }\n",
       "</style>\n",
       "<table border=\"1\" class=\"dataframe\">\n",
       "  <thead>\n",
       "    <tr style=\"text-align: right;\">\n",
       "      <th></th>\n",
       "      <th>index</th>\n",
       "      <th>일자</th>\n",
       "      <th>업무</th>\n",
       "      <th>실내습도(%)</th>\n",
       "      <th>실내온도(℃)</th>\n",
       "      <th>pH</th>\n",
       "      <th>EC</th>\n",
       "      <th>수온(℃)</th>\n",
       "      <th>광시간(명/암)</th>\n",
       "      <th>수온(℃)보정</th>\n",
       "      <th>pH보정</th>\n",
       "      <th>EC보정</th>\n",
       "      <th>기타</th>\n",
       "    </tr>\n",
       "  </thead>\n",
       "  <tbody>\n",
       "    <tr>\n",
       "      <th>392</th>\n",
       "      <td>393</td>\n",
       "      <td>01월 27일</td>\n",
       "      <td>NaN</td>\n",
       "      <td>NaN</td>\n",
       "      <td>NaN</td>\n",
       "      <td>NaN</td>\n",
       "      <td>NaN</td>\n",
       "      <td>NaN</td>\n",
       "      <td>NaN</td>\n",
       "      <td>NaN</td>\n",
       "      <td>NaN</td>\n",
       "      <td>NaN</td>\n",
       "      <td>NaN</td>\n",
       "    </tr>\n",
       "    <tr>\n",
       "      <th>393</th>\n",
       "      <td>394</td>\n",
       "      <td>01월 28일</td>\n",
       "      <td>NaN</td>\n",
       "      <td>NaN</td>\n",
       "      <td>NaN</td>\n",
       "      <td>NaN</td>\n",
       "      <td>NaN</td>\n",
       "      <td>NaN</td>\n",
       "      <td>NaN</td>\n",
       "      <td>NaN</td>\n",
       "      <td>NaN</td>\n",
       "      <td>NaN</td>\n",
       "      <td>NaN</td>\n",
       "    </tr>\n",
       "    <tr>\n",
       "      <th>394</th>\n",
       "      <td>395</td>\n",
       "      <td>01월 29일</td>\n",
       "      <td>NaN</td>\n",
       "      <td>NaN</td>\n",
       "      <td>NaN</td>\n",
       "      <td>NaN</td>\n",
       "      <td>NaN</td>\n",
       "      <td>NaN</td>\n",
       "      <td>NaN</td>\n",
       "      <td>NaN</td>\n",
       "      <td>NaN</td>\n",
       "      <td>NaN</td>\n",
       "      <td>NaN</td>\n",
       "    </tr>\n",
       "    <tr>\n",
       "      <th>395</th>\n",
       "      <td>396</td>\n",
       "      <td>01월 30일</td>\n",
       "      <td>NaN</td>\n",
       "      <td>NaN</td>\n",
       "      <td>NaN</td>\n",
       "      <td>NaN</td>\n",
       "      <td>NaN</td>\n",
       "      <td>NaN</td>\n",
       "      <td>NaN</td>\n",
       "      <td>NaN</td>\n",
       "      <td>NaN</td>\n",
       "      <td>NaN</td>\n",
       "      <td>NaN</td>\n",
       "    </tr>\n",
       "    <tr>\n",
       "      <th>396</th>\n",
       "      <td>397</td>\n",
       "      <td>01월 31일</td>\n",
       "      <td>NaN</td>\n",
       "      <td>NaN</td>\n",
       "      <td>NaN</td>\n",
       "      <td>NaN</td>\n",
       "      <td>NaN</td>\n",
       "      <td>NaN</td>\n",
       "      <td>NaN</td>\n",
       "      <td>NaN</td>\n",
       "      <td>NaN</td>\n",
       "      <td>NaN</td>\n",
       "      <td>NaN</td>\n",
       "    </tr>\n",
       "  </tbody>\n",
       "</table>\n",
       "</div>"
      ],
      "text/plain": [
       "     index       일자   업무 실내습도(%) 실내온도(℃)   pH   EC 수온(℃) 광시간(명/암) 수온(℃)보정  \\\n",
       "392    393  01월 27일  NaN     NaN     NaN  NaN  NaN   NaN      NaN     NaN   \n",
       "393    394  01월 28일  NaN     NaN     NaN  NaN  NaN   NaN      NaN     NaN   \n",
       "394    395  01월 29일  NaN     NaN     NaN  NaN  NaN   NaN      NaN     NaN   \n",
       "395    396  01월 30일  NaN     NaN     NaN  NaN  NaN   NaN      NaN     NaN   \n",
       "396    397  01월 31일  NaN     NaN     NaN  NaN  NaN   NaN      NaN     NaN   \n",
       "\n",
       "    pH보정 EC보정   기타  \n",
       "392  NaN  NaN  NaN  \n",
       "393  NaN  NaN  NaN  \n",
       "394  NaN  NaN  NaN  \n",
       "395  NaN  NaN  NaN  \n",
       "396  NaN  NaN  NaN  "
      ]
     },
     "execution_count": 6,
     "metadata": {},
     "output_type": "execute_result"
    }
   ],
   "source": [
    "df = df.reset_index(inplace=False)\n",
    "df.tail()"
   ]
  },
  {
   "cell_type": "code",
   "execution_count": 7,
   "metadata": {},
   "outputs": [
    {
     "data": {
      "text/html": [
       "<div>\n",
       "<style scoped>\n",
       "    .dataframe tbody tr th:only-of-type {\n",
       "        vertical-align: middle;\n",
       "    }\n",
       "\n",
       "    .dataframe tbody tr th {\n",
       "        vertical-align: top;\n",
       "    }\n",
       "\n",
       "    .dataframe thead th {\n",
       "        text-align: right;\n",
       "    }\n",
       "</style>\n",
       "<table border=\"1\" class=\"dataframe\">\n",
       "  <thead>\n",
       "    <tr style=\"text-align: right;\">\n",
       "      <th></th>\n",
       "      <th>일자</th>\n",
       "      <th>업무</th>\n",
       "      <th>실내습도(%)</th>\n",
       "      <th>실내온도(℃)</th>\n",
       "      <th>pH</th>\n",
       "      <th>EC</th>\n",
       "      <th>수온(℃)</th>\n",
       "      <th>광시간(명/암)</th>\n",
       "      <th>수온(℃)보정</th>\n",
       "      <th>pH보정</th>\n",
       "      <th>EC보정</th>\n",
       "      <th>기타</th>\n",
       "    </tr>\n",
       "  </thead>\n",
       "  <tbody>\n",
       "    <tr>\n",
       "      <th>0</th>\n",
       "      <td>01월 01일</td>\n",
       "      <td>NaN</td>\n",
       "      <td>NaN</td>\n",
       "      <td>NaN</td>\n",
       "      <td>NaN</td>\n",
       "      <td>NaN</td>\n",
       "      <td>NaN</td>\n",
       "      <td>NaN</td>\n",
       "      <td>NaN</td>\n",
       "      <td>NaN</td>\n",
       "      <td>NaN</td>\n",
       "      <td>NaN</td>\n",
       "    </tr>\n",
       "    <tr>\n",
       "      <th>1</th>\n",
       "      <td>01월 02일</td>\n",
       "      <td>NaN</td>\n",
       "      <td>NaN</td>\n",
       "      <td>NaN</td>\n",
       "      <td>NaN</td>\n",
       "      <td>NaN</td>\n",
       "      <td>NaN</td>\n",
       "      <td>NaN</td>\n",
       "      <td>NaN</td>\n",
       "      <td>NaN</td>\n",
       "      <td>NaN</td>\n",
       "      <td>NaN</td>\n",
       "    </tr>\n",
       "    <tr>\n",
       "      <th>2</th>\n",
       "      <td>01월 03일</td>\n",
       "      <td>NaN</td>\n",
       "      <td>NaN</td>\n",
       "      <td>NaN</td>\n",
       "      <td>NaN</td>\n",
       "      <td>NaN</td>\n",
       "      <td>NaN</td>\n",
       "      <td>NaN</td>\n",
       "      <td>NaN</td>\n",
       "      <td>NaN</td>\n",
       "      <td>NaN</td>\n",
       "      <td>NaN</td>\n",
       "    </tr>\n",
       "    <tr>\n",
       "      <th>3</th>\n",
       "      <td>01월 04일</td>\n",
       "      <td>NaN</td>\n",
       "      <td>NaN</td>\n",
       "      <td>NaN</td>\n",
       "      <td>NaN</td>\n",
       "      <td>NaN</td>\n",
       "      <td>NaN</td>\n",
       "      <td>NaN</td>\n",
       "      <td>NaN</td>\n",
       "      <td>NaN</td>\n",
       "      <td>NaN</td>\n",
       "      <td>NaN</td>\n",
       "    </tr>\n",
       "    <tr>\n",
       "      <th>4</th>\n",
       "      <td>01월 05일</td>\n",
       "      <td>NaN</td>\n",
       "      <td>NaN</td>\n",
       "      <td>NaN</td>\n",
       "      <td>NaN</td>\n",
       "      <td>NaN</td>\n",
       "      <td>NaN</td>\n",
       "      <td>NaN</td>\n",
       "      <td>NaN</td>\n",
       "      <td>NaN</td>\n",
       "      <td>NaN</td>\n",
       "      <td>NaN</td>\n",
       "    </tr>\n",
       "    <tr>\n",
       "      <th>...</th>\n",
       "      <td>...</td>\n",
       "      <td>...</td>\n",
       "      <td>...</td>\n",
       "      <td>...</td>\n",
       "      <td>...</td>\n",
       "      <td>...</td>\n",
       "      <td>...</td>\n",
       "      <td>...</td>\n",
       "      <td>...</td>\n",
       "      <td>...</td>\n",
       "      <td>...</td>\n",
       "      <td>...</td>\n",
       "    </tr>\n",
       "    <tr>\n",
       "      <th>392</th>\n",
       "      <td>01월 27일</td>\n",
       "      <td>NaN</td>\n",
       "      <td>NaN</td>\n",
       "      <td>NaN</td>\n",
       "      <td>NaN</td>\n",
       "      <td>NaN</td>\n",
       "      <td>NaN</td>\n",
       "      <td>NaN</td>\n",
       "      <td>NaN</td>\n",
       "      <td>NaN</td>\n",
       "      <td>NaN</td>\n",
       "      <td>NaN</td>\n",
       "    </tr>\n",
       "    <tr>\n",
       "      <th>393</th>\n",
       "      <td>01월 28일</td>\n",
       "      <td>NaN</td>\n",
       "      <td>NaN</td>\n",
       "      <td>NaN</td>\n",
       "      <td>NaN</td>\n",
       "      <td>NaN</td>\n",
       "      <td>NaN</td>\n",
       "      <td>NaN</td>\n",
       "      <td>NaN</td>\n",
       "      <td>NaN</td>\n",
       "      <td>NaN</td>\n",
       "      <td>NaN</td>\n",
       "    </tr>\n",
       "    <tr>\n",
       "      <th>394</th>\n",
       "      <td>01월 29일</td>\n",
       "      <td>NaN</td>\n",
       "      <td>NaN</td>\n",
       "      <td>NaN</td>\n",
       "      <td>NaN</td>\n",
       "      <td>NaN</td>\n",
       "      <td>NaN</td>\n",
       "      <td>NaN</td>\n",
       "      <td>NaN</td>\n",
       "      <td>NaN</td>\n",
       "      <td>NaN</td>\n",
       "      <td>NaN</td>\n",
       "    </tr>\n",
       "    <tr>\n",
       "      <th>395</th>\n",
       "      <td>01월 30일</td>\n",
       "      <td>NaN</td>\n",
       "      <td>NaN</td>\n",
       "      <td>NaN</td>\n",
       "      <td>NaN</td>\n",
       "      <td>NaN</td>\n",
       "      <td>NaN</td>\n",
       "      <td>NaN</td>\n",
       "      <td>NaN</td>\n",
       "      <td>NaN</td>\n",
       "      <td>NaN</td>\n",
       "      <td>NaN</td>\n",
       "    </tr>\n",
       "    <tr>\n",
       "      <th>396</th>\n",
       "      <td>01월 31일</td>\n",
       "      <td>NaN</td>\n",
       "      <td>NaN</td>\n",
       "      <td>NaN</td>\n",
       "      <td>NaN</td>\n",
       "      <td>NaN</td>\n",
       "      <td>NaN</td>\n",
       "      <td>NaN</td>\n",
       "      <td>NaN</td>\n",
       "      <td>NaN</td>\n",
       "      <td>NaN</td>\n",
       "      <td>NaN</td>\n",
       "    </tr>\n",
       "  </tbody>\n",
       "</table>\n",
       "<p>397 rows × 12 columns</p>\n",
       "</div>"
      ],
      "text/plain": [
       "          일자   업무 실내습도(%) 실내온도(℃)   pH   EC 수온(℃) 광시간(명/암) 수온(℃)보정 pH보정 EC보정  \\\n",
       "0    01월 01일  NaN     NaN     NaN  NaN  NaN   NaN      NaN     NaN  NaN  NaN   \n",
       "1    01월 02일  NaN     NaN     NaN  NaN  NaN   NaN      NaN     NaN  NaN  NaN   \n",
       "2    01월 03일  NaN     NaN     NaN  NaN  NaN   NaN      NaN     NaN  NaN  NaN   \n",
       "3    01월 04일  NaN     NaN     NaN  NaN  NaN   NaN      NaN     NaN  NaN  NaN   \n",
       "4    01월 05일  NaN     NaN     NaN  NaN  NaN   NaN      NaN     NaN  NaN  NaN   \n",
       "..       ...  ...     ...     ...  ...  ...   ...      ...     ...  ...  ...   \n",
       "392  01월 27일  NaN     NaN     NaN  NaN  NaN   NaN      NaN     NaN  NaN  NaN   \n",
       "393  01월 28일  NaN     NaN     NaN  NaN  NaN   NaN      NaN     NaN  NaN  NaN   \n",
       "394  01월 29일  NaN     NaN     NaN  NaN  NaN   NaN      NaN     NaN  NaN  NaN   \n",
       "395  01월 30일  NaN     NaN     NaN  NaN  NaN   NaN      NaN     NaN  NaN  NaN   \n",
       "396  01월 31일  NaN     NaN     NaN  NaN  NaN   NaN      NaN     NaN  NaN  NaN   \n",
       "\n",
       "      기타  \n",
       "0    NaN  \n",
       "1    NaN  \n",
       "2    NaN  \n",
       "3    NaN  \n",
       "4    NaN  \n",
       "..   ...  \n",
       "392  NaN  \n",
       "393  NaN  \n",
       "394  NaN  \n",
       "395  NaN  \n",
       "396  NaN  \n",
       "\n",
       "[397 rows x 12 columns]"
      ]
     },
     "execution_count": 7,
     "metadata": {},
     "output_type": "execute_result"
    }
   ],
   "source": [
    "df = df.drop('index', axis = 1)\n",
    "df"
   ]
  },
  {
   "cell_type": "code",
   "execution_count": 8,
   "metadata": {
    "executionInfo": {
     "elapsed": 48,
     "status": "ok",
     "timestamp": 1627260739375,
     "user": {
      "displayName": "정연우",
      "photoUrl": "",
      "userId": "10457408909297065633"
     },
     "user_tz": -540
    },
    "id": "qTChCBtHSGVd",
    "scrolled": true
   },
   "outputs": [
    {
     "data": {
      "text/html": [
       "<div>\n",
       "<style scoped>\n",
       "    .dataframe tbody tr th:only-of-type {\n",
       "        vertical-align: middle;\n",
       "    }\n",
       "\n",
       "    .dataframe tbody tr th {\n",
       "        vertical-align: top;\n",
       "    }\n",
       "\n",
       "    .dataframe thead th {\n",
       "        text-align: right;\n",
       "    }\n",
       "</style>\n",
       "<table border=\"1\" class=\"dataframe\">\n",
       "  <thead>\n",
       "    <tr style=\"text-align: right;\">\n",
       "      <th></th>\n",
       "      <th>일자</th>\n",
       "      <th>업무</th>\n",
       "      <th>실내습도(%)</th>\n",
       "      <th>실내온도(℃)</th>\n",
       "      <th>pH</th>\n",
       "      <th>EC</th>\n",
       "      <th>수온(℃)</th>\n",
       "      <th>광시간(명/암)</th>\n",
       "      <th>수온(℃)보정</th>\n",
       "      <th>pH보정</th>\n",
       "      <th>EC보정</th>\n",
       "      <th>기타</th>\n",
       "      <th>년도</th>\n",
       "    </tr>\n",
       "  </thead>\n",
       "  <tbody>\n",
       "    <tr>\n",
       "      <th>0</th>\n",
       "      <td>01월 01일</td>\n",
       "      <td>NaN</td>\n",
       "      <td>NaN</td>\n",
       "      <td>NaN</td>\n",
       "      <td>NaN</td>\n",
       "      <td>NaN</td>\n",
       "      <td>NaN</td>\n",
       "      <td>NaN</td>\n",
       "      <td>NaN</td>\n",
       "      <td>NaN</td>\n",
       "      <td>NaN</td>\n",
       "      <td>NaN</td>\n",
       "      <td></td>\n",
       "    </tr>\n",
       "    <tr>\n",
       "      <th>1</th>\n",
       "      <td>01월 02일</td>\n",
       "      <td>NaN</td>\n",
       "      <td>NaN</td>\n",
       "      <td>NaN</td>\n",
       "      <td>NaN</td>\n",
       "      <td>NaN</td>\n",
       "      <td>NaN</td>\n",
       "      <td>NaN</td>\n",
       "      <td>NaN</td>\n",
       "      <td>NaN</td>\n",
       "      <td>NaN</td>\n",
       "      <td>NaN</td>\n",
       "      <td></td>\n",
       "    </tr>\n",
       "    <tr>\n",
       "      <th>2</th>\n",
       "      <td>01월 03일</td>\n",
       "      <td>NaN</td>\n",
       "      <td>NaN</td>\n",
       "      <td>NaN</td>\n",
       "      <td>NaN</td>\n",
       "      <td>NaN</td>\n",
       "      <td>NaN</td>\n",
       "      <td>NaN</td>\n",
       "      <td>NaN</td>\n",
       "      <td>NaN</td>\n",
       "      <td>NaN</td>\n",
       "      <td>NaN</td>\n",
       "      <td></td>\n",
       "    </tr>\n",
       "    <tr>\n",
       "      <th>3</th>\n",
       "      <td>01월 04일</td>\n",
       "      <td>NaN</td>\n",
       "      <td>NaN</td>\n",
       "      <td>NaN</td>\n",
       "      <td>NaN</td>\n",
       "      <td>NaN</td>\n",
       "      <td>NaN</td>\n",
       "      <td>NaN</td>\n",
       "      <td>NaN</td>\n",
       "      <td>NaN</td>\n",
       "      <td>NaN</td>\n",
       "      <td>NaN</td>\n",
       "      <td></td>\n",
       "    </tr>\n",
       "    <tr>\n",
       "      <th>4</th>\n",
       "      <td>01월 05일</td>\n",
       "      <td>NaN</td>\n",
       "      <td>NaN</td>\n",
       "      <td>NaN</td>\n",
       "      <td>NaN</td>\n",
       "      <td>NaN</td>\n",
       "      <td>NaN</td>\n",
       "      <td>NaN</td>\n",
       "      <td>NaN</td>\n",
       "      <td>NaN</td>\n",
       "      <td>NaN</td>\n",
       "      <td>NaN</td>\n",
       "      <td></td>\n",
       "    </tr>\n",
       "    <tr>\n",
       "      <th>...</th>\n",
       "      <td>...</td>\n",
       "      <td>...</td>\n",
       "      <td>...</td>\n",
       "      <td>...</td>\n",
       "      <td>...</td>\n",
       "      <td>...</td>\n",
       "      <td>...</td>\n",
       "      <td>...</td>\n",
       "      <td>...</td>\n",
       "      <td>...</td>\n",
       "      <td>...</td>\n",
       "      <td>...</td>\n",
       "      <td>...</td>\n",
       "    </tr>\n",
       "    <tr>\n",
       "      <th>392</th>\n",
       "      <td>01월 27일</td>\n",
       "      <td>NaN</td>\n",
       "      <td>NaN</td>\n",
       "      <td>NaN</td>\n",
       "      <td>NaN</td>\n",
       "      <td>NaN</td>\n",
       "      <td>NaN</td>\n",
       "      <td>NaN</td>\n",
       "      <td>NaN</td>\n",
       "      <td>NaN</td>\n",
       "      <td>NaN</td>\n",
       "      <td>NaN</td>\n",
       "      <td></td>\n",
       "    </tr>\n",
       "    <tr>\n",
       "      <th>393</th>\n",
       "      <td>01월 28일</td>\n",
       "      <td>NaN</td>\n",
       "      <td>NaN</td>\n",
       "      <td>NaN</td>\n",
       "      <td>NaN</td>\n",
       "      <td>NaN</td>\n",
       "      <td>NaN</td>\n",
       "      <td>NaN</td>\n",
       "      <td>NaN</td>\n",
       "      <td>NaN</td>\n",
       "      <td>NaN</td>\n",
       "      <td>NaN</td>\n",
       "      <td></td>\n",
       "    </tr>\n",
       "    <tr>\n",
       "      <th>394</th>\n",
       "      <td>01월 29일</td>\n",
       "      <td>NaN</td>\n",
       "      <td>NaN</td>\n",
       "      <td>NaN</td>\n",
       "      <td>NaN</td>\n",
       "      <td>NaN</td>\n",
       "      <td>NaN</td>\n",
       "      <td>NaN</td>\n",
       "      <td>NaN</td>\n",
       "      <td>NaN</td>\n",
       "      <td>NaN</td>\n",
       "      <td>NaN</td>\n",
       "      <td></td>\n",
       "    </tr>\n",
       "    <tr>\n",
       "      <th>395</th>\n",
       "      <td>01월 30일</td>\n",
       "      <td>NaN</td>\n",
       "      <td>NaN</td>\n",
       "      <td>NaN</td>\n",
       "      <td>NaN</td>\n",
       "      <td>NaN</td>\n",
       "      <td>NaN</td>\n",
       "      <td>NaN</td>\n",
       "      <td>NaN</td>\n",
       "      <td>NaN</td>\n",
       "      <td>NaN</td>\n",
       "      <td>NaN</td>\n",
       "      <td></td>\n",
       "    </tr>\n",
       "    <tr>\n",
       "      <th>396</th>\n",
       "      <td>01월 31일</td>\n",
       "      <td>NaN</td>\n",
       "      <td>NaN</td>\n",
       "      <td>NaN</td>\n",
       "      <td>NaN</td>\n",
       "      <td>NaN</td>\n",
       "      <td>NaN</td>\n",
       "      <td>NaN</td>\n",
       "      <td>NaN</td>\n",
       "      <td>NaN</td>\n",
       "      <td>NaN</td>\n",
       "      <td>NaN</td>\n",
       "      <td></td>\n",
       "    </tr>\n",
       "  </tbody>\n",
       "</table>\n",
       "<p>397 rows × 13 columns</p>\n",
       "</div>"
      ],
      "text/plain": [
       "          일자   업무 실내습도(%) 실내온도(℃)   pH   EC 수온(℃) 광시간(명/암) 수온(℃)보정 pH보정 EC보정  \\\n",
       "0    01월 01일  NaN     NaN     NaN  NaN  NaN   NaN      NaN     NaN  NaN  NaN   \n",
       "1    01월 02일  NaN     NaN     NaN  NaN  NaN   NaN      NaN     NaN  NaN  NaN   \n",
       "2    01월 03일  NaN     NaN     NaN  NaN  NaN   NaN      NaN     NaN  NaN  NaN   \n",
       "3    01월 04일  NaN     NaN     NaN  NaN  NaN   NaN      NaN     NaN  NaN  NaN   \n",
       "4    01월 05일  NaN     NaN     NaN  NaN  NaN   NaN      NaN     NaN  NaN  NaN   \n",
       "..       ...  ...     ...     ...  ...  ...   ...      ...     ...  ...  ...   \n",
       "392  01월 27일  NaN     NaN     NaN  NaN  NaN   NaN      NaN     NaN  NaN  NaN   \n",
       "393  01월 28일  NaN     NaN     NaN  NaN  NaN   NaN      NaN     NaN  NaN  NaN   \n",
       "394  01월 29일  NaN     NaN     NaN  NaN  NaN   NaN      NaN     NaN  NaN  NaN   \n",
       "395  01월 30일  NaN     NaN     NaN  NaN  NaN   NaN      NaN     NaN  NaN  NaN   \n",
       "396  01월 31일  NaN     NaN     NaN  NaN  NaN   NaN      NaN     NaN  NaN  NaN   \n",
       "\n",
       "      기타 년도  \n",
       "0    NaN     \n",
       "1    NaN     \n",
       "2    NaN     \n",
       "3    NaN     \n",
       "4    NaN     \n",
       "..   ... ..  \n",
       "392  NaN     \n",
       "393  NaN     \n",
       "394  NaN     \n",
       "395  NaN     \n",
       "396  NaN     \n",
       "\n",
       "[397 rows x 13 columns]"
      ]
     },
     "execution_count": 8,
     "metadata": {},
     "output_type": "execute_result"
    }
   ],
   "source": [
    "df[\"년도\"] = \"\" # 년도 컬럼 새로 만듦\n",
    "df"
   ]
  },
  {
   "cell_type": "code",
   "execution_count": 9,
   "metadata": {
    "executionInfo": {
     "elapsed": 48,
     "status": "ok",
     "timestamp": 1627260739375,
     "user": {
      "displayName": "정연우",
      "photoUrl": "",
      "userId": "10457408909297065633"
     },
     "user_tz": -540
    },
    "id": "NWhEkZvtRYli"
   },
   "outputs": [],
   "source": [
    "index_20 = df[df[\"일자\"].str.contains(\"12월 31일\")].index # 2020년 마지막 값 저장된 인덱스\n",
    "df[\"년도\"][:index_20[0] + 1] = \"2020\"\n",
    "df[\"년도\"][index_20[0] + 1:] = \"2021\""
   ]
  },
  {
   "cell_type": "code",
   "execution_count": 10,
   "metadata": {
    "colab": {
     "base_uri": "https://localhost:8080/"
    },
    "executionInfo": {
     "elapsed": 48,
     "status": "ok",
     "timestamp": 1627260739376,
     "user": {
      "displayName": "정연우",
      "photoUrl": "",
      "userId": "10457408909297065633"
     },
     "user_tz": -540
    },
    "id": "8Oj7UweXTAUW",
    "outputId": "5664a7e1-6bb2-47c9-f239-f56b09e98910"
   },
   "outputs": [
    {
     "data": {
      "text/plain": [
       "2020    366\n",
       "2021     31\n",
       "Name: 년도, dtype: int64"
      ]
     },
     "execution_count": 10,
     "metadata": {},
     "output_type": "execute_result"
    }
   ],
   "source": [
    "df[\"년도\"].value_counts()"
   ]
  },
  {
   "cell_type": "markdown",
   "metadata": {
    "id": "yhsz8MK0JqRB"
   },
   "source": [
    "## 업무 시작일 확인"
   ]
  },
  {
   "cell_type": "markdown",
   "metadata": {},
   "source": [
    "업무시작일 전에는 필요없으므로 그 이후의 날들만 다시 가져와 전처리 수행하자"
   ]
  },
  {
   "cell_type": "code",
   "execution_count": 11,
   "metadata": {
    "colab": {
     "base_uri": "https://localhost:8080/",
     "height": 878
    },
    "executionInfo": {
     "elapsed": 42,
     "status": "ok",
     "timestamp": 1627260739377,
     "user": {
      "displayName": "정연우",
      "photoUrl": "",
      "userId": "10457408909297065633"
     },
     "user_tz": -540
    },
    "id": "8flEBIFpIgPT",
    "outputId": "ed510185-a877-4e10-d65b-31969c18588f"
   },
   "outputs": [
    {
     "data": {
      "text/html": [
       "<div>\n",
       "<style scoped>\n",
       "    .dataframe tbody tr th:only-of-type {\n",
       "        vertical-align: middle;\n",
       "    }\n",
       "\n",
       "    .dataframe tbody tr th {\n",
       "        vertical-align: top;\n",
       "    }\n",
       "\n",
       "    .dataframe thead th {\n",
       "        text-align: right;\n",
       "    }\n",
       "</style>\n",
       "<table border=\"1\" class=\"dataframe\">\n",
       "  <thead>\n",
       "    <tr style=\"text-align: right;\">\n",
       "      <th></th>\n",
       "      <th>일자</th>\n",
       "      <th>업무</th>\n",
       "      <th>실내습도(%)</th>\n",
       "      <th>실내온도(℃)</th>\n",
       "      <th>pH</th>\n",
       "      <th>EC</th>\n",
       "      <th>수온(℃)</th>\n",
       "      <th>광시간(명/암)</th>\n",
       "      <th>수온(℃)보정</th>\n",
       "      <th>pH보정</th>\n",
       "      <th>EC보정</th>\n",
       "      <th>기타</th>\n",
       "      <th>년도</th>\n",
       "    </tr>\n",
       "  </thead>\n",
       "  <tbody>\n",
       "    <tr>\n",
       "      <th>65</th>\n",
       "      <td>03월 06일</td>\n",
       "      <td>묘삼 발아</td>\n",
       "      <td>NaN</td>\n",
       "      <td>NaN</td>\n",
       "      <td>NaN</td>\n",
       "      <td>NaN</td>\n",
       "      <td>NaN</td>\n",
       "      <td>NaN</td>\n",
       "      <td>NaN</td>\n",
       "      <td>NaN</td>\n",
       "      <td>NaN</td>\n",
       "      <td>석회보르도 1000ppm, 10분 살균\\n23℃, 광공급(2줄)</td>\n",
       "      <td>2020</td>\n",
       "    </tr>\n",
       "    <tr>\n",
       "      <th>71</th>\n",
       "      <td>03월 12일</td>\n",
       "      <td>정식</td>\n",
       "      <td>74~76</td>\n",
       "      <td>20.3~20.9</td>\n",
       "      <td>5.8</td>\n",
       "      <td>0.1</td>\n",
       "      <td>19.8</td>\n",
       "      <td>12월 12일</td>\n",
       "      <td>17.3</td>\n",
       "      <td>NaN</td>\n",
       "      <td>0.4</td>\n",
       "      <td>관수: 60초/15분</td>\n",
       "      <td>2020</td>\n",
       "    </tr>\n",
       "    <tr>\n",
       "      <th>72</th>\n",
       "      <td>03월 13일</td>\n",
       "      <td>보식, 세척 및 발아</td>\n",
       "      <td>75~80</td>\n",
       "      <td>20.0~20.8</td>\n",
       "      <td>6</td>\n",
       "      <td>0.4</td>\n",
       "      <td>16.3</td>\n",
       "      <td>12월 12일</td>\n",
       "      <td>NaN</td>\n",
       "      <td>NaN</td>\n",
       "      <td>NaN</td>\n",
       "      <td>NaN</td>\n",
       "      <td>2020</td>\n",
       "    </tr>\n",
       "    <tr>\n",
       "      <th>75</th>\n",
       "      <td>03월 16일</td>\n",
       "      <td>보식</td>\n",
       "      <td>78~81</td>\n",
       "      <td>20.0~20.8</td>\n",
       "      <td>6</td>\n",
       "      <td>0.4</td>\n",
       "      <td>16.6</td>\n",
       "      <td>12월 12일</td>\n",
       "      <td>NaN</td>\n",
       "      <td>NaN</td>\n",
       "      <td>NaN</td>\n",
       "      <td>발아: 곰팡이 일부 발생</td>\n",
       "      <td>2020</td>\n",
       "    </tr>\n",
       "    <tr>\n",
       "      <th>77</th>\n",
       "      <td>03월 18일</td>\n",
       "      <td>2차정식</td>\n",
       "      <td>79~85</td>\n",
       "      <td>20.1~20.8</td>\n",
       "      <td>6</td>\n",
       "      <td>0.5</td>\n",
       "      <td>16.3</td>\n",
       "      <td>12월 12일</td>\n",
       "      <td>NaN</td>\n",
       "      <td>NaN</td>\n",
       "      <td>NaN</td>\n",
       "      <td>1단 정식 완료</td>\n",
       "      <td>2020</td>\n",
       "    </tr>\n",
       "    <tr>\n",
       "      <th>...</th>\n",
       "      <td>...</td>\n",
       "      <td>...</td>\n",
       "      <td>...</td>\n",
       "      <td>...</td>\n",
       "      <td>...</td>\n",
       "      <td>...</td>\n",
       "      <td>...</td>\n",
       "      <td>...</td>\n",
       "      <td>...</td>\n",
       "      <td>...</td>\n",
       "      <td>...</td>\n",
       "      <td>...</td>\n",
       "      <td>...</td>\n",
       "    </tr>\n",
       "    <tr>\n",
       "      <th>306</th>\n",
       "      <td>11월 02일</td>\n",
       "      <td>휴가</td>\n",
       "      <td>NaN</td>\n",
       "      <td>NaN</td>\n",
       "      <td>NaN</td>\n",
       "      <td>NaN</td>\n",
       "      <td>NaN</td>\n",
       "      <td>12월 12일</td>\n",
       "      <td>NaN</td>\n",
       "      <td>NaN</td>\n",
       "      <td>NaN</td>\n",
       "      <td>NaN</td>\n",
       "      <td>2020</td>\n",
       "    </tr>\n",
       "    <tr>\n",
       "      <th>310</th>\n",
       "      <td>11월 06일</td>\n",
       "      <td>용수교환</td>\n",
       "      <td>65~72</td>\n",
       "      <td>19.1~20.6</td>\n",
       "      <td>6</td>\n",
       "      <td>1</td>\n",
       "      <td>18.8</td>\n",
       "      <td>12월 12일</td>\n",
       "      <td>NaN</td>\n",
       "      <td>NaN</td>\n",
       "      <td>NaN</td>\n",
       "      <td>처리(MeJA, Geraniol 500ppm, 청색광, 청색광+처리), 양액정지(양수만)</td>\n",
       "      <td>2020</td>\n",
       "    </tr>\n",
       "    <tr>\n",
       "      <th>318</th>\n",
       "      <td>11월 14일</td>\n",
       "      <td>양액교환</td>\n",
       "      <td>66~71</td>\n",
       "      <td>18.9~20.3</td>\n",
       "      <td>8.1</td>\n",
       "      <td>0.3</td>\n",
       "      <td>18.5</td>\n",
       "      <td>12월 12일</td>\n",
       "      <td>NaN</td>\n",
       "      <td>NaN</td>\n",
       "      <td>NaN</td>\n",
       "      <td>수확(샘플)-&gt;건조(잎줄기/뿌리), 수분스트레스(60초/180분)</td>\n",
       "      <td>2020</td>\n",
       "    </tr>\n",
       "    <tr>\n",
       "      <th>324</th>\n",
       "      <td>11월 20일</td>\n",
       "      <td>용수교환</td>\n",
       "      <td>66~72</td>\n",
       "      <td>19.0~20.3</td>\n",
       "      <td>8.2</td>\n",
       "      <td>0.2</td>\n",
       "      <td>18.7</td>\n",
       "      <td>12월 12일</td>\n",
       "      <td>NaN</td>\n",
       "      <td>NaN</td>\n",
       "      <td>NaN</td>\n",
       "      <td>NaN</td>\n",
       "      <td>2020</td>\n",
       "    </tr>\n",
       "    <tr>\n",
       "      <th>358</th>\n",
       "      <td>12월 24일</td>\n",
       "      <td>가을묘삼 저장(20채)</td>\n",
       "      <td>NaN</td>\n",
       "      <td>NaN</td>\n",
       "      <td>NaN</td>\n",
       "      <td>NaN</td>\n",
       "      <td>NaN</td>\n",
       "      <td>NaN</td>\n",
       "      <td>NaN</td>\n",
       "      <td>NaN</td>\n",
       "      <td>NaN</td>\n",
       "      <td>5채씩 질석에 분주, 8℃ 저장</td>\n",
       "      <td>2020</td>\n",
       "    </tr>\n",
       "  </tbody>\n",
       "</table>\n",
       "<p>62 rows × 13 columns</p>\n",
       "</div>"
      ],
      "text/plain": [
       "          일자            업무 실내습도(%)    실내온도(℃)   pH   EC 수온(℃) 광시간(명/암)  \\\n",
       "65   03월 06일         묘삼 발아     NaN        NaN  NaN  NaN   NaN      NaN   \n",
       "71   03월 12일            정식   74~76  20.3~20.9  5.8  0.1  19.8  12월 12일   \n",
       "72   03월 13일   보식, 세척 및 발아   75~80  20.0~20.8    6  0.4  16.3  12월 12일   \n",
       "75   03월 16일            보식   78~81  20.0~20.8    6  0.4  16.6  12월 12일   \n",
       "77   03월 18일          2차정식   79~85  20.1~20.8    6  0.5  16.3  12월 12일   \n",
       "..       ...           ...     ...        ...  ...  ...   ...      ...   \n",
       "306  11월 02일            휴가     NaN        NaN  NaN  NaN   NaN  12월 12일   \n",
       "310  11월 06일          용수교환   65~72  19.1~20.6    6    1  18.8  12월 12일   \n",
       "318  11월 14일          양액교환   66~71  18.9~20.3  8.1  0.3  18.5  12월 12일   \n",
       "324  11월 20일          용수교환   66~72  19.0~20.3  8.2  0.2  18.7  12월 12일   \n",
       "358  12월 24일  가을묘삼 저장(20채)     NaN        NaN  NaN  NaN   NaN      NaN   \n",
       "\n",
       "    수온(℃)보정 pH보정 EC보정                                                 기타    년도  \n",
       "65      NaN  NaN  NaN                석회보르도 1000ppm, 10분 살균\\n23℃, 광공급(2줄)  2020  \n",
       "71     17.3  NaN  0.4                                        관수: 60초/15분  2020  \n",
       "72      NaN  NaN  NaN                                                NaN  2020  \n",
       "75      NaN  NaN  NaN                                      발아: 곰팡이 일부 발생  2020  \n",
       "77      NaN  NaN  NaN                                           1단 정식 완료  2020  \n",
       "..      ...  ...  ...                                                ...   ...  \n",
       "306     NaN  NaN  NaN                                                NaN  2020  \n",
       "310     NaN  NaN  NaN  처리(MeJA, Geraniol 500ppm, 청색광, 청색광+처리), 양액정지(양수만)  2020  \n",
       "318     NaN  NaN  NaN               수확(샘플)->건조(잎줄기/뿌리), 수분스트레스(60초/180분)  2020  \n",
       "324     NaN  NaN  NaN                                                NaN  2020  \n",
       "358     NaN  NaN  NaN                                  5채씩 질석에 분주, 8℃ 저장  2020  \n",
       "\n",
       "[62 rows x 13 columns]"
      ]
     },
     "execution_count": 11,
     "metadata": {},
     "output_type": "execute_result"
    }
   ],
   "source": [
    "df[~df[\"업무\"].isnull()] # (완성) ~df 가 무엇인가? - not 연산을 생각하면 쉽다"
   ]
  },
  {
   "cell_type": "markdown",
   "metadata": {},
   "source": [
    "* index 65에 해당하는 3월 6일에 시작함을 알수있다"
   ]
  },
  {
   "cell_type": "code",
   "execution_count": 12,
   "metadata": {
    "scrolled": true
   },
   "outputs": [
    {
     "data": {
      "text/html": [
       "<div>\n",
       "<style scoped>\n",
       "    .dataframe tbody tr th:only-of-type {\n",
       "        vertical-align: middle;\n",
       "    }\n",
       "\n",
       "    .dataframe tbody tr th {\n",
       "        vertical-align: top;\n",
       "    }\n",
       "\n",
       "    .dataframe thead th {\n",
       "        text-align: right;\n",
       "    }\n",
       "</style>\n",
       "<table border=\"1\" class=\"dataframe\">\n",
       "  <thead>\n",
       "    <tr style=\"text-align: right;\">\n",
       "      <th></th>\n",
       "      <th>일자</th>\n",
       "      <th>업무</th>\n",
       "      <th>실내습도(%)</th>\n",
       "      <th>실내온도(℃)</th>\n",
       "      <th>pH</th>\n",
       "      <th>EC</th>\n",
       "      <th>수온(℃)</th>\n",
       "      <th>광시간(명/암)</th>\n",
       "      <th>수온(℃)보정</th>\n",
       "      <th>pH보정</th>\n",
       "      <th>EC보정</th>\n",
       "      <th>기타</th>\n",
       "      <th>년도</th>\n",
       "    </tr>\n",
       "  </thead>\n",
       "  <tbody>\n",
       "    <tr>\n",
       "      <th>65</th>\n",
       "      <td>03월 06일</td>\n",
       "      <td>묘삼 발아</td>\n",
       "      <td>NaN</td>\n",
       "      <td>NaN</td>\n",
       "      <td>NaN</td>\n",
       "      <td>NaN</td>\n",
       "      <td>NaN</td>\n",
       "      <td>NaN</td>\n",
       "      <td>NaN</td>\n",
       "      <td>NaN</td>\n",
       "      <td>NaN</td>\n",
       "      <td>석회보르도 1000ppm, 10분 살균\\n23℃, 광공급(2줄)</td>\n",
       "      <td>2020</td>\n",
       "    </tr>\n",
       "    <tr>\n",
       "      <th>66</th>\n",
       "      <td>03월 07일</td>\n",
       "      <td>NaN</td>\n",
       "      <td>NaN</td>\n",
       "      <td>NaN</td>\n",
       "      <td>NaN</td>\n",
       "      <td>NaN</td>\n",
       "      <td>NaN</td>\n",
       "      <td>NaN</td>\n",
       "      <td>NaN</td>\n",
       "      <td>NaN</td>\n",
       "      <td>NaN</td>\n",
       "      <td>NaN</td>\n",
       "      <td>2020</td>\n",
       "    </tr>\n",
       "    <tr>\n",
       "      <th>67</th>\n",
       "      <td>03월 08일</td>\n",
       "      <td>NaN</td>\n",
       "      <td>NaN</td>\n",
       "      <td>NaN</td>\n",
       "      <td>NaN</td>\n",
       "      <td>NaN</td>\n",
       "      <td>NaN</td>\n",
       "      <td>NaN</td>\n",
       "      <td>NaN</td>\n",
       "      <td>NaN</td>\n",
       "      <td>NaN</td>\n",
       "      <td>NaN</td>\n",
       "      <td>2020</td>\n",
       "    </tr>\n",
       "    <tr>\n",
       "      <th>68</th>\n",
       "      <td>03월 09일</td>\n",
       "      <td>NaN</td>\n",
       "      <td>NaN</td>\n",
       "      <td>NaN</td>\n",
       "      <td>NaN</td>\n",
       "      <td>NaN</td>\n",
       "      <td>NaN</td>\n",
       "      <td>NaN</td>\n",
       "      <td>NaN</td>\n",
       "      <td>NaN</td>\n",
       "      <td>NaN</td>\n",
       "      <td>곰팡이 발생</td>\n",
       "      <td>2020</td>\n",
       "    </tr>\n",
       "    <tr>\n",
       "      <th>69</th>\n",
       "      <td>03월 10일</td>\n",
       "      <td>NaN</td>\n",
       "      <td>63~67</td>\n",
       "      <td>19.5~21.7</td>\n",
       "      <td>NaN</td>\n",
       "      <td>NaN</td>\n",
       "      <td>NaN</td>\n",
       "      <td>NaN</td>\n",
       "      <td>NaN</td>\n",
       "      <td>NaN</td>\n",
       "      <td>NaN</td>\n",
       "      <td>NaN</td>\n",
       "      <td>2020</td>\n",
       "    </tr>\n",
       "  </tbody>\n",
       "</table>\n",
       "</div>"
      ],
      "text/plain": [
       "         일자     업무 실내습도(%)    실내온도(℃)   pH   EC 수온(℃) 광시간(명/암) 수온(℃)보정 pH보정  \\\n",
       "65  03월 06일  묘삼 발아     NaN        NaN  NaN  NaN   NaN      NaN     NaN  NaN   \n",
       "66  03월 07일    NaN     NaN        NaN  NaN  NaN   NaN      NaN     NaN  NaN   \n",
       "67  03월 08일    NaN     NaN        NaN  NaN  NaN   NaN      NaN     NaN  NaN   \n",
       "68  03월 09일    NaN     NaN        NaN  NaN  NaN   NaN      NaN     NaN  NaN   \n",
       "69  03월 10일    NaN   63~67  19.5~21.7  NaN  NaN   NaN      NaN     NaN  NaN   \n",
       "\n",
       "   EC보정                                   기타    년도  \n",
       "65  NaN  석회보르도 1000ppm, 10분 살균\\n23℃, 광공급(2줄)  2020  \n",
       "66  NaN                                  NaN  2020  \n",
       "67  NaN                                  NaN  2020  \n",
       "68  NaN                               곰팡이 발생  2020  \n",
       "69  NaN                                  NaN  2020  "
      ]
     },
     "execution_count": 12,
     "metadata": {},
     "output_type": "execute_result"
    }
   ],
   "source": [
    "df_first = df[65:]\n",
    "df_first.head(5)"
   ]
  },
  {
   "cell_type": "code",
   "execution_count": 13,
   "metadata": {
    "scrolled": true
   },
   "outputs": [
    {
     "data": {
      "text/html": [
       "<div>\n",
       "<style scoped>\n",
       "    .dataframe tbody tr th:only-of-type {\n",
       "        vertical-align: middle;\n",
       "    }\n",
       "\n",
       "    .dataframe tbody tr th {\n",
       "        vertical-align: top;\n",
       "    }\n",
       "\n",
       "    .dataframe thead th {\n",
       "        text-align: right;\n",
       "    }\n",
       "</style>\n",
       "<table border=\"1\" class=\"dataframe\">\n",
       "  <thead>\n",
       "    <tr style=\"text-align: right;\">\n",
       "      <th></th>\n",
       "      <th>일자</th>\n",
       "      <th>업무</th>\n",
       "      <th>실내습도(%)</th>\n",
       "      <th>실내온도(℃)</th>\n",
       "      <th>pH</th>\n",
       "      <th>EC</th>\n",
       "      <th>수온(℃)</th>\n",
       "      <th>광시간(명/암)</th>\n",
       "      <th>수온(℃)보정</th>\n",
       "      <th>pH보정</th>\n",
       "      <th>EC보정</th>\n",
       "      <th>기타</th>\n",
       "      <th>년도</th>\n",
       "    </tr>\n",
       "  </thead>\n",
       "  <tbody>\n",
       "    <tr>\n",
       "      <th>392</th>\n",
       "      <td>01월 27일</td>\n",
       "      <td>NaN</td>\n",
       "      <td>NaN</td>\n",
       "      <td>NaN</td>\n",
       "      <td>NaN</td>\n",
       "      <td>NaN</td>\n",
       "      <td>NaN</td>\n",
       "      <td>NaN</td>\n",
       "      <td>NaN</td>\n",
       "      <td>NaN</td>\n",
       "      <td>NaN</td>\n",
       "      <td>NaN</td>\n",
       "      <td>2021</td>\n",
       "    </tr>\n",
       "    <tr>\n",
       "      <th>393</th>\n",
       "      <td>01월 28일</td>\n",
       "      <td>NaN</td>\n",
       "      <td>NaN</td>\n",
       "      <td>NaN</td>\n",
       "      <td>NaN</td>\n",
       "      <td>NaN</td>\n",
       "      <td>NaN</td>\n",
       "      <td>NaN</td>\n",
       "      <td>NaN</td>\n",
       "      <td>NaN</td>\n",
       "      <td>NaN</td>\n",
       "      <td>NaN</td>\n",
       "      <td>2021</td>\n",
       "    </tr>\n",
       "    <tr>\n",
       "      <th>394</th>\n",
       "      <td>01월 29일</td>\n",
       "      <td>NaN</td>\n",
       "      <td>NaN</td>\n",
       "      <td>NaN</td>\n",
       "      <td>NaN</td>\n",
       "      <td>NaN</td>\n",
       "      <td>NaN</td>\n",
       "      <td>NaN</td>\n",
       "      <td>NaN</td>\n",
       "      <td>NaN</td>\n",
       "      <td>NaN</td>\n",
       "      <td>NaN</td>\n",
       "      <td>2021</td>\n",
       "    </tr>\n",
       "    <tr>\n",
       "      <th>395</th>\n",
       "      <td>01월 30일</td>\n",
       "      <td>NaN</td>\n",
       "      <td>NaN</td>\n",
       "      <td>NaN</td>\n",
       "      <td>NaN</td>\n",
       "      <td>NaN</td>\n",
       "      <td>NaN</td>\n",
       "      <td>NaN</td>\n",
       "      <td>NaN</td>\n",
       "      <td>NaN</td>\n",
       "      <td>NaN</td>\n",
       "      <td>NaN</td>\n",
       "      <td>2021</td>\n",
       "    </tr>\n",
       "    <tr>\n",
       "      <th>396</th>\n",
       "      <td>01월 31일</td>\n",
       "      <td>NaN</td>\n",
       "      <td>NaN</td>\n",
       "      <td>NaN</td>\n",
       "      <td>NaN</td>\n",
       "      <td>NaN</td>\n",
       "      <td>NaN</td>\n",
       "      <td>NaN</td>\n",
       "      <td>NaN</td>\n",
       "      <td>NaN</td>\n",
       "      <td>NaN</td>\n",
       "      <td>NaN</td>\n",
       "      <td>2021</td>\n",
       "    </tr>\n",
       "  </tbody>\n",
       "</table>\n",
       "</div>"
      ],
      "text/plain": [
       "          일자   업무 실내습도(%) 실내온도(℃)   pH   EC 수온(℃) 광시간(명/암) 수온(℃)보정 pH보정 EC보정  \\\n",
       "392  01월 27일  NaN     NaN     NaN  NaN  NaN   NaN      NaN     NaN  NaN  NaN   \n",
       "393  01월 28일  NaN     NaN     NaN  NaN  NaN   NaN      NaN     NaN  NaN  NaN   \n",
       "394  01월 29일  NaN     NaN     NaN  NaN  NaN   NaN      NaN     NaN  NaN  NaN   \n",
       "395  01월 30일  NaN     NaN     NaN  NaN  NaN   NaN      NaN     NaN  NaN  NaN   \n",
       "396  01월 31일  NaN     NaN     NaN  NaN  NaN   NaN      NaN     NaN  NaN  NaN   \n",
       "\n",
       "      기타    년도  \n",
       "392  NaN  2021  \n",
       "393  NaN  2021  \n",
       "394  NaN  2021  \n",
       "395  NaN  2021  \n",
       "396  NaN  2021  "
      ]
     },
     "execution_count": 13,
     "metadata": {},
     "output_type": "execute_result"
    }
   ],
   "source": [
    "df_first.tail(5)"
   ]
  },
  {
   "cell_type": "markdown",
   "metadata": {},
   "source": [
    "## 변수에 대한 값 확인"
   ]
  },
  {
   "cell_type": "code",
   "execution_count": 14,
   "metadata": {},
   "outputs": [
    {
     "data": {
      "text/plain": [
       "Index(['일자', '업무', '실내습도(%)', '실내온도(℃)', 'pH', 'EC', '수온(℃)', '광시간(명/암)',\n",
       "       '수온(℃)보정', 'pH보정', 'EC보정', '기타', '년도'],\n",
       "      dtype='object')"
      ]
     },
     "execution_count": 14,
     "metadata": {},
     "output_type": "execute_result"
    }
   ],
   "source": [
    "df_cols = df_first.columns\n",
    "df_cols"
   ]
  },
  {
   "cell_type": "code",
   "execution_count": 15,
   "metadata": {
    "scrolled": true
   },
   "outputs": [
    {
     "name": "stdout",
     "output_type": "stream",
     "text": [
      "일자\n",
      "03월 06일    1\n",
      "10월 20일    1\n",
      "10월 18일    1\n",
      "10월 17일    1\n",
      "10월 16일    1\n",
      "          ..\n",
      "06월 23일    1\n",
      "06월 22일    1\n",
      "06월 21일    1\n",
      "06월 20일    1\n",
      "01월 31일    1\n",
      "Name: 일자, Length: 332, dtype: int64\n",
      "\n",
      "업무\n",
      "양액교환            21\n",
      "생육조사             5\n",
      "추석연휴             5\n",
      "용수교환             4\n",
      "보식               3\n",
      "정식               3\n",
      "양액 교환            2\n",
      "세척 및 발아          2\n",
      "묘삼 발아            1\n",
      "휴먼타파(7℃)         1\n",
      "휴가               1\n",
      "한글날              1\n",
      "임시휴일             1\n",
      "광복절              1\n",
      "광공급              1\n",
      "수확(90일)          1\n",
      "휴먼타파(4℃)         1\n",
      "휴먼타파(1℃)         1\n",
      "용수로 전환           1\n",
      "석가탄신일            1\n",
      "총선               1\n",
      "양액 변경            1\n",
      "2차정식             1\n",
      "보식, 세척 및 발아      1\n",
      "가을묘삼 저장(20채)     1\n",
      "Name: 업무, dtype: int64\n",
      "\n",
      "실내습도(%)\n",
      "67~72    19\n",
      "66~71    15\n",
      "66~72    13\n",
      "68~72     9\n",
      "65~71     5\n",
      "         ..\n",
      "57~92     1\n",
      "59~72     1\n",
      "69~71     1\n",
      "61~71     1\n",
      "52~71     1\n",
      "Name: 실내습도(%), Length: 63, dtype: int64\n",
      "\n",
      "실내온도(℃)\n",
      "20.2~21.8    12\n",
      "18.9~20.3     8\n",
      "20.2~21.6     7\n",
      "19.2~20.9     7\n",
      "19.0~20.3     6\n",
      "             ..\n",
      "19.3~20.4     1\n",
      "19.3~20.9     1\n",
      "19.3~21.9     1\n",
      "20.4~21.9     1\n",
      "19.1~21.3     1\n",
      "Name: 실내온도(℃), Length: 70, dtype: int64\n",
      "\n",
      "pH\n",
      "6      63\n",
      "5.9    35\n",
      "5.8    16\n",
      "8.1     6\n",
      "8.3     4\n",
      "8.2     3\n",
      "5.6     3\n",
      "5.7     3\n",
      "6.1     2\n",
      "7.8     1\n",
      "7.9     1\n",
      "8       1\n",
      "8.5     1\n",
      "Name: pH, dtype: int64\n",
      "\n",
      "EC\n",
      "0.4    37\n",
      "0.7    21\n",
      "0.2    20\n",
      "1      19\n",
      "1.1    12\n",
      "0.3    12\n",
      "0.5     8\n",
      "0.1     6\n",
      "0.6     2\n",
      "0.9     2\n",
      "Name: EC, dtype: int64\n",
      "\n",
      "수온(℃)\n",
      "17.3    11\n",
      "19.5    11\n",
      "18.9    10\n",
      "17.8     9\n",
      "18.5     9\n",
      "18.8     8\n",
      "17.7     8\n",
      "18.7     7\n",
      "17.2     5\n",
      "17.5     5\n",
      "18.6     4\n",
      "16.3     4\n",
      "16.5     4\n",
      "17.6     4\n",
      "18.4     3\n",
      "19.3     3\n",
      "19.6     3\n",
      "19.8     3\n",
      "17.4     3\n",
      "16.8     3\n",
      "16.6     3\n",
      "16.7     3\n",
      "19.4     2\n",
      "17       2\n",
      "18.3     2\n",
      "20       2\n",
      "19.2     2\n",
      "19.7     2\n",
      "19.1     1\n",
      "20.5     1\n",
      "20.1     1\n",
      "17.9     1\n",
      "16.2     1\n",
      "16.9     1\n",
      "23.6     1\n",
      "20.4     1\n",
      "38.1     1\n",
      "23.7     1\n",
      "23.4     1\n",
      "27.1     1\n",
      "Name: 수온(℃), dtype: int64\n",
      "\n",
      "광시간(명/암)\n",
      "12월 12일    211\n",
      "08월 16일     10\n",
      "Name: 광시간(명/암), dtype: int64\n",
      "\n",
      "수온(℃)보정\n",
      "18.8    2\n",
      "17.3    1\n",
      "Name: 수온(℃)보정, dtype: int64\n",
      "\n",
      "pH보정\n",
      "6    8\n",
      "Name: pH보정, dtype: int64\n",
      "\n",
      "EC보정\n",
      "0.4    5\n",
      "0.7    3\n",
      "1      1\n",
      "0.3    1\n",
      "0.2    1\n",
      "Name: EC보정, dtype: int64\n",
      "\n",
      "기타\n",
      "생육조사(무게, 근경, 초장)                       3\n",
      "세척 및 발아: 2판                            2\n",
      "pH, EC 센서 청소                           2\n",
      "소독(석회보르도 1000ppm)                      2\n",
      "석회보르도 1000ppm, 10분 살균\\n23℃, 광공급(2줄)    1\n",
      "                                      ..\n",
      "EC 0.3                                 1\n",
      "EC 0.4, 60초/20분                        1\n",
      "양액온도 1도올림, 습도 10%내림                    1\n",
      "60초/30분, 칠러정지                          1\n",
      "-5℃로 변경                                1\n",
      "Name: 기타, Length: 68, dtype: int64\n",
      "\n",
      "년도\n",
      "2020    301\n",
      "2021     31\n",
      "Name: 년도, dtype: int64\n",
      "\n"
     ]
    }
   ],
   "source": [
    "for i in df_first.columns:\n",
    "    print(i)\n",
    "    print(df_first[i].value_counts())\n",
    "    print()"
   ]
  },
  {
   "cell_type": "code",
   "execution_count": 16,
   "metadata": {
    "scrolled": true
   },
   "outputs": [
    {
     "name": "stdout",
     "output_type": "stream",
     "text": [
      "<class 'pandas.core.frame.DataFrame'>\n",
      "RangeIndex: 332 entries, 65 to 396\n",
      "Data columns (total 13 columns):\n",
      " #   Column    Non-Null Count  Dtype \n",
      "---  ------    --------------  ----- \n",
      " 0   일자        332 non-null    object\n",
      " 1   업무        62 non-null     object\n",
      " 2   실내습도(%)   153 non-null    object\n",
      " 3   실내온도(℃)   153 non-null    object\n",
      " 4   pH        139 non-null    object\n",
      " 5   EC        139 non-null    object\n",
      " 6   수온(℃)     147 non-null    object\n",
      " 7   광시간(명/암)  221 non-null    object\n",
      " 8   수온(℃)보정   3 non-null      object\n",
      " 9   pH보정      8 non-null      object\n",
      " 10  EC보정      11 non-null     object\n",
      " 11  기타        73 non-null     object\n",
      " 12  년도        332 non-null    object\n",
      "dtypes: object(13)\n",
      "memory usage: 33.8+ KB\n"
     ]
    }
   ],
   "source": [
    "df_first.info()"
   ]
  },
  {
   "cell_type": "markdown",
   "metadata": {},
   "source": [
    "## 데이터 전처리"
   ]
  },
  {
   "cell_type": "markdown",
   "metadata": {},
   "source": [
    "### 변수 업무 전처리"
   ]
  },
  {
   "cell_type": "code",
   "execution_count": 17,
   "metadata": {},
   "outputs": [
    {
     "data": {
      "text/plain": [
       "270"
      ]
     },
     "execution_count": 17,
     "metadata": {},
     "output_type": "execute_result"
    }
   ],
   "source": [
    "df_first[\"업무\"].isnull().sum()"
   ]
  },
  {
   "cell_type": "markdown",
   "metadata": {},
   "source": [
    "* 널값 270개"
   ]
  },
  {
   "cell_type": "markdown",
   "metadata": {},
   "source": [
    "#### 널값을 전부 업무없음으로 처리"
   ]
  },
  {
   "cell_type": "code",
   "execution_count": 18,
   "metadata": {},
   "outputs": [
    {
     "name": "stderr",
     "output_type": "stream",
     "text": [
      "C:\\Users\\minjumg\\AppData\\Local\\Temp/ipykernel_10340/1694508715.py:1: SettingWithCopyWarning: \n",
      "A value is trying to be set on a copy of a slice from a DataFrame.\n",
      "Try using .loc[row_indexer,col_indexer] = value instead\n",
      "\n",
      "See the caveats in the documentation: https://pandas.pydata.org/pandas-docs/stable/user_guide/indexing.html#returning-a-view-versus-a-copy\n",
      "  df_first[\"업무\"] = df_first[\"업무\"].fillna(\"업무없음\")\n"
     ]
    },
    {
     "data": {
      "text/plain": [
       "0"
      ]
     },
     "execution_count": 18,
     "metadata": {},
     "output_type": "execute_result"
    }
   ],
   "source": [
    "df_first[\"업무\"] = df_first[\"업무\"].fillna(\"업무없음\")\n",
    "df_first[\"업무\"].isnull().sum()"
   ]
  },
  {
   "cell_type": "code",
   "execution_count": 19,
   "metadata": {},
   "outputs": [
    {
     "data": {
      "text/plain": [
       "업무없음            270\n",
       "양액교환             21\n",
       "생육조사              5\n",
       "추석연휴              5\n",
       "용수교환              4\n",
       "정식                3\n",
       "보식                3\n",
       "양액 교환             2\n",
       "세척 및 발아           2\n",
       "묘삼 발아             1\n",
       "휴먼타파(7℃)          1\n",
       "휴가                1\n",
       "한글날               1\n",
       "임시휴일              1\n",
       "광복절               1\n",
       "광공급               1\n",
       "수확(90일)           1\n",
       "휴먼타파(4℃)          1\n",
       "휴먼타파(1℃)          1\n",
       "용수로 전환            1\n",
       "석가탄신일             1\n",
       "총선                1\n",
       "양액 변경             1\n",
       "2차정식              1\n",
       "보식, 세척 및 발아       1\n",
       "가을묘삼 저장(20채)      1\n",
       "Name: 업무, dtype: int64"
      ]
     },
     "execution_count": 19,
     "metadata": {},
     "output_type": "execute_result"
    }
   ],
   "source": [
    "df_first[\"업무\"].value_counts()"
   ]
  },
  {
   "cell_type": "code",
   "execution_count": 20,
   "metadata": {
    "scrolled": true
   },
   "outputs": [
    {
     "name": "stdout",
     "output_type": "stream",
     "text": [
      "<class 'pandas.core.frame.DataFrame'>\n",
      "RangeIndex: 332 entries, 65 to 396\n",
      "Data columns (total 13 columns):\n",
      " #   Column    Non-Null Count  Dtype \n",
      "---  ------    --------------  ----- \n",
      " 0   일자        332 non-null    object\n",
      " 1   업무        332 non-null    object\n",
      " 2   실내습도(%)   153 non-null    object\n",
      " 3   실내온도(℃)   153 non-null    object\n",
      " 4   pH        139 non-null    object\n",
      " 5   EC        139 non-null    object\n",
      " 6   수온(℃)     147 non-null    object\n",
      " 7   광시간(명/암)  221 non-null    object\n",
      " 8   수온(℃)보정   3 non-null      object\n",
      " 9   pH보정      8 non-null      object\n",
      " 10  EC보정      11 non-null     object\n",
      " 11  기타        73 non-null     object\n",
      " 12  년도        332 non-null    object\n",
      "dtypes: object(13)\n",
      "memory usage: 33.8+ KB\n"
     ]
    }
   ],
   "source": [
    "df_first.info()"
   ]
  },
  {
   "cell_type": "markdown",
   "metadata": {},
   "source": [
    "# 실내습도(%) 전처리"
   ]
  },
  {
   "cell_type": "markdown",
   "metadata": {},
   "source": [
    "실내습도(%)min, 실내습도(%)max 로 칼럼을 새로 만들어 실내습도를 문자열'~' 을기준으로 나누어 각각 넣는다"
   ]
  },
  {
   "cell_type": "code",
   "execution_count": 21,
   "metadata": {},
   "outputs": [
    {
     "data": {
      "text/plain": [
       "array([nan, '63~67', '66~76', '74~76', '75~80', '78~81', '79~85', '83~85',\n",
       "       '81~85', '78~84', '76~82', '75~82', '67~80', '67~72', '67~71',\n",
       "       '47~73', '66~77', '66~72', '66~71', '68~72', '68~71', '68~73',\n",
       "       '67~73', '76', '75~83', '80~82', '75~81', '76~81', '72~80',\n",
       "       '76~80', '74~81', '67~78', '70~78', '73~82', '73~87', '57~92',\n",
       "       '59~72', '69~71', '61~71', '59~63', '59~67', '59~66', '62~66',\n",
       "       '62~83', '66~82', '77~84', '79~84', '76~84', '74~84', '78~83',\n",
       "       '79~83', '80~83', '80~84', '72~85', '66~73', '66~69', '66~70',\n",
       "       '65~71', '65~76', '64~71', '64~72', '65~72', '78.3', '52~71'],\n",
       "      dtype=object)"
      ]
     },
     "execution_count": 21,
     "metadata": {},
     "output_type": "execute_result"
    }
   ],
   "source": [
    "df_first[\"실내습도(%)\"].unique()"
   ]
  },
  {
   "cell_type": "code",
   "execution_count": 22,
   "metadata": {},
   "outputs": [
    {
     "data": {
      "text/plain": [
       "179"
      ]
     },
     "execution_count": 22,
     "metadata": {},
     "output_type": "execute_result"
    }
   ],
   "source": [
    "df_first[\"실내습도(%)\"].isnull().sum()"
   ]
  },
  {
   "cell_type": "code",
   "execution_count": 23,
   "metadata": {
    "scrolled": true
   },
   "outputs": [
    {
     "name": "stderr",
     "output_type": "stream",
     "text": [
      "C:\\Users\\minjumg\\AppData\\Local\\Temp/ipykernel_10340/190831374.py:1: SettingWithCopyWarning: \n",
      "A value is trying to be set on a copy of a slice from a DataFrame.\n",
      "Try using .loc[row_indexer,col_indexer] = value instead\n",
      "\n",
      "See the caveats in the documentation: https://pandas.pydata.org/pandas-docs/stable/user_guide/indexing.html#returning-a-view-versus-a-copy\n",
      "  df_first[\"실내습도(%)min\"] = df_first[\"실내습도(%)\"].str.split(\"~\", expand=True)[0]\n",
      "C:\\Users\\minjumg\\AppData\\Local\\Temp/ipykernel_10340/190831374.py:2: SettingWithCopyWarning: \n",
      "A value is trying to be set on a copy of a slice from a DataFrame.\n",
      "Try using .loc[row_indexer,col_indexer] = value instead\n",
      "\n",
      "See the caveats in the documentation: https://pandas.pydata.org/pandas-docs/stable/user_guide/indexing.html#returning-a-view-versus-a-copy\n",
      "  df_first[\"실내습도(%)max\"] = df_first[\"실내습도(%)\"].str.split(\"~\", expand=True)[1]\n"
     ]
    }
   ],
   "source": [
    "df_first[\"실내습도(%)min\"] = df_first[\"실내습도(%)\"].str.split(\"~\", expand=True)[0]\n",
    "df_first[\"실내습도(%)max\"] = df_first[\"실내습도(%)\"].str.split(\"~\", expand=True)[1]"
   ]
  },
  {
   "cell_type": "code",
   "execution_count": 24,
   "metadata": {},
   "outputs": [
    {
     "data": {
      "text/html": [
       "<div>\n",
       "<style scoped>\n",
       "    .dataframe tbody tr th:only-of-type {\n",
       "        vertical-align: middle;\n",
       "    }\n",
       "\n",
       "    .dataframe tbody tr th {\n",
       "        vertical-align: top;\n",
       "    }\n",
       "\n",
       "    .dataframe thead th {\n",
       "        text-align: right;\n",
       "    }\n",
       "</style>\n",
       "<table border=\"1\" class=\"dataframe\">\n",
       "  <thead>\n",
       "    <tr style=\"text-align: right;\">\n",
       "      <th></th>\n",
       "      <th>일자</th>\n",
       "      <th>업무</th>\n",
       "      <th>실내습도(%)</th>\n",
       "      <th>실내온도(℃)</th>\n",
       "      <th>pH</th>\n",
       "      <th>EC</th>\n",
       "      <th>수온(℃)</th>\n",
       "      <th>광시간(명/암)</th>\n",
       "      <th>수온(℃)보정</th>\n",
       "      <th>pH보정</th>\n",
       "      <th>EC보정</th>\n",
       "      <th>기타</th>\n",
       "      <th>년도</th>\n",
       "      <th>실내습도(%)min</th>\n",
       "      <th>실내습도(%)max</th>\n",
       "    </tr>\n",
       "  </thead>\n",
       "  <tbody>\n",
       "    <tr>\n",
       "      <th>65</th>\n",
       "      <td>03월 06일</td>\n",
       "      <td>묘삼 발아</td>\n",
       "      <td>NaN</td>\n",
       "      <td>NaN</td>\n",
       "      <td>NaN</td>\n",
       "      <td>NaN</td>\n",
       "      <td>NaN</td>\n",
       "      <td>NaN</td>\n",
       "      <td>NaN</td>\n",
       "      <td>NaN</td>\n",
       "      <td>NaN</td>\n",
       "      <td>석회보르도 1000ppm, 10분 살균\\n23℃, 광공급(2줄)</td>\n",
       "      <td>2020</td>\n",
       "      <td>NaN</td>\n",
       "      <td>NaN</td>\n",
       "    </tr>\n",
       "    <tr>\n",
       "      <th>66</th>\n",
       "      <td>03월 07일</td>\n",
       "      <td>업무없음</td>\n",
       "      <td>NaN</td>\n",
       "      <td>NaN</td>\n",
       "      <td>NaN</td>\n",
       "      <td>NaN</td>\n",
       "      <td>NaN</td>\n",
       "      <td>NaN</td>\n",
       "      <td>NaN</td>\n",
       "      <td>NaN</td>\n",
       "      <td>NaN</td>\n",
       "      <td>NaN</td>\n",
       "      <td>2020</td>\n",
       "      <td>NaN</td>\n",
       "      <td>NaN</td>\n",
       "    </tr>\n",
       "    <tr>\n",
       "      <th>67</th>\n",
       "      <td>03월 08일</td>\n",
       "      <td>업무없음</td>\n",
       "      <td>NaN</td>\n",
       "      <td>NaN</td>\n",
       "      <td>NaN</td>\n",
       "      <td>NaN</td>\n",
       "      <td>NaN</td>\n",
       "      <td>NaN</td>\n",
       "      <td>NaN</td>\n",
       "      <td>NaN</td>\n",
       "      <td>NaN</td>\n",
       "      <td>NaN</td>\n",
       "      <td>2020</td>\n",
       "      <td>NaN</td>\n",
       "      <td>NaN</td>\n",
       "    </tr>\n",
       "    <tr>\n",
       "      <th>68</th>\n",
       "      <td>03월 09일</td>\n",
       "      <td>업무없음</td>\n",
       "      <td>NaN</td>\n",
       "      <td>NaN</td>\n",
       "      <td>NaN</td>\n",
       "      <td>NaN</td>\n",
       "      <td>NaN</td>\n",
       "      <td>NaN</td>\n",
       "      <td>NaN</td>\n",
       "      <td>NaN</td>\n",
       "      <td>NaN</td>\n",
       "      <td>곰팡이 발생</td>\n",
       "      <td>2020</td>\n",
       "      <td>NaN</td>\n",
       "      <td>NaN</td>\n",
       "    </tr>\n",
       "    <tr>\n",
       "      <th>69</th>\n",
       "      <td>03월 10일</td>\n",
       "      <td>업무없음</td>\n",
       "      <td>63~67</td>\n",
       "      <td>19.5~21.7</td>\n",
       "      <td>NaN</td>\n",
       "      <td>NaN</td>\n",
       "      <td>NaN</td>\n",
       "      <td>NaN</td>\n",
       "      <td>NaN</td>\n",
       "      <td>NaN</td>\n",
       "      <td>NaN</td>\n",
       "      <td>NaN</td>\n",
       "      <td>2020</td>\n",
       "      <td>63</td>\n",
       "      <td>67</td>\n",
       "    </tr>\n",
       "    <tr>\n",
       "      <th>...</th>\n",
       "      <td>...</td>\n",
       "      <td>...</td>\n",
       "      <td>...</td>\n",
       "      <td>...</td>\n",
       "      <td>...</td>\n",
       "      <td>...</td>\n",
       "      <td>...</td>\n",
       "      <td>...</td>\n",
       "      <td>...</td>\n",
       "      <td>...</td>\n",
       "      <td>...</td>\n",
       "      <td>...</td>\n",
       "      <td>...</td>\n",
       "      <td>...</td>\n",
       "      <td>...</td>\n",
       "    </tr>\n",
       "    <tr>\n",
       "      <th>392</th>\n",
       "      <td>01월 27일</td>\n",
       "      <td>업무없음</td>\n",
       "      <td>NaN</td>\n",
       "      <td>NaN</td>\n",
       "      <td>NaN</td>\n",
       "      <td>NaN</td>\n",
       "      <td>NaN</td>\n",
       "      <td>NaN</td>\n",
       "      <td>NaN</td>\n",
       "      <td>NaN</td>\n",
       "      <td>NaN</td>\n",
       "      <td>NaN</td>\n",
       "      <td>2021</td>\n",
       "      <td>NaN</td>\n",
       "      <td>NaN</td>\n",
       "    </tr>\n",
       "    <tr>\n",
       "      <th>393</th>\n",
       "      <td>01월 28일</td>\n",
       "      <td>업무없음</td>\n",
       "      <td>NaN</td>\n",
       "      <td>NaN</td>\n",
       "      <td>NaN</td>\n",
       "      <td>NaN</td>\n",
       "      <td>NaN</td>\n",
       "      <td>NaN</td>\n",
       "      <td>NaN</td>\n",
       "      <td>NaN</td>\n",
       "      <td>NaN</td>\n",
       "      <td>NaN</td>\n",
       "      <td>2021</td>\n",
       "      <td>NaN</td>\n",
       "      <td>NaN</td>\n",
       "    </tr>\n",
       "    <tr>\n",
       "      <th>394</th>\n",
       "      <td>01월 29일</td>\n",
       "      <td>업무없음</td>\n",
       "      <td>NaN</td>\n",
       "      <td>NaN</td>\n",
       "      <td>NaN</td>\n",
       "      <td>NaN</td>\n",
       "      <td>NaN</td>\n",
       "      <td>NaN</td>\n",
       "      <td>NaN</td>\n",
       "      <td>NaN</td>\n",
       "      <td>NaN</td>\n",
       "      <td>NaN</td>\n",
       "      <td>2021</td>\n",
       "      <td>NaN</td>\n",
       "      <td>NaN</td>\n",
       "    </tr>\n",
       "    <tr>\n",
       "      <th>395</th>\n",
       "      <td>01월 30일</td>\n",
       "      <td>업무없음</td>\n",
       "      <td>NaN</td>\n",
       "      <td>NaN</td>\n",
       "      <td>NaN</td>\n",
       "      <td>NaN</td>\n",
       "      <td>NaN</td>\n",
       "      <td>NaN</td>\n",
       "      <td>NaN</td>\n",
       "      <td>NaN</td>\n",
       "      <td>NaN</td>\n",
       "      <td>NaN</td>\n",
       "      <td>2021</td>\n",
       "      <td>NaN</td>\n",
       "      <td>NaN</td>\n",
       "    </tr>\n",
       "    <tr>\n",
       "      <th>396</th>\n",
       "      <td>01월 31일</td>\n",
       "      <td>업무없음</td>\n",
       "      <td>NaN</td>\n",
       "      <td>NaN</td>\n",
       "      <td>NaN</td>\n",
       "      <td>NaN</td>\n",
       "      <td>NaN</td>\n",
       "      <td>NaN</td>\n",
       "      <td>NaN</td>\n",
       "      <td>NaN</td>\n",
       "      <td>NaN</td>\n",
       "      <td>NaN</td>\n",
       "      <td>2021</td>\n",
       "      <td>NaN</td>\n",
       "      <td>NaN</td>\n",
       "    </tr>\n",
       "  </tbody>\n",
       "</table>\n",
       "<p>332 rows × 15 columns</p>\n",
       "</div>"
      ],
      "text/plain": [
       "          일자     업무 실내습도(%)    실내온도(℃)   pH   EC 수온(℃) 광시간(명/암) 수온(℃)보정 pH보정  \\\n",
       "65   03월 06일  묘삼 발아     NaN        NaN  NaN  NaN   NaN      NaN     NaN  NaN   \n",
       "66   03월 07일   업무없음     NaN        NaN  NaN  NaN   NaN      NaN     NaN  NaN   \n",
       "67   03월 08일   업무없음     NaN        NaN  NaN  NaN   NaN      NaN     NaN  NaN   \n",
       "68   03월 09일   업무없음     NaN        NaN  NaN  NaN   NaN      NaN     NaN  NaN   \n",
       "69   03월 10일   업무없음   63~67  19.5~21.7  NaN  NaN   NaN      NaN     NaN  NaN   \n",
       "..       ...    ...     ...        ...  ...  ...   ...      ...     ...  ...   \n",
       "392  01월 27일   업무없음     NaN        NaN  NaN  NaN   NaN      NaN     NaN  NaN   \n",
       "393  01월 28일   업무없음     NaN        NaN  NaN  NaN   NaN      NaN     NaN  NaN   \n",
       "394  01월 29일   업무없음     NaN        NaN  NaN  NaN   NaN      NaN     NaN  NaN   \n",
       "395  01월 30일   업무없음     NaN        NaN  NaN  NaN   NaN      NaN     NaN  NaN   \n",
       "396  01월 31일   업무없음     NaN        NaN  NaN  NaN   NaN      NaN     NaN  NaN   \n",
       "\n",
       "    EC보정                                   기타    년도 실내습도(%)min 실내습도(%)max  \n",
       "65   NaN  석회보르도 1000ppm, 10분 살균\\n23℃, 광공급(2줄)  2020        NaN        NaN  \n",
       "66   NaN                                  NaN  2020        NaN        NaN  \n",
       "67   NaN                                  NaN  2020        NaN        NaN  \n",
       "68   NaN                               곰팡이 발생  2020        NaN        NaN  \n",
       "69   NaN                                  NaN  2020         63         67  \n",
       "..   ...                                  ...   ...        ...        ...  \n",
       "392  NaN                                  NaN  2021        NaN        NaN  \n",
       "393  NaN                                  NaN  2021        NaN        NaN  \n",
       "394  NaN                                  NaN  2021        NaN        NaN  \n",
       "395  NaN                                  NaN  2021        NaN        NaN  \n",
       "396  NaN                                  NaN  2021        NaN        NaN  \n",
       "\n",
       "[332 rows x 15 columns]"
      ]
     },
     "execution_count": 24,
     "metadata": {},
     "output_type": "execute_result"
    }
   ],
   "source": [
    "df_first"
   ]
  },
  {
   "cell_type": "markdown",
   "metadata": {},
   "source": [
    "#### 실내습도(%)min 확인"
   ]
  },
  {
   "cell_type": "code",
   "execution_count": 25,
   "metadata": {},
   "outputs": [
    {
     "data": {
      "text/plain": [
       "array([nan, '63', '66', '74', '75', '78', '79', '83', '81', '76', '67',\n",
       "       '47', '68', '80', '72', '70', '73', '57', '59', '69', '61', '62',\n",
       "       '77', '65', '64', '78.3', '52'], dtype=object)"
      ]
     },
     "execution_count": 25,
     "metadata": {},
     "output_type": "execute_result"
    }
   ],
   "source": [
    "df_first[\"실내습도(%)min\"].unique()"
   ]
  },
  {
   "cell_type": "code",
   "execution_count": 26,
   "metadata": {},
   "outputs": [
    {
     "data": {
      "text/plain": [
       "179"
      ]
     },
     "execution_count": 26,
     "metadata": {},
     "output_type": "execute_result"
    }
   ],
   "source": [
    "df_first[\"실내습도(%)min\"].isnull().sum()"
   ]
  },
  {
   "cell_type": "code",
   "execution_count": 27,
   "metadata": {},
   "outputs": [
    {
     "name": "stderr",
     "output_type": "stream",
     "text": [
      "C:\\Users\\minjumg\\AppData\\Local\\Temp/ipykernel_10340/2866556728.py:1: SettingWithCopyWarning: \n",
      "A value is trying to be set on a copy of a slice from a DataFrame.\n",
      "Try using .loc[row_indexer,col_indexer] = value instead\n",
      "\n",
      "See the caveats in the documentation: https://pandas.pydata.org/pandas-docs/stable/user_guide/indexing.html#returning-a-view-versus-a-copy\n",
      "  df_first[\"실내습도(%)min\"] = df_first[\"실내습도(%)min\"].astype(\"float64\")\n"
     ]
    }
   ],
   "source": [
    "df_first[\"실내습도(%)min\"] = df_first[\"실내습도(%)min\"].astype(\"float64\")"
   ]
  },
  {
   "cell_type": "code",
   "execution_count": 28,
   "metadata": {
    "scrolled": true
   },
   "outputs": [
    {
     "data": {
      "text/plain": [
       "69"
      ]
     },
     "execution_count": 28,
     "metadata": {},
     "output_type": "execute_result"
    }
   ],
   "source": [
    "min_in = round(df_first[\"실내습도(%)min\"].mean()) # 실내습도 min 의 평균반올림한값 저장\n",
    "min_in"
   ]
  },
  {
   "cell_type": "code",
   "execution_count": 29,
   "metadata": {
    "scrolled": true
   },
   "outputs": [
    {
     "name": "stderr",
     "output_type": "stream",
     "text": [
      "C:\\Users\\minjumg\\AppData\\Local\\Temp/ipykernel_10340/1072220617.py:1: SettingWithCopyWarning: \n",
      "A value is trying to be set on a copy of a slice from a DataFrame.\n",
      "Try using .loc[row_indexer,col_indexer] = value instead\n",
      "\n",
      "See the caveats in the documentation: https://pandas.pydata.org/pandas-docs/stable/user_guide/indexing.html#returning-a-view-versus-a-copy\n",
      "  df_first[\"실내습도(%)min\"] = df_first[\"실내습도(%)min\"].fillna(min_in)\n"
     ]
    }
   ],
   "source": [
    "df_first[\"실내습도(%)min\"] = df_first[\"실내습도(%)min\"].fillna(min_in)"
   ]
  },
  {
   "cell_type": "code",
   "execution_count": 30,
   "metadata": {},
   "outputs": [
    {
     "name": "stderr",
     "output_type": "stream",
     "text": [
      "C:\\Users\\minjumg\\AppData\\Local\\Temp/ipykernel_10340/225716948.py:1: SettingWithCopyWarning: \n",
      "A value is trying to be set on a copy of a slice from a DataFrame.\n",
      "Try using .loc[row_indexer,col_indexer] = value instead\n",
      "\n",
      "See the caveats in the documentation: https://pandas.pydata.org/pandas-docs/stable/user_guide/indexing.html#returning-a-view-versus-a-copy\n",
      "  df_first[\"실내습도(%)min\"] = df_first[\"실내습도(%)min\"].astype(\"int64\")\n"
     ]
    }
   ],
   "source": [
    "df_first[\"실내습도(%)min\"] = df_first[\"실내습도(%)min\"].astype(\"int64\")"
   ]
  },
  {
   "cell_type": "code",
   "execution_count": 31,
   "metadata": {
    "scrolled": true
   },
   "outputs": [
    {
     "data": {
      "text/plain": [
       "69    180\n",
       "66     37\n",
       "67     26\n",
       "68     13\n",
       "78     11\n",
       "76     10\n",
       "75      8\n",
       "79      8\n",
       "65      7\n",
       "64      5\n",
       "59      4\n",
       "80      4\n",
       "73      3\n",
       "74      3\n",
       "62      2\n",
       "72      2\n",
       "70      1\n",
       "57      1\n",
       "63      1\n",
       "61      1\n",
       "47      1\n",
       "77      1\n",
       "81      1\n",
       "83      1\n",
       "52      1\n",
       "Name: 실내습도(%)min, dtype: int64"
      ]
     },
     "execution_count": 31,
     "metadata": {},
     "output_type": "execute_result"
    }
   ],
   "source": [
    "df_first[\"실내습도(%)min\"].value_counts()"
   ]
  },
  {
   "cell_type": "markdown",
   "metadata": {},
   "source": [
    "* 널값 처리 잘된거 확인해보자"
   ]
  },
  {
   "cell_type": "code",
   "execution_count": 32,
   "metadata": {},
   "outputs": [
    {
     "data": {
      "text/plain": [
       "0"
      ]
     },
     "execution_count": 32,
     "metadata": {},
     "output_type": "execute_result"
    }
   ],
   "source": [
    "df_first[\"실내습도(%)min\"].isnull().sum()"
   ]
  },
  {
   "cell_type": "markdown",
   "metadata": {},
   "source": [
    "* 실내습도(%) max 확인해보자"
   ]
  },
  {
   "cell_type": "code",
   "execution_count": 33,
   "metadata": {},
   "outputs": [
    {
     "data": {
      "text/plain": [
       "array([nan, '67', '76', '80', '81', '85', '84', '82', '72', '71', '73',\n",
       "       '77', None, '83', '78', '87', '92', '63', '66', '69', '70'],\n",
       "      dtype=object)"
      ]
     },
     "execution_count": 33,
     "metadata": {},
     "output_type": "execute_result"
    }
   ],
   "source": [
    "df_first[\"실내습도(%)max\"].unique()"
   ]
  },
  {
   "cell_type": "code",
   "execution_count": 34,
   "metadata": {
    "scrolled": true
   },
   "outputs": [
    {
     "data": {
      "text/plain": [
       "181"
      ]
     },
     "execution_count": 34,
     "metadata": {},
     "output_type": "execute_result"
    }
   ],
   "source": [
    "df_first[\"실내습도(%)max\"].isnull().sum() # 널값갯수 반환"
   ]
  },
  {
   "cell_type": "code",
   "execution_count": 35,
   "metadata": {},
   "outputs": [
    {
     "name": "stderr",
     "output_type": "stream",
     "text": [
      "C:\\Users\\minjumg\\AppData\\Local\\Temp/ipykernel_10340/3412175923.py:1: SettingWithCopyWarning: \n",
      "A value is trying to be set on a copy of a slice from a DataFrame.\n",
      "Try using .loc[row_indexer,col_indexer] = value instead\n",
      "\n",
      "See the caveats in the documentation: https://pandas.pydata.org/pandas-docs/stable/user_guide/indexing.html#returning-a-view-versus-a-copy\n",
      "  df_first[\"실내습도(%)max\"] = df_first[\"실내습도(%)max\"].astype(\"float64\")\n"
     ]
    }
   ],
   "source": [
    "df_first[\"실내습도(%)max\"] = df_first[\"실내습도(%)max\"].astype(\"float64\")"
   ]
  },
  {
   "cell_type": "code",
   "execution_count": 36,
   "metadata": {},
   "outputs": [
    {
     "data": {
      "text/plain": [
       "76"
      ]
     },
     "execution_count": 36,
     "metadata": {},
     "output_type": "execute_result"
    }
   ],
   "source": [
    "max_in = round(df_first[\"실내습도(%)max\"].mean())\n",
    "max_in"
   ]
  },
  {
   "cell_type": "code",
   "execution_count": 37,
   "metadata": {},
   "outputs": [
    {
     "name": "stderr",
     "output_type": "stream",
     "text": [
      "C:\\Users\\minjumg\\AppData\\Local\\Temp/ipykernel_10340/2958475033.py:1: SettingWithCopyWarning: \n",
      "A value is trying to be set on a copy of a slice from a DataFrame.\n",
      "Try using .loc[row_indexer,col_indexer] = value instead\n",
      "\n",
      "See the caveats in the documentation: https://pandas.pydata.org/pandas-docs/stable/user_guide/indexing.html#returning-a-view-versus-a-copy\n",
      "  df_first[\"실내습도(%)max\"] = df_first[\"실내습도(%)max\"].fillna(max_in)\n"
     ]
    }
   ],
   "source": [
    "df_first[\"실내습도(%)max\"] = df_first[\"실내습도(%)max\"].fillna(max_in)"
   ]
  },
  {
   "cell_type": "code",
   "execution_count": 38,
   "metadata": {},
   "outputs": [
    {
     "name": "stderr",
     "output_type": "stream",
     "text": [
      "C:\\Users\\minjumg\\AppData\\Local\\Temp/ipykernel_10340/298217303.py:1: SettingWithCopyWarning: \n",
      "A value is trying to be set on a copy of a slice from a DataFrame.\n",
      "Try using .loc[row_indexer,col_indexer] = value instead\n",
      "\n",
      "See the caveats in the documentation: https://pandas.pydata.org/pandas-docs/stable/user_guide/indexing.html#returning-a-view-versus-a-copy\n",
      "  df_first[\"실내습도(%)max\"] = df_first[\"실내습도(%)max\"].astype(\"int64\")\n"
     ]
    }
   ],
   "source": [
    "df_first[\"실내습도(%)max\"] = df_first[\"실내습도(%)max\"].astype(\"int64\")"
   ]
  },
  {
   "cell_type": "code",
   "execution_count": 39,
   "metadata": {},
   "outputs": [
    {
     "data": {
      "text/plain": [
       "76    185\n",
       "72     45\n",
       "71     33\n",
       "83     13\n",
       "84     11\n",
       "81      9\n",
       "82      9\n",
       "80      5\n",
       "73      4\n",
       "85      4\n",
       "70      3\n",
       "67      2\n",
       "78      2\n",
       "66      2\n",
       "77      1\n",
       "87      1\n",
       "92      1\n",
       "63      1\n",
       "69      1\n",
       "Name: 실내습도(%)max, dtype: int64"
      ]
     },
     "execution_count": 39,
     "metadata": {},
     "output_type": "execute_result"
    }
   ],
   "source": [
    "df_first[\"실내습도(%)max\"].value_counts()"
   ]
  },
  {
   "cell_type": "code",
   "execution_count": 40,
   "metadata": {
    "scrolled": true
   },
   "outputs": [
    {
     "data": {
      "text/plain": [
       "0"
      ]
     },
     "execution_count": 40,
     "metadata": {},
     "output_type": "execute_result"
    }
   ],
   "source": [
    "df_first[\"실내습도(%)max\"].isnull().sum()"
   ]
  },
  {
   "cell_type": "markdown",
   "metadata": {
    "id": "DuQY4LFFoU7z"
   },
   "source": [
    "### 실내온도(℃) 전처리"
   ]
  },
  {
   "cell_type": "code",
   "execution_count": 41,
   "metadata": {
    "colab": {
     "base_uri": "https://localhost:8080/"
    },
    "executionInfo": {
     "elapsed": 117,
     "status": "ok",
     "timestamp": 1627268719833,
     "user": {
      "displayName": "정연우",
      "photoUrl": "",
      "userId": "10457408909297065633"
     },
     "user_tz": -540
    },
    "id": "O7Y79EmIuZcx",
    "outputId": "48da990d-005b-47a2-cb3b-9fbafbf1aef1"
   },
   "outputs": [
    {
     "data": {
      "text/plain": [
       "array([nan, '19.5~21.7', '20.3~20.9', '20.0~20.8', '20.1~20.8',\n",
       "       '20.2~21.1', '20.2~21.6', '20.3~21.7', '20.3~21.9', '20.3~22.0',\n",
       "       '19.5~22.0', '19.3~21.0', '19.2~20.8', '20.0~25.3', '19.3~21.1',\n",
       "       '19.2~20.5', '19.4~20.5', '19.2~20.6', '19.4~20.6', '19.3~20.5',\n",
       "       '20.1~21.6', '20.2~21.8', '20.4~21.6', '21.1~22.7', '21.3~22.7',\n",
       "       '20.2~22.5', '20.2~21.7', '20.4~21.7', '20.3~20.6', '20.4~21.0',\n",
       "       '19.4~21.0', '19.7~21.0', '19.7~21.8', '19.7~21.2', '19.5~21.0',\n",
       "       '19.5~20.9', '19.4~20.9', '19.2~20.9', '19.3~20.4', '19.3~20.9',\n",
       "       '19.3~20.6', '19.3~21.9', '20.5~21.9', '20.4~21.9', '20.9~22.3',\n",
       "       '20.9~52.4', '20.2~32.5', '20.4~20.9', '20.4~21.8', '21.2~21.9',\n",
       "       '19.6~21.8', '19.4~20.4', '20.2~21.4', '20.5~22.0', '20.3~22.6',\n",
       "       '19.1~21.2', '19.5~21.2', '19.2~21.2', '19.2~21.0', '19.2~20.2',\n",
       "       '19.2~20.3', '19.0~20.3', '19.0~20.4', '19.1~20.4', '19.1~20.5',\n",
       "       '19.1~20.7', '19.1~20.6', '18.9~20.5', '18.9~20.3', '19',\n",
       "       '19.1~21.3'], dtype=object)"
      ]
     },
     "execution_count": 41,
     "metadata": {},
     "output_type": "execute_result"
    }
   ],
   "source": [
    "df_first[\"실내온도(℃)\"].unique()"
   ]
  },
  {
   "cell_type": "code",
   "execution_count": 42,
   "metadata": {
    "colab": {
     "base_uri": "https://localhost:8080/"
    },
    "executionInfo": {
     "elapsed": 111,
     "status": "ok",
     "timestamp": 1627268719833,
     "user": {
      "displayName": "정연우",
      "photoUrl": "",
      "userId": "10457408909297065633"
     },
     "user_tz": -540
    },
    "id": "G6MHgNTnoU70",
    "outputId": "2e2520d7-d246-4ad1-9db3-15bc4c51ce22"
   },
   "outputs": [
    {
     "data": {
      "text/plain": [
       "179"
      ]
     },
     "execution_count": 42,
     "metadata": {},
     "output_type": "execute_result"
    }
   ],
   "source": [
    "df_first[\"실내온도(℃)\"].isnull().sum()"
   ]
  },
  {
   "cell_type": "code",
   "execution_count": 43,
   "metadata": {
    "colab": {
     "base_uri": "https://localhost:8080/"
    },
    "executionInfo": {
     "elapsed": 106,
     "status": "ok",
     "timestamp": 1627268719834,
     "user": {
      "displayName": "정연우",
      "photoUrl": "",
      "userId": "10457408909297065633"
     },
     "user_tz": -540
    },
    "id": "aHtogJ4KoU71",
    "outputId": "2fca896a-bebd-4eb8-af63-f8c479e8f94b"
   },
   "outputs": [
    {
     "data": {
      "text/plain": [
       "array([nan, '19.5~21.7', '20.3~20.9', '20.0~20.8', '20.1~20.8',\n",
       "       '20.2~21.1', '20.2~21.6', '20.3~21.7', '20.3~21.9', '20.3~22.0',\n",
       "       '19.5~22.0', '19.3~21.0', '19.2~20.8', '20.0~25.3', '19.3~21.1',\n",
       "       '19.2~20.5', '19.4~20.5', '19.2~20.6', '19.4~20.6', '19.3~20.5',\n",
       "       '20.1~21.6', '20.2~21.8', '20.4~21.6', '21.1~22.7', '21.3~22.7',\n",
       "       '20.2~22.5', '20.2~21.7', '20.4~21.7', '20.3~20.6', '20.4~21.0',\n",
       "       '19.4~21.0', '19.7~21.0', '19.7~21.8', '19.7~21.2', '19.5~21.0',\n",
       "       '19.5~20.9', '19.4~20.9', '19.2~20.9', '19.3~20.4', '19.3~20.9',\n",
       "       '19.3~20.6', '19.3~21.9', '20.5~21.9', '20.4~21.9', '20.9~22.3',\n",
       "       '20.9~52.4', '20.2~32.5', '20.4~20.9', '20.4~21.8', '21.2~21.9',\n",
       "       '19.6~21.8', '19.4~20.4', '20.2~21.4', '20.5~22.0', '20.3~22.6',\n",
       "       '19.1~21.2', '19.5~21.2', '19.2~21.2', '19.2~21.0', '19.2~20.2',\n",
       "       '19.2~20.3', '19.0~20.3', '19.0~20.4', '19.1~20.4', '19.1~20.5',\n",
       "       '19.1~20.7', '19.1~20.6', '18.9~20.5', '18.9~20.3', '19',\n",
       "       '19.1~21.3'], dtype=object)"
      ]
     },
     "execution_count": 43,
     "metadata": {},
     "output_type": "execute_result"
    }
   ],
   "source": [
    "df_first[\"실내온도(℃)\"].unique()"
   ]
  },
  {
   "cell_type": "code",
   "execution_count": 44,
   "metadata": {
    "colab": {
     "base_uri": "https://localhost:8080/"
    },
    "executionInfo": {
     "elapsed": 103,
     "status": "ok",
     "timestamp": 1627268719835,
     "user": {
      "displayName": "정연우",
      "photoUrl": "",
      "userId": "10457408909297065633"
     },
     "user_tz": -540
    },
    "id": "LDsOYbLZoU72",
    "outputId": "55059ff2-3962-48c6-df6d-db87a3c62bd8"
   },
   "outputs": [
    {
     "name": "stderr",
     "output_type": "stream",
     "text": [
      "C:\\Users\\minjumg\\AppData\\Local\\Temp/ipykernel_10340/1655771995.py:1: SettingWithCopyWarning: \n",
      "A value is trying to be set on a copy of a slice from a DataFrame.\n",
      "Try using .loc[row_indexer,col_indexer] = value instead\n",
      "\n",
      "See the caveats in the documentation: https://pandas.pydata.org/pandas-docs/stable/user_guide/indexing.html#returning-a-view-versus-a-copy\n",
      "  df_first[\"실내온도min\"] = df_first[\"실내온도(℃)\"].str.split(\"~\", expand=True)[0]\n",
      "C:\\Users\\minjumg\\AppData\\Local\\Temp/ipykernel_10340/1655771995.py:2: SettingWithCopyWarning: \n",
      "A value is trying to be set on a copy of a slice from a DataFrame.\n",
      "Try using .loc[row_indexer,col_indexer] = value instead\n",
      "\n",
      "See the caveats in the documentation: https://pandas.pydata.org/pandas-docs/stable/user_guide/indexing.html#returning-a-view-versus-a-copy\n",
      "  df_first[\"실내온도max\"] = df_first[\"실내온도(℃)\"].str.split(\"~\", expand=True)[1]\n"
     ]
    }
   ],
   "source": [
    "df_first[\"실내온도min\"] = df_first[\"실내온도(℃)\"].str.split(\"~\", expand=True)[0]\n",
    "df_first[\"실내온도max\"] = df_first[\"실내온도(℃)\"].str.split(\"~\", expand=True)[1]\n"
   ]
  },
  {
   "cell_type": "markdown",
   "metadata": {
    "id": "xokm7YXKoU76"
   },
   "source": [
    "#### 실내온도min 확인"
   ]
  },
  {
   "cell_type": "code",
   "execution_count": 45,
   "metadata": {
    "colab": {
     "base_uri": "https://localhost:8080/"
    },
    "executionInfo": {
     "elapsed": 95,
     "status": "ok",
     "timestamp": 1627268719835,
     "user": {
      "displayName": "정연우",
      "photoUrl": "",
      "userId": "10457408909297065633"
     },
     "user_tz": -540
    },
    "id": "qRQDD8DJudNW",
    "outputId": "a8b8e21d-59a7-407d-fff1-3d46e68f0c3d"
   },
   "outputs": [
    {
     "data": {
      "text/plain": [
       "array([nan, '19.5', '20.3', '20.0', '20.1', '20.2', '19.3', '19.2',\n",
       "       '19.4', '20.4', '21.1', '21.3', '19.7', '20.5', '20.9', '21.2',\n",
       "       '19.6', '19.1', '19.0', '18.9', '19'], dtype=object)"
      ]
     },
     "execution_count": 45,
     "metadata": {},
     "output_type": "execute_result"
    }
   ],
   "source": [
    "df_first[\"실내온도min\"].unique()"
   ]
  },
  {
   "cell_type": "code",
   "execution_count": 46,
   "metadata": {
    "colab": {
     "base_uri": "https://localhost:8080/"
    },
    "executionInfo": {
     "elapsed": 90,
     "status": "ok",
     "timestamp": 1627268719836,
     "user": {
      "displayName": "정연우",
      "photoUrl": "",
      "userId": "10457408909297065633"
     },
     "user_tz": -540
    },
    "id": "kJCTP4utoU77",
    "outputId": "0732fd55-fbea-4f79-d9f1-980fcb21b835"
   },
   "outputs": [
    {
     "data": {
      "text/plain": [
       "179"
      ]
     },
     "execution_count": 46,
     "metadata": {},
     "output_type": "execute_result"
    }
   ],
   "source": [
    "df_first[\"실내온도min\"].isnull().sum()"
   ]
  },
  {
   "cell_type": "code",
   "execution_count": 47,
   "metadata": {
    "colab": {
     "base_uri": "https://localhost:8080/"
    },
    "executionInfo": {
     "elapsed": 86,
     "status": "ok",
     "timestamp": 1627268719836,
     "user": {
      "displayName": "정연우",
      "photoUrl": "",
      "userId": "10457408909297065633"
     },
     "user_tz": -540
    },
    "id": "-aaLVt-KoU77",
    "outputId": "340a49d9-7594-48c2-ad76-9fb24bdb07ca"
   },
   "outputs": [
    {
     "name": "stderr",
     "output_type": "stream",
     "text": [
      "C:\\Users\\minjumg\\AppData\\Local\\Temp/ipykernel_10340/2523511652.py:1: SettingWithCopyWarning: \n",
      "A value is trying to be set on a copy of a slice from a DataFrame.\n",
      "Try using .loc[row_indexer,col_indexer] = value instead\n",
      "\n",
      "See the caveats in the documentation: https://pandas.pydata.org/pandas-docs/stable/user_guide/indexing.html#returning-a-view-versus-a-copy\n",
      "  df_first[\"실내온도min\"] = df_first[\"실내온도min\"].astype(\"float64\")\n"
     ]
    }
   ],
   "source": [
    "df_first[\"실내온도min\"] = df_first[\"실내온도min\"].astype(\"float64\")"
   ]
  },
  {
   "cell_type": "code",
   "execution_count": 48,
   "metadata": {
    "colab": {
     "base_uri": "https://localhost:8080/"
    },
    "executionInfo": {
     "elapsed": 81,
     "status": "ok",
     "timestamp": 1627268719836,
     "user": {
      "displayName": "정연우",
      "photoUrl": "",
      "userId": "10457408909297065633"
     },
     "user_tz": -540
    },
    "id": "djKIaf0-oU78",
    "outputId": "e4e00b6f-664a-4e14-e164-64f71eae8c0d"
   },
   "outputs": [
    {
     "data": {
      "text/plain": [
       "20"
      ]
     },
     "execution_count": 48,
     "metadata": {},
     "output_type": "execute_result"
    }
   ],
   "source": [
    "min_in = round(df_first[\"실내온도min\"].mean())\n",
    "min_in"
   ]
  },
  {
   "cell_type": "code",
   "execution_count": 49,
   "metadata": {
    "colab": {
     "base_uri": "https://localhost:8080/"
    },
    "executionInfo": {
     "elapsed": 78,
     "status": "ok",
     "timestamp": 1627268719837,
     "user": {
      "displayName": "정연우",
      "photoUrl": "",
      "userId": "10457408909297065633"
     },
     "user_tz": -540
    },
    "id": "tk2y-J8doU78",
    "outputId": "106da8cc-b6f0-4780-de02-cc748af15e49"
   },
   "outputs": [
    {
     "name": "stderr",
     "output_type": "stream",
     "text": [
      "C:\\Users\\minjumg\\AppData\\Local\\Temp/ipykernel_10340/2159228202.py:1: SettingWithCopyWarning: \n",
      "A value is trying to be set on a copy of a slice from a DataFrame.\n",
      "Try using .loc[row_indexer,col_indexer] = value instead\n",
      "\n",
      "See the caveats in the documentation: https://pandas.pydata.org/pandas-docs/stable/user_guide/indexing.html#returning-a-view-versus-a-copy\n",
      "  df_first[\"실내온도min\"] = df_first[\"실내온도min\"].fillna(min_in)\n"
     ]
    }
   ],
   "source": [
    "df_first[\"실내온도min\"] = df_first[\"실내온도min\"].fillna(min_in)"
   ]
  },
  {
   "cell_type": "code",
   "execution_count": 50,
   "metadata": {
    "colab": {
     "base_uri": "https://localhost:8080/"
    },
    "executionInfo": {
     "elapsed": 74,
     "status": "ok",
     "timestamp": 1627268719837,
     "user": {
      "displayName": "정연우",
      "photoUrl": "",
      "userId": "10457408909297065633"
     },
     "user_tz": -540
    },
    "id": "CV_10QILoU79",
    "outputId": "4bfd597b-96b4-4478-e80e-e6de0db113db"
   },
   "outputs": [
    {
     "data": {
      "text/plain": [
       "20.0    183\n",
       "19.2     28\n",
       "20.2     24\n",
       "19.3     12\n",
       "19.1     11\n",
       "19.4     11\n",
       "20.4      9\n",
       "19.0      9\n",
       "18.9      9\n",
       "20.3      9\n",
       "19.5      8\n",
       "19.7      5\n",
       "21.3      4\n",
       "20.5      3\n",
       "20.9      2\n",
       "20.1      2\n",
       "21.2      1\n",
       "19.6      1\n",
       "21.1      1\n",
       "Name: 실내온도min, dtype: int64"
      ]
     },
     "execution_count": 50,
     "metadata": {},
     "output_type": "execute_result"
    }
   ],
   "source": [
    "df_first[\"실내온도min\"].value_counts()"
   ]
  },
  {
   "cell_type": "code",
   "execution_count": 51,
   "metadata": {
    "colab": {
     "base_uri": "https://localhost:8080/"
    },
    "executionInfo": {
     "elapsed": 69,
     "status": "ok",
     "timestamp": 1627268719837,
     "user": {
      "displayName": "정연우",
      "photoUrl": "",
      "userId": "10457408909297065633"
     },
     "user_tz": -540
    },
    "id": "_p9mwwtooU7-",
    "outputId": "dbc6bd11-5775-4745-b889-e8a0e0e75c85"
   },
   "outputs": [
    {
     "data": {
      "text/plain": [
       "0"
      ]
     },
     "execution_count": 51,
     "metadata": {},
     "output_type": "execute_result"
    }
   ],
   "source": [
    "df_first[\"실내온도min\"].isnull().sum()"
   ]
  },
  {
   "cell_type": "markdown",
   "metadata": {
    "id": "d5SjTJzZoU7_"
   },
   "source": [
    "- 널값 처리 잘 된거 확인 가능"
   ]
  },
  {
   "cell_type": "markdown",
   "metadata": {
    "id": "trR1FIOZpcP3"
   },
   "source": [
    "#### 실내온도max 확인"
   ]
  },
  {
   "cell_type": "code",
   "execution_count": 52,
   "metadata": {
    "colab": {
     "base_uri": "https://localhost:8080/"
    },
    "executionInfo": {
     "elapsed": 66,
     "status": "ok",
     "timestamp": 1627268719838,
     "user": {
      "displayName": "정연우",
      "photoUrl": "",
      "userId": "10457408909297065633"
     },
     "user_tz": -540
    },
    "id": "86yXXPUCuhnJ",
    "outputId": "7c23a900-ec57-4c77-ed4c-478e3db6c78e"
   },
   "outputs": [
    {
     "data": {
      "text/plain": [
       "array([nan, '21.7', '20.9', '20.8', '21.1', '21.6', '21.9', '22.0',\n",
       "       '21.0', '25.3', '20.5', '20.6', '21.8', '22.7', '22.5', '21.2',\n",
       "       '20.4', '22.3', '52.4', '32.5', '21.4', '22.6', '20.2', '20.3',\n",
       "       '20.7', None, '21.3'], dtype=object)"
      ]
     },
     "execution_count": 52,
     "metadata": {},
     "output_type": "execute_result"
    }
   ],
   "source": [
    "df_first[\"실내온도max\"].unique()"
   ]
  },
  {
   "cell_type": "code",
   "execution_count": 53,
   "metadata": {
    "colab": {
     "base_uri": "https://localhost:8080/"
    },
    "executionInfo": {
     "elapsed": 62,
     "status": "ok",
     "timestamp": 1627268719838,
     "user": {
      "displayName": "정연우",
      "photoUrl": "",
      "userId": "10457408909297065633"
     },
     "user_tz": -540
    },
    "id": "uruodGakpcP3",
    "outputId": "31731ddc-5803-4ab1-b87f-7e392a54169e"
   },
   "outputs": [
    {
     "data": {
      "text/plain": [
       "180"
      ]
     },
     "execution_count": 53,
     "metadata": {},
     "output_type": "execute_result"
    }
   ],
   "source": [
    "df_first[\"실내온도max\"].isnull().sum()"
   ]
  },
  {
   "cell_type": "code",
   "execution_count": 54,
   "metadata": {
    "colab": {
     "base_uri": "https://localhost:8080/"
    },
    "executionInfo": {
     "elapsed": 57,
     "status": "ok",
     "timestamp": 1627268719838,
     "user": {
      "displayName": "정연우",
      "photoUrl": "",
      "userId": "10457408909297065633"
     },
     "user_tz": -540
    },
    "id": "XbXJa9wQpcP4",
    "outputId": "14dfbd13-1026-420b-8527-4e947ed7d85a"
   },
   "outputs": [
    {
     "name": "stderr",
     "output_type": "stream",
     "text": [
      "C:\\Users\\minjumg\\AppData\\Local\\Temp/ipykernel_10340/2148627208.py:1: SettingWithCopyWarning: \n",
      "A value is trying to be set on a copy of a slice from a DataFrame.\n",
      "Try using .loc[row_indexer,col_indexer] = value instead\n",
      "\n",
      "See the caveats in the documentation: https://pandas.pydata.org/pandas-docs/stable/user_guide/indexing.html#returning-a-view-versus-a-copy\n",
      "  df_first[\"실내온도max\"] = df_first[\"실내온도max\"].astype(\"float64\")\n"
     ]
    }
   ],
   "source": [
    "df_first[\"실내온도max\"] = df_first[\"실내온도max\"].astype(\"float64\")"
   ]
  },
  {
   "cell_type": "code",
   "execution_count": 55,
   "metadata": {
    "colab": {
     "base_uri": "https://localhost:8080/"
    },
    "executionInfo": {
     "elapsed": 53,
     "status": "ok",
     "timestamp": 1627268719839,
     "user": {
      "displayName": "정연우",
      "photoUrl": "",
      "userId": "10457408909297065633"
     },
     "user_tz": -540
    },
    "id": "GEp1FvwwpcP5",
    "outputId": "bba1dac5-fa4f-4c8b-e816-ff9d866ecb8e"
   },
   "outputs": [
    {
     "data": {
      "text/plain": [
       "21"
      ]
     },
     "execution_count": 55,
     "metadata": {},
     "output_type": "execute_result"
    }
   ],
   "source": [
    "min_in = round(df_first[\"실내온도max\"].mean())\n",
    "min_in"
   ]
  },
  {
   "cell_type": "code",
   "execution_count": 56,
   "metadata": {
    "colab": {
     "base_uri": "https://localhost:8080/"
    },
    "executionInfo": {
     "elapsed": 48,
     "status": "ok",
     "timestamp": 1627268719839,
     "user": {
      "displayName": "정연우",
      "photoUrl": "",
      "userId": "10457408909297065633"
     },
     "user_tz": -540
    },
    "id": "ly7B094ppcP6",
    "outputId": "936d13d1-2cba-4611-8350-80f07816d8bb"
   },
   "outputs": [
    {
     "name": "stderr",
     "output_type": "stream",
     "text": [
      "C:\\Users\\minjumg\\AppData\\Local\\Temp/ipykernel_10340/3352067419.py:1: SettingWithCopyWarning: \n",
      "A value is trying to be set on a copy of a slice from a DataFrame.\n",
      "Try using .loc[row_indexer,col_indexer] = value instead\n",
      "\n",
      "See the caveats in the documentation: https://pandas.pydata.org/pandas-docs/stable/user_guide/indexing.html#returning-a-view-versus-a-copy\n",
      "  df_first[\"실내온도max\"] = df_first[\"실내온도max\"].fillna(min_in)\n"
     ]
    }
   ],
   "source": [
    "df_first[\"실내온도max\"] = df_first[\"실내온도max\"].fillna(min_in)"
   ]
  },
  {
   "cell_type": "code",
   "execution_count": 57,
   "metadata": {
    "colab": {
     "base_uri": "https://localhost:8080/"
    },
    "executionInfo": {
     "elapsed": 45,
     "status": "ok",
     "timestamp": 1627268719840,
     "user": {
      "displayName": "정연우",
      "photoUrl": "",
      "userId": "10457408909297065633"
     },
     "user_tz": -540
    },
    "id": "V9EC34ShpcP6",
    "outputId": "b07ae318-cea5-4fa5-fc47-5179bef9bda0"
   },
   "outputs": [
    {
     "data": {
      "text/plain": [
       "21.0    192\n",
       "20.3     19\n",
       "20.9     15\n",
       "21.8     15\n",
       "20.6     14\n",
       "20.5     13\n",
       "21.6     10\n",
       "20.8      7\n",
       "21.7      6\n",
       "21.9      6\n",
       "20.4      6\n",
       "21.2      5\n",
       "22.7      5\n",
       "22.0      3\n",
       "20.2      3\n",
       "20.7      3\n",
       "21.1      2\n",
       "22.5      1\n",
       "25.3      1\n",
       "22.3      1\n",
       "52.4      1\n",
       "32.5      1\n",
       "21.4      1\n",
       "22.6      1\n",
       "21.3      1\n",
       "Name: 실내온도max, dtype: int64"
      ]
     },
     "execution_count": 57,
     "metadata": {},
     "output_type": "execute_result"
    }
   ],
   "source": [
    "df_first[\"실내온도max\"].value_counts()"
   ]
  },
  {
   "cell_type": "code",
   "execution_count": 58,
   "metadata": {
    "colab": {
     "base_uri": "https://localhost:8080/"
    },
    "executionInfo": {
     "elapsed": 41,
     "status": "ok",
     "timestamp": 1627268719840,
     "user": {
      "displayName": "정연우",
      "photoUrl": "",
      "userId": "10457408909297065633"
     },
     "user_tz": -540
    },
    "id": "K7K_Sl3bpcP7",
    "outputId": "2109db21-7b2b-4e3d-bfd7-e15fc65ffca2"
   },
   "outputs": [
    {
     "data": {
      "text/plain": [
       "0"
      ]
     },
     "execution_count": 58,
     "metadata": {},
     "output_type": "execute_result"
    }
   ],
   "source": [
    "df_first[\"실내온도max\"].isnull().sum()"
   ]
  },
  {
   "cell_type": "markdown",
   "metadata": {
    "id": "lDUKf0cOpcP7"
   },
   "source": [
    "- 널값 처리 잘 된거 확인 가능"
   ]
  },
  {
   "cell_type": "markdown",
   "metadata": {
    "id": "UFSzkj_FtfzG"
   },
   "source": [
    "### 수온(℃) 전처리"
   ]
  },
  {
   "cell_type": "code",
   "execution_count": 59,
   "metadata": {
    "colab": {
     "base_uri": "https://localhost:8080/"
    },
    "executionInfo": {
     "elapsed": 81,
     "status": "ok",
     "timestamp": 1627268720315,
     "user": {
      "displayName": "정연우",
      "photoUrl": "",
      "userId": "10457408909297065633"
     },
     "user_tz": -540
    },
    "id": "vDh9RX8Euqdn",
    "outputId": "8ebb5f15-8cd3-4a93-dd8d-3b66d75d3ea6"
   },
   "outputs": [
    {
     "data": {
      "text/plain": [
       "array([nan, '19.8', '16.3', '16.6', '16.7', '16.5', '16.2', '23.6',\n",
       "       '16.8', '17.4', '17.3', '17', '17.2', '16.9', '17.8', '17.7',\n",
       "       '17.5', '17.6', '17.9', '18.6', '18.5', '18.8', '18.7', '18.9',\n",
       "       '23.4', '23.7', '18.3', '38.1', '20.4', '19.5', '19.4', '19.7',\n",
       "       '18.4', '19.1', '20.1', '20.5', '19.2', '20', '19.3', '19.6',\n",
       "       '27.1'], dtype=object)"
      ]
     },
     "execution_count": 59,
     "metadata": {},
     "output_type": "execute_result"
    }
   ],
   "source": [
    "df_first['수온(℃)'].unique()"
   ]
  },
  {
   "cell_type": "code",
   "execution_count": 60,
   "metadata": {
    "colab": {
     "base_uri": "https://localhost:8080/"
    },
    "executionInfo": {
     "elapsed": 76,
     "status": "ok",
     "timestamp": 1627268720315,
     "user": {
      "displayName": "정연우",
      "photoUrl": "",
      "userId": "10457408909297065633"
     },
     "user_tz": -540
    },
    "id": "OA7xHsC3tfzH",
    "outputId": "ca54ab91-68e7-4aa5-b1b7-6f46c21118f2"
   },
   "outputs": [
    {
     "data": {
      "text/plain": [
       "185"
      ]
     },
     "execution_count": 60,
     "metadata": {},
     "output_type": "execute_result"
    }
   ],
   "source": [
    "df_first['수온(℃)'].isnull().sum()"
   ]
  },
  {
   "cell_type": "code",
   "execution_count": 61,
   "metadata": {
    "colab": {
     "base_uri": "https://localhost:8080/"
    },
    "executionInfo": {
     "elapsed": 74,
     "status": "ok",
     "timestamp": 1627268720316,
     "user": {
      "displayName": "정연우",
      "photoUrl": "",
      "userId": "10457408909297065633"
     },
     "user_tz": -540
    },
    "id": "qX7gUM5DtfzH",
    "outputId": "69d61980-42f3-477a-baf3-8521c987b9fd"
   },
   "outputs": [
    {
     "name": "stderr",
     "output_type": "stream",
     "text": [
      "C:\\Users\\minjumg\\AppData\\Local\\Temp/ipykernel_10340/1129358026.py:1: SettingWithCopyWarning: \n",
      "A value is trying to be set on a copy of a slice from a DataFrame.\n",
      "Try using .loc[row_indexer,col_indexer] = value instead\n",
      "\n",
      "See the caveats in the documentation: https://pandas.pydata.org/pandas-docs/stable/user_guide/indexing.html#returning-a-view-versus-a-copy\n",
      "  df_first['수온(℃)'] = df_first['수온(℃)'].astype('float64')\n"
     ]
    }
   ],
   "source": [
    "df_first['수온(℃)'] = df_first['수온(℃)'].astype('float64')"
   ]
  },
  {
   "cell_type": "code",
   "execution_count": 62,
   "metadata": {
    "executionInfo": {
     "elapsed": 72,
     "status": "ok",
     "timestamp": 1627268720318,
     "user": {
      "displayName": "정연우",
      "photoUrl": "",
      "userId": "10457408909297065633"
     },
     "user_tz": -540
    },
    "id": "xCNntFM1tfzI"
   },
   "outputs": [],
   "source": [
    "water_mean = round(df_first['수온(℃)'].mean(),1)"
   ]
  },
  {
   "cell_type": "code",
   "execution_count": 63,
   "metadata": {
    "colab": {
     "base_uri": "https://localhost:8080/"
    },
    "executionInfo": {
     "elapsed": 73,
     "status": "ok",
     "timestamp": 1627268720320,
     "user": {
      "displayName": "정연우",
      "photoUrl": "",
      "userId": "10457408909297065633"
     },
     "user_tz": -540
    },
    "id": "tbXOlYActfzI",
    "outputId": "250ef7cb-0f8c-4ad6-8406-a52c5727c243"
   },
   "outputs": [
    {
     "name": "stderr",
     "output_type": "stream",
     "text": [
      "C:\\Users\\minjumg\\AppData\\Local\\Temp/ipykernel_10340/1502247302.py:1: SettingWithCopyWarning: \n",
      "A value is trying to be set on a copy of a slice from a DataFrame.\n",
      "Try using .loc[row_indexer,col_indexer] = value instead\n",
      "\n",
      "See the caveats in the documentation: https://pandas.pydata.org/pandas-docs/stable/user_guide/indexing.html#returning-a-view-versus-a-copy\n",
      "  df_first['수온(℃)'] = df_first['수온(℃)'].fillna(water_mean)\n"
     ]
    },
    {
     "data": {
      "text/plain": [
       "18.5    194\n",
       "17.3     11\n",
       "19.5     11\n",
       "18.9     10\n",
       "17.8      9\n",
       "17.7      8\n",
       "18.8      8\n",
       "18.7      7\n",
       "17.2      5\n",
       "17.5      5\n",
       "18.6      4\n",
       "17.6      4\n",
       "16.3      4\n",
       "16.5      4\n",
       "16.8      3\n",
       "16.6      3\n",
       "19.8      3\n",
       "18.4      3\n",
       "16.7      3\n",
       "19.3      3\n",
       "19.6      3\n",
       "17.4      3\n",
       "20.0      2\n",
       "17.0      2\n",
       "19.2      2\n",
       "18.3      2\n",
       "19.4      2\n",
       "19.7      2\n",
       "19.1      1\n",
       "20.5      1\n",
       "20.1      1\n",
       "23.6      1\n",
       "23.4      1\n",
       "20.4      1\n",
       "38.1      1\n",
       "23.7      1\n",
       "17.9      1\n",
       "16.9      1\n",
       "16.2      1\n",
       "27.1      1\n",
       "Name: 수온(℃), dtype: int64"
      ]
     },
     "execution_count": 63,
     "metadata": {},
     "output_type": "execute_result"
    }
   ],
   "source": [
    "df_first['수온(℃)'] = df_first['수온(℃)'].fillna(water_mean)\n",
    "df_first['수온(℃)'].value_counts()"
   ]
  },
  {
   "cell_type": "code",
   "execution_count": 64,
   "metadata": {
    "colab": {
     "base_uri": "https://localhost:8080/"
    },
    "executionInfo": {
     "elapsed": 67,
     "status": "ok",
     "timestamp": 1627268720321,
     "user": {
      "displayName": "정연우",
      "photoUrl": "",
      "userId": "10457408909297065633"
     },
     "user_tz": -540
    },
    "id": "U4uQKtcStfzI",
    "outputId": "66763dd6-55d7-4008-fdfe-ef602a8698f1"
   },
   "outputs": [
    {
     "data": {
      "text/plain": [
       "0"
      ]
     },
     "execution_count": 64,
     "metadata": {},
     "output_type": "execute_result"
    }
   ],
   "source": [
    "df_first['수온(℃)'].isnull().sum()"
   ]
  },
  {
   "cell_type": "markdown",
   "metadata": {
    "id": "PYeH8fPYtfzJ"
   },
   "source": [
    "- 널값 처리 잘 된거 확인 가능"
   ]
  },
  {
   "cell_type": "markdown",
   "metadata": {
    "id": "0Rfb6gxOvPX5"
   },
   "source": [
    "### 광시간(명/암) 전처리"
   ]
  },
  {
   "cell_type": "code",
   "execution_count": 65,
   "metadata": {
    "colab": {
     "base_uri": "https://localhost:8080/"
    },
    "executionInfo": {
     "elapsed": 62,
     "status": "ok",
     "timestamp": 1627268720322,
     "user": {
      "displayName": "정연우",
      "photoUrl": "",
      "userId": "10457408909297065633"
     },
     "user_tz": -540
    },
    "id": "TF88RKRwvPX6",
    "outputId": "58229407-5a3d-436f-a57c-da5f6493a4b9"
   },
   "outputs": [
    {
     "data": {
      "text/plain": [
       "array([nan, '12월 12일', '08월 16일'], dtype=object)"
      ]
     },
     "execution_count": 65,
     "metadata": {},
     "output_type": "execute_result"
    }
   ],
   "source": [
    "df_first[\"광시간(명/암)\"].unique()"
   ]
  },
  {
   "cell_type": "code",
   "execution_count": 66,
   "metadata": {
    "colab": {
     "base_uri": "https://localhost:8080/"
    },
    "executionInfo": {
     "elapsed": 59,
     "status": "ok",
     "timestamp": 1627268720323,
     "user": {
      "displayName": "정연우",
      "photoUrl": "",
      "userId": "10457408909297065633"
     },
     "user_tz": -540
    },
    "id": "nc80mp7MvPX7",
    "outputId": "037be055-daef-4baa-f922-6932bed1321b"
   },
   "outputs": [
    {
     "data": {
      "text/plain": [
       "111"
      ]
     },
     "execution_count": 66,
     "metadata": {},
     "output_type": "execute_result"
    }
   ],
   "source": [
    "df_first[\"광시간(명/암)\"].isnull().sum()"
   ]
  },
  {
   "cell_type": "code",
   "execution_count": 67,
   "metadata": {
    "colab": {
     "base_uri": "https://localhost:8080/"
    },
    "executionInfo": {
     "elapsed": 59,
     "status": "ok",
     "timestamp": 1627268720328,
     "user": {
      "displayName": "정연우",
      "photoUrl": "",
      "userId": "10457408909297065633"
     },
     "user_tz": -540
    },
    "id": "TffmlahRvPX8",
    "outputId": "8f6eb993-4840-461d-e75a-53092047ca3d"
   },
   "outputs": [
    {
     "name": "stderr",
     "output_type": "stream",
     "text": [
      "C:\\Users\\minjumg\\AppData\\Local\\Temp/ipykernel_10340/3759842420.py:1: SettingWithCopyWarning: \n",
      "A value is trying to be set on a copy of a slice from a DataFrame.\n",
      "Try using .loc[row_indexer,col_indexer] = value instead\n",
      "\n",
      "See the caveats in the documentation: https://pandas.pydata.org/pandas-docs/stable/user_guide/indexing.html#returning-a-view-versus-a-copy\n",
      "  df_first[\"광시간(명/암)min\"] = df_first[\"광시간(명/암)\"].str.split(\" \", expand=True)[0]\n",
      "C:\\Users\\minjumg\\AppData\\Local\\Temp/ipykernel_10340/3759842420.py:2: SettingWithCopyWarning: \n",
      "A value is trying to be set on a copy of a slice from a DataFrame.\n",
      "Try using .loc[row_indexer,col_indexer] = value instead\n",
      "\n",
      "See the caveats in the documentation: https://pandas.pydata.org/pandas-docs/stable/user_guide/indexing.html#returning-a-view-versus-a-copy\n",
      "  df_first[\"광시간(명/암)max\"] = df_first[\"광시간(명/암)\"].str.split(\" \", expand=True)[1]\n"
     ]
    }
   ],
   "source": [
    "df_first[\"광시간(명/암)min\"] = df_first[\"광시간(명/암)\"].str.split(\" \", expand=True)[0]\n",
    "df_first[\"광시간(명/암)max\"] = df_first[\"광시간(명/암)\"].str.split(\" \", expand=True)[1]\n"
   ]
  },
  {
   "cell_type": "markdown",
   "metadata": {
    "id": "ADgHicHJvPX8"
   },
   "source": [
    "#### 광시간(명/암)min 확인"
   ]
  },
  {
   "cell_type": "code",
   "execution_count": 68,
   "metadata": {
    "colab": {
     "base_uri": "https://localhost:8080/"
    },
    "executionInfo": {
     "elapsed": 57,
     "status": "ok",
     "timestamp": 1627268720330,
     "user": {
      "displayName": "정연우",
      "photoUrl": "",
      "userId": "10457408909297065633"
     },
     "user_tz": -540
    },
    "id": "8uuNszXRvPX-",
    "outputId": "56bb732e-4851-439e-817e-016938f29b3f"
   },
   "outputs": [
    {
     "data": {
      "text/plain": [
       "array([nan, '12월', '08월'], dtype=object)"
      ]
     },
     "execution_count": 68,
     "metadata": {},
     "output_type": "execute_result"
    }
   ],
   "source": [
    "df_first[\"광시간(명/암)min\"].unique()"
   ]
  },
  {
   "cell_type": "code",
   "execution_count": 69,
   "metadata": {
    "colab": {
     "base_uri": "https://localhost:8080/"
    },
    "executionInfo": {
     "elapsed": 53,
     "status": "ok",
     "timestamp": 1627268720330,
     "user": {
      "displayName": "정연우",
      "photoUrl": "",
      "userId": "10457408909297065633"
     },
     "user_tz": -540
    },
    "id": "JrH8SPH-vPX_",
    "outputId": "ccc7de06-7ec7-4f85-ac05-38d28ae5e10e"
   },
   "outputs": [
    {
     "data": {
      "text/plain": [
       "111"
      ]
     },
     "execution_count": 69,
     "metadata": {},
     "output_type": "execute_result"
    }
   ],
   "source": [
    "df_first[\"광시간(명/암)min\"].isnull().sum()"
   ]
  },
  {
   "cell_type": "code",
   "execution_count": 70,
   "metadata": {
    "colab": {
     "base_uri": "https://localhost:8080/"
    },
    "executionInfo": {
     "elapsed": 50,
     "status": "ok",
     "timestamp": 1627268720331,
     "user": {
      "displayName": "정연우",
      "photoUrl": "",
      "userId": "10457408909297065633"
     },
     "user_tz": -540
    },
    "id": "RVwY9fg9wsuM",
    "outputId": "2bfb347a-676b-4504-b356-54e1bc029557"
   },
   "outputs": [
    {
     "name": "stderr",
     "output_type": "stream",
     "text": [
      "C:\\Users\\minjumg\\AppData\\Local\\Temp/ipykernel_10340/3572157500.py:1: SettingWithCopyWarning: \n",
      "A value is trying to be set on a copy of a slice from a DataFrame.\n",
      "Try using .loc[row_indexer,col_indexer] = value instead\n",
      "\n",
      "See the caveats in the documentation: https://pandas.pydata.org/pandas-docs/stable/user_guide/indexing.html#returning-a-view-versus-a-copy\n",
      "  df_first[\"광시간(명/암)min\"] = df_first[\"광시간(명/암)min\"].str.split(\"월\",expand=True)[0]\n"
     ]
    }
   ],
   "source": [
    "df_first[\"광시간(명/암)min\"] = df_first[\"광시간(명/암)min\"].str.split(\"월\",expand=True)[0]"
   ]
  },
  {
   "cell_type": "code",
   "execution_count": 71,
   "metadata": {
    "colab": {
     "base_uri": "https://localhost:8080/"
    },
    "executionInfo": {
     "elapsed": 46,
     "status": "ok",
     "timestamp": 1627268720332,
     "user": {
      "displayName": "정연우",
      "photoUrl": "",
      "userId": "10457408909297065633"
     },
     "user_tz": -540
    },
    "id": "H116eL3RvPX_",
    "outputId": "717aba4c-6e1c-4916-b612-7b3e50b5be65"
   },
   "outputs": [
    {
     "name": "stderr",
     "output_type": "stream",
     "text": [
      "C:\\Users\\minjumg\\AppData\\Local\\Temp/ipykernel_10340/410154263.py:1: SettingWithCopyWarning: \n",
      "A value is trying to be set on a copy of a slice from a DataFrame.\n",
      "Try using .loc[row_indexer,col_indexer] = value instead\n",
      "\n",
      "See the caveats in the documentation: https://pandas.pydata.org/pandas-docs/stable/user_guide/indexing.html#returning-a-view-versus-a-copy\n",
      "  df_first[\"광시간(명/암)min\"] = df_first[\"광시간(명/암)min\"].astype(\"float64\")\n"
     ]
    }
   ],
   "source": [
    "df_first[\"광시간(명/암)min\"] = df_first[\"광시간(명/암)min\"].astype(\"float64\")"
   ]
  },
  {
   "cell_type": "code",
   "execution_count": 72,
   "metadata": {
    "colab": {
     "base_uri": "https://localhost:8080/"
    },
    "executionInfo": {
     "elapsed": 272,
     "status": "ok",
     "timestamp": 1627268731567,
     "user": {
      "displayName": "정연우",
      "photoUrl": "",
      "userId": "10457408909297065633"
     },
     "user_tz": -540
    },
    "id": "DlOo8N0sxd7M",
    "outputId": "279a255b-c7ff-4483-8dba-53d3ae8bd378"
   },
   "outputs": [
    {
     "data": {
      "text/plain": [
       "12.0    211\n",
       "8.0      10\n",
       "Name: 광시간(명/암)min, dtype: int64"
      ]
     },
     "execution_count": 72,
     "metadata": {},
     "output_type": "execute_result"
    }
   ],
   "source": [
    "df_first[\"광시간(명/암)min\"].value_counts()"
   ]
  },
  {
   "cell_type": "code",
   "execution_count": 73,
   "metadata": {
    "executionInfo": {
     "elapsed": 388,
     "status": "ok",
     "timestamp": 1627268860101,
     "user": {
      "displayName": "정연우",
      "photoUrl": "",
      "userId": "10457408909297065633"
     },
     "user_tz": -540
    },
    "id": "jvbQaQO0vPX_"
   },
   "outputs": [],
   "source": [
    "min_in = 12"
   ]
  },
  {
   "cell_type": "code",
   "execution_count": 74,
   "metadata": {
    "colab": {
     "base_uri": "https://localhost:8080/"
    },
    "executionInfo": {
     "elapsed": 281,
     "status": "ok",
     "timestamp": 1627268865889,
     "user": {
      "displayName": "정연우",
      "photoUrl": "",
      "userId": "10457408909297065633"
     },
     "user_tz": -540
    },
    "id": "15z1yH1cvPYA",
    "outputId": "a53ab9b3-b3b1-4519-89d1-5c3d3ddf56da"
   },
   "outputs": [
    {
     "name": "stderr",
     "output_type": "stream",
     "text": [
      "C:\\Users\\minjumg\\AppData\\Local\\Temp/ipykernel_10340/3918973119.py:1: SettingWithCopyWarning: \n",
      "A value is trying to be set on a copy of a slice from a DataFrame.\n",
      "Try using .loc[row_indexer,col_indexer] = value instead\n",
      "\n",
      "See the caveats in the documentation: https://pandas.pydata.org/pandas-docs/stable/user_guide/indexing.html#returning-a-view-versus-a-copy\n",
      "  df_first[\"광시간(명/암)min\"] = df_first[\"광시간(명/암)min\"].fillna(min_in)\n"
     ]
    }
   ],
   "source": [
    "df_first[\"광시간(명/암)min\"] = df_first[\"광시간(명/암)min\"].fillna(min_in)"
   ]
  },
  {
   "cell_type": "code",
   "execution_count": 75,
   "metadata": {
    "colab": {
     "base_uri": "https://localhost:8080/"
    },
    "executionInfo": {
     "elapsed": 269,
     "status": "ok",
     "timestamp": 1627268878602,
     "user": {
      "displayName": "정연우",
      "photoUrl": "",
      "userId": "10457408909297065633"
     },
     "user_tz": -540
    },
    "id": "ezFq9EeBvPYA",
    "outputId": "13e35d3a-dc74-4170-f928-fa4880f253be"
   },
   "outputs": [
    {
     "name": "stderr",
     "output_type": "stream",
     "text": [
      "C:\\Users\\minjumg\\AppData\\Local\\Temp/ipykernel_10340/1692289003.py:1: SettingWithCopyWarning: \n",
      "A value is trying to be set on a copy of a slice from a DataFrame.\n",
      "Try using .loc[row_indexer,col_indexer] = value instead\n",
      "\n",
      "See the caveats in the documentation: https://pandas.pydata.org/pandas-docs/stable/user_guide/indexing.html#returning-a-view-versus-a-copy\n",
      "  df_first[\"광시간(명/암)min\"] = df_first[\"광시간(명/암)min\"].astype(\"int64\")\n"
     ]
    }
   ],
   "source": [
    "df_first[\"광시간(명/암)min\"] = df_first[\"광시간(명/암)min\"].astype(\"int64\")"
   ]
  },
  {
   "cell_type": "code",
   "execution_count": 76,
   "metadata": {
    "colab": {
     "base_uri": "https://localhost:8080/"
    },
    "executionInfo": {
     "elapsed": 271,
     "status": "ok",
     "timestamp": 1627268883684,
     "user": {
      "displayName": "정연우",
      "photoUrl": "",
      "userId": "10457408909297065633"
     },
     "user_tz": -540
    },
    "id": "WPYz3HA5vPYA",
    "outputId": "263d7e13-9bfc-46dd-de90-a2eff9e392af"
   },
   "outputs": [
    {
     "data": {
      "text/plain": [
       "12    322\n",
       "8      10\n",
       "Name: 광시간(명/암)min, dtype: int64"
      ]
     },
     "execution_count": 76,
     "metadata": {},
     "output_type": "execute_result"
    }
   ],
   "source": [
    "df_first[\"광시간(명/암)min\"].value_counts()"
   ]
  },
  {
   "cell_type": "code",
   "execution_count": 77,
   "metadata": {
    "colab": {
     "base_uri": "https://localhost:8080/"
    },
    "executionInfo": {
     "elapsed": 372,
     "status": "ok",
     "timestamp": 1627268889834,
     "user": {
      "displayName": "정연우",
      "photoUrl": "",
      "userId": "10457408909297065633"
     },
     "user_tz": -540
    },
    "id": "mpfFQOp0vPYB",
    "outputId": "6f9df5e9-d76f-4ab2-d0d0-379362eb2e8e"
   },
   "outputs": [
    {
     "data": {
      "text/plain": [
       "0"
      ]
     },
     "execution_count": 77,
     "metadata": {},
     "output_type": "execute_result"
    }
   ],
   "source": [
    "df_first[\"광시간(명/암)min\"].isnull().sum()"
   ]
  },
  {
   "cell_type": "markdown",
   "metadata": {
    "id": "JXc8mCBBvPYB"
   },
   "source": [
    "- 널값 처리 잘 된거 확인 가능"
   ]
  },
  {
   "cell_type": "markdown",
   "metadata": {
    "id": "tHaW01WtvPYB"
   },
   "source": [
    "#### 광시간(명/암)max 확인"
   ]
  },
  {
   "cell_type": "code",
   "execution_count": 78,
   "metadata": {
    "colab": {
     "base_uri": "https://localhost:8080/"
    },
    "executionInfo": {
     "elapsed": 292,
     "status": "ok",
     "timestamp": 1627269000034,
     "user": {
      "displayName": "정연우",
      "photoUrl": "",
      "userId": "10457408909297065633"
     },
     "user_tz": -540
    },
    "id": "xawfCNivyhvv",
    "outputId": "2ee0f977-a8e3-4519-e181-a3595964f838"
   },
   "outputs": [
    {
     "data": {
      "text/plain": [
       "array([nan, '12일', '16일'], dtype=object)"
      ]
     },
     "execution_count": 78,
     "metadata": {},
     "output_type": "execute_result"
    }
   ],
   "source": [
    "df_first[\"광시간(명/암)max\"].unique()"
   ]
  },
  {
   "cell_type": "code",
   "execution_count": 79,
   "metadata": {
    "colab": {
     "base_uri": "https://localhost:8080/"
    },
    "executionInfo": {
     "elapsed": 426,
     "status": "ok",
     "timestamp": 1627269005829,
     "user": {
      "displayName": "정연우",
      "photoUrl": "",
      "userId": "10457408909297065633"
     },
     "user_tz": -540
    },
    "id": "HFyUKs9Gyhvw",
    "outputId": "d3721212-37dc-4408-ab13-4915915aa33c"
   },
   "outputs": [
    {
     "data": {
      "text/plain": [
       "111"
      ]
     },
     "execution_count": 79,
     "metadata": {},
     "output_type": "execute_result"
    }
   ],
   "source": [
    "df_first[\"광시간(명/암)max\"].isnull().sum()"
   ]
  },
  {
   "cell_type": "code",
   "execution_count": 80,
   "metadata": {
    "colab": {
     "base_uri": "https://localhost:8080/"
    },
    "executionInfo": {
     "elapsed": 282,
     "status": "ok",
     "timestamp": 1627269022808,
     "user": {
      "displayName": "정연우",
      "photoUrl": "",
      "userId": "10457408909297065633"
     },
     "user_tz": -540
    },
    "id": "omKS_bYXyhvx",
    "outputId": "5146606c-6219-4749-ac7e-d8bcab4000a5"
   },
   "outputs": [
    {
     "name": "stderr",
     "output_type": "stream",
     "text": [
      "C:\\Users\\minjumg\\AppData\\Local\\Temp/ipykernel_10340/1792580242.py:1: SettingWithCopyWarning: \n",
      "A value is trying to be set on a copy of a slice from a DataFrame.\n",
      "Try using .loc[row_indexer,col_indexer] = value instead\n",
      "\n",
      "See the caveats in the documentation: https://pandas.pydata.org/pandas-docs/stable/user_guide/indexing.html#returning-a-view-versus-a-copy\n",
      "  df_first[\"광시간(명/암)max\"] = df_first[\"광시간(명/암)max\"].str.split(\"일\",expand=True)[0]\n"
     ]
    }
   ],
   "source": [
    "df_first[\"광시간(명/암)max\"] = df_first[\"광시간(명/암)max\"].str.split(\"일\",expand=True)[0]"
   ]
  },
  {
   "cell_type": "code",
   "execution_count": 81,
   "metadata": {
    "colab": {
     "base_uri": "https://localhost:8080/"
    },
    "executionInfo": {
     "elapsed": 279,
     "status": "ok",
     "timestamp": 1627269037692,
     "user": {
      "displayName": "정연우",
      "photoUrl": "",
      "userId": "10457408909297065633"
     },
     "user_tz": -540
    },
    "id": "-SeDdoWtyhvx",
    "outputId": "d7bae21b-a0f7-412c-9a5c-0a23439c8e9c"
   },
   "outputs": [
    {
     "name": "stderr",
     "output_type": "stream",
     "text": [
      "C:\\Users\\minjumg\\AppData\\Local\\Temp/ipykernel_10340/1903711065.py:1: SettingWithCopyWarning: \n",
      "A value is trying to be set on a copy of a slice from a DataFrame.\n",
      "Try using .loc[row_indexer,col_indexer] = value instead\n",
      "\n",
      "See the caveats in the documentation: https://pandas.pydata.org/pandas-docs/stable/user_guide/indexing.html#returning-a-view-versus-a-copy\n",
      "  df_first[\"광시간(명/암)max\"] = df_first[\"광시간(명/암)max\"].astype(\"float64\")\n"
     ]
    }
   ],
   "source": [
    "df_first[\"광시간(명/암)max\"] = df_first[\"광시간(명/암)max\"].astype(\"float64\")"
   ]
  },
  {
   "cell_type": "code",
   "execution_count": 82,
   "metadata": {
    "colab": {
     "base_uri": "https://localhost:8080/"
    },
    "executionInfo": {
     "elapsed": 264,
     "status": "ok",
     "timestamp": 1627269042878,
     "user": {
      "displayName": "정연우",
      "photoUrl": "",
      "userId": "10457408909297065633"
     },
     "user_tz": -540
    },
    "id": "f-0feEaoyhvy",
    "outputId": "82a3441f-e0ef-4890-a313-ae5fd6752f53"
   },
   "outputs": [
    {
     "data": {
      "text/plain": [
       "12.0    211\n",
       "16.0     10\n",
       "Name: 광시간(명/암)max, dtype: int64"
      ]
     },
     "execution_count": 82,
     "metadata": {},
     "output_type": "execute_result"
    }
   ],
   "source": [
    "df_first[\"광시간(명/암)max\"].value_counts()"
   ]
  },
  {
   "cell_type": "code",
   "execution_count": 83,
   "metadata": {
    "executionInfo": {
     "elapsed": 9,
     "status": "ok",
     "timestamp": 1627269053732,
     "user": {
      "displayName": "정연우",
      "photoUrl": "",
      "userId": "10457408909297065633"
     },
     "user_tz": -540
    },
    "id": "LCsub_F7yhvy"
   },
   "outputs": [],
   "source": [
    "max_in = 12"
   ]
  },
  {
   "cell_type": "code",
   "execution_count": 84,
   "metadata": {
    "colab": {
     "base_uri": "https://localhost:8080/"
    },
    "executionInfo": {
     "elapsed": 310,
     "status": "ok",
     "timestamp": 1627269066412,
     "user": {
      "displayName": "정연우",
      "photoUrl": "",
      "userId": "10457408909297065633"
     },
     "user_tz": -540
    },
    "id": "IP3WhpJvyhvy",
    "outputId": "1888b208-30be-49ae-bd01-9435fe4fe73b"
   },
   "outputs": [
    {
     "name": "stderr",
     "output_type": "stream",
     "text": [
      "C:\\Users\\minjumg\\AppData\\Local\\Temp/ipykernel_10340/3575030936.py:1: SettingWithCopyWarning: \n",
      "A value is trying to be set on a copy of a slice from a DataFrame.\n",
      "Try using .loc[row_indexer,col_indexer] = value instead\n",
      "\n",
      "See the caveats in the documentation: https://pandas.pydata.org/pandas-docs/stable/user_guide/indexing.html#returning-a-view-versus-a-copy\n",
      "  df_first[\"광시간(명/암)max\"] = df_first[\"광시간(명/암)max\"].fillna(max_in)\n"
     ]
    }
   ],
   "source": [
    "df_first[\"광시간(명/암)max\"] = df_first[\"광시간(명/암)max\"].fillna(max_in)"
   ]
  },
  {
   "cell_type": "code",
   "execution_count": 85,
   "metadata": {
    "colab": {
     "base_uri": "https://localhost:8080/"
    },
    "executionInfo": {
     "elapsed": 5,
     "status": "ok",
     "timestamp": 1627269076010,
     "user": {
      "displayName": "정연우",
      "photoUrl": "",
      "userId": "10457408909297065633"
     },
     "user_tz": -540
    },
    "id": "l4bWLhhPyhvz",
    "outputId": "e41852aa-bf26-47a9-e987-22a6341d93b0"
   },
   "outputs": [
    {
     "name": "stderr",
     "output_type": "stream",
     "text": [
      "C:\\Users\\minjumg\\AppData\\Local\\Temp/ipykernel_10340/269955777.py:1: SettingWithCopyWarning: \n",
      "A value is trying to be set on a copy of a slice from a DataFrame.\n",
      "Try using .loc[row_indexer,col_indexer] = value instead\n",
      "\n",
      "See the caveats in the documentation: https://pandas.pydata.org/pandas-docs/stable/user_guide/indexing.html#returning-a-view-versus-a-copy\n",
      "  df_first[\"광시간(명/암)max\"] = df_first[\"광시간(명/암)max\"].astype(\"int64\")\n"
     ]
    }
   ],
   "source": [
    "df_first[\"광시간(명/암)max\"] = df_first[\"광시간(명/암)max\"].astype(\"int64\")"
   ]
  },
  {
   "cell_type": "code",
   "execution_count": 86,
   "metadata": {
    "colab": {
     "base_uri": "https://localhost:8080/"
    },
    "executionInfo": {
     "elapsed": 342,
     "status": "ok",
     "timestamp": 1627269081673,
     "user": {
      "displayName": "정연우",
      "photoUrl": "",
      "userId": "10457408909297065633"
     },
     "user_tz": -540
    },
    "id": "jAKfyYnRyhv0",
    "outputId": "4b2c07d9-ac75-495a-e2fd-32a3dff11e22"
   },
   "outputs": [
    {
     "data": {
      "text/plain": [
       "12    322\n",
       "16     10\n",
       "Name: 광시간(명/암)max, dtype: int64"
      ]
     },
     "execution_count": 86,
     "metadata": {},
     "output_type": "execute_result"
    }
   ],
   "source": [
    "df_first[\"광시간(명/암)max\"].value_counts()"
   ]
  },
  {
   "cell_type": "code",
   "execution_count": 87,
   "metadata": {
    "colab": {
     "base_uri": "https://localhost:8080/"
    },
    "executionInfo": {
     "elapsed": 288,
     "status": "ok",
     "timestamp": 1627269086140,
     "user": {
      "displayName": "정연우",
      "photoUrl": "",
      "userId": "10457408909297065633"
     },
     "user_tz": -540
    },
    "id": "4luKnnqpyhv0",
    "outputId": "5bc2967a-f70c-4aa9-9515-adb75da5d1a9"
   },
   "outputs": [
    {
     "data": {
      "text/plain": [
       "0"
      ]
     },
     "execution_count": 87,
     "metadata": {},
     "output_type": "execute_result"
    }
   ],
   "source": [
    "df_first[\"광시간(명/암)max\"].isnull().sum()"
   ]
  },
  {
   "cell_type": "markdown",
   "metadata": {
    "id": "0C6Irdiwyhv1"
   },
   "source": [
    "- 널값 처리 잘 된거 확인 가능"
   ]
  },
  {
   "cell_type": "markdown",
   "metadata": {
    "id": "lOwCesTDzLPD"
   },
   "source": [
    "## 위의 전처리 한 데이터 csv파일로 저장"
   ]
  },
  {
   "cell_type": "code",
   "execution_count": 88,
   "metadata": {},
   "outputs": [
    {
     "data": {
      "text/plain": [
       "Index(['일자', '업무', '실내습도(%)', '실내온도(℃)', 'pH', 'EC', '수온(℃)', '광시간(명/암)',\n",
       "       '수온(℃)보정', 'pH보정', 'EC보정', '기타', '년도', '실내습도(%)min', '실내습도(%)max',\n",
       "       '실내온도min', '실내온도max', '광시간(명/암)min', '광시간(명/암)max'],\n",
       "      dtype='object')"
      ]
     },
     "execution_count": 88,
     "metadata": {},
     "output_type": "execute_result"
    }
   ],
   "source": [
    "df_first.columns"
   ]
  },
  {
   "cell_type": "code",
   "execution_count": 89,
   "metadata": {},
   "outputs": [
    {
     "data": {
      "text/html": [
       "<div>\n",
       "<style scoped>\n",
       "    .dataframe tbody tr th:only-of-type {\n",
       "        vertical-align: middle;\n",
       "    }\n",
       "\n",
       "    .dataframe tbody tr th {\n",
       "        vertical-align: top;\n",
       "    }\n",
       "\n",
       "    .dataframe thead th {\n",
       "        text-align: right;\n",
       "    }\n",
       "</style>\n",
       "<table border=\"1\" class=\"dataframe\">\n",
       "  <thead>\n",
       "    <tr style=\"text-align: right;\">\n",
       "      <th></th>\n",
       "      <th>년도</th>\n",
       "      <th>일자</th>\n",
       "      <th>업무</th>\n",
       "      <th>실내습도(%)min</th>\n",
       "      <th>실내습도(%)max</th>\n",
       "      <th>실내온도min</th>\n",
       "      <th>실내온도max</th>\n",
       "      <th>광시간(명/암)min</th>\n",
       "      <th>광시간(명/암)max</th>\n",
       "      <th>수온(℃)보정</th>\n",
       "      <th>pH보정</th>\n",
       "      <th>EC보정</th>\n",
       "      <th>기타</th>\n",
       "    </tr>\n",
       "  </thead>\n",
       "  <tbody>\n",
       "    <tr>\n",
       "      <th>65</th>\n",
       "      <td>2020</td>\n",
       "      <td>03월 06일</td>\n",
       "      <td>묘삼 발아</td>\n",
       "      <td>69</td>\n",
       "      <td>76</td>\n",
       "      <td>20.0</td>\n",
       "      <td>21.0</td>\n",
       "      <td>12</td>\n",
       "      <td>12</td>\n",
       "      <td>NaN</td>\n",
       "      <td>NaN</td>\n",
       "      <td>NaN</td>\n",
       "      <td>석회보르도 1000ppm, 10분 살균\\n23℃, 광공급(2줄)</td>\n",
       "    </tr>\n",
       "    <tr>\n",
       "      <th>66</th>\n",
       "      <td>2020</td>\n",
       "      <td>03월 07일</td>\n",
       "      <td>업무없음</td>\n",
       "      <td>69</td>\n",
       "      <td>76</td>\n",
       "      <td>20.0</td>\n",
       "      <td>21.0</td>\n",
       "      <td>12</td>\n",
       "      <td>12</td>\n",
       "      <td>NaN</td>\n",
       "      <td>NaN</td>\n",
       "      <td>NaN</td>\n",
       "      <td>NaN</td>\n",
       "    </tr>\n",
       "    <tr>\n",
       "      <th>67</th>\n",
       "      <td>2020</td>\n",
       "      <td>03월 08일</td>\n",
       "      <td>업무없음</td>\n",
       "      <td>69</td>\n",
       "      <td>76</td>\n",
       "      <td>20.0</td>\n",
       "      <td>21.0</td>\n",
       "      <td>12</td>\n",
       "      <td>12</td>\n",
       "      <td>NaN</td>\n",
       "      <td>NaN</td>\n",
       "      <td>NaN</td>\n",
       "      <td>NaN</td>\n",
       "    </tr>\n",
       "    <tr>\n",
       "      <th>68</th>\n",
       "      <td>2020</td>\n",
       "      <td>03월 09일</td>\n",
       "      <td>업무없음</td>\n",
       "      <td>69</td>\n",
       "      <td>76</td>\n",
       "      <td>20.0</td>\n",
       "      <td>21.0</td>\n",
       "      <td>12</td>\n",
       "      <td>12</td>\n",
       "      <td>NaN</td>\n",
       "      <td>NaN</td>\n",
       "      <td>NaN</td>\n",
       "      <td>곰팡이 발생</td>\n",
       "    </tr>\n",
       "    <tr>\n",
       "      <th>69</th>\n",
       "      <td>2020</td>\n",
       "      <td>03월 10일</td>\n",
       "      <td>업무없음</td>\n",
       "      <td>63</td>\n",
       "      <td>67</td>\n",
       "      <td>19.5</td>\n",
       "      <td>21.7</td>\n",
       "      <td>12</td>\n",
       "      <td>12</td>\n",
       "      <td>NaN</td>\n",
       "      <td>NaN</td>\n",
       "      <td>NaN</td>\n",
       "      <td>NaN</td>\n",
       "    </tr>\n",
       "  </tbody>\n",
       "</table>\n",
       "</div>"
      ],
      "text/plain": [
       "      년도       일자     업무  실내습도(%)min  실내습도(%)max  실내온도min  실내온도max  \\\n",
       "65  2020  03월 06일  묘삼 발아          69          76     20.0     21.0   \n",
       "66  2020  03월 07일   업무없음          69          76     20.0     21.0   \n",
       "67  2020  03월 08일   업무없음          69          76     20.0     21.0   \n",
       "68  2020  03월 09일   업무없음          69          76     20.0     21.0   \n",
       "69  2020  03월 10일   업무없음          63          67     19.5     21.7   \n",
       "\n",
       "    광시간(명/암)min  광시간(명/암)max 수온(℃)보정 pH보정 EC보정  \\\n",
       "65           12           12     NaN  NaN  NaN   \n",
       "66           12           12     NaN  NaN  NaN   \n",
       "67           12           12     NaN  NaN  NaN   \n",
       "68           12           12     NaN  NaN  NaN   \n",
       "69           12           12     NaN  NaN  NaN   \n",
       "\n",
       "                                     기타  \n",
       "65  석회보르도 1000ppm, 10분 살균\\n23℃, 광공급(2줄)  \n",
       "66                                  NaN  \n",
       "67                                  NaN  \n",
       "68                               곰팡이 발생  \n",
       "69                                  NaN  "
      ]
     },
     "execution_count": 89,
     "metadata": {},
     "output_type": "execute_result"
    }
   ],
   "source": [
    "cols = ['년도', '일자', '업무', '실내습도(%)min', '실내습도(%)max', '실내온도min', '실내온도max',\n",
    "        '광시간(명/암)min', '광시간(명/암)max', '수온(℃)보정', 'pH보정', 'EC보정', '기타']\n",
    "\n",
    "# df_first\n",
    "df_first[cols].head() # 컬럼 재정렬"
   ]
  },
  {
   "cell_type": "code",
   "execution_count": null,
   "metadata": {},
   "outputs": [],
   "source": []
  }
 ],
 "metadata": {
  "colab": {
   "authorship_tag": "ABX9TyODtT1woHBHGzpv5+n+FuYR",
   "collapsed_sections": [],
   "mount_file_id": "1TIslKIyWGzGpXyW7tFuJj0Te7-eZYcFZ",
   "name": "수경인삼발아.ipynb",
   "provenance": []
  },
  "kernelspec": {
   "display_name": "Python 3 (ipykernel)",
   "language": "python",
   "name": "python3"
  },
  "language_info": {
   "codemirror_mode": {
    "name": "ipython",
    "version": 3
   },
   "file_extension": ".py",
   "mimetype": "text/x-python",
   "name": "python",
   "nbconvert_exporter": "python",
   "pygments_lexer": "ipython3",
   "version": "3.8.10"
  }
 },
 "nbformat": 4,
 "nbformat_minor": 1
}
